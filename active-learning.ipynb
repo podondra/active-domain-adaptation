{
 "cells": [
  {
   "cell_type": "code",
   "execution_count": 1,
   "id": "923879c1-b3f3-47fd-9813-c3d95d4f78f2",
   "metadata": {},
   "outputs": [],
   "source": [
    "using BSON\n",
    "using Flux\n",
    "using HDF5\n",
    "using Plots"
   ]
  },
  {
   "cell_type": "code",
   "execution_count": 2,
   "id": "4c6a1ca5-ddbe-49e2-8e81-b2eeafb1d8e2",
   "metadata": {},
   "outputs": [],
   "source": [
    "include(\"ActiveLearning.jl\")\n",
    "include(\"DataSets.jl\")\n",
    "using .ActiveLearning\n",
    "using .DataSets"
   ]
  },
  {
   "cell_type": "code",
   "execution_count": 3,
   "id": "da1e02a5-222e-40e1-a9cc-b129600dc160",
   "metadata": {},
   "outputs": [
    {
     "data": {
      "text/plain": [
       "((32, 32, 1, 60000), (32, 32, 1, 10000))"
      ]
     },
     "execution_count": 3,
     "metadata": {},
     "output_type": "execute_result"
    }
   ],
   "source": [
    "X_mnist_train, y_mnist_train, X_mnist_test, y_mnist_test = prepare_mnist(get_mnist(\"data/mnist\"))\n",
    "size(X_mnist_train), size(X_mnist_test)"
   ]
  },
  {
   "cell_type": "code",
   "execution_count": 7,
   "id": "d8802a1c-5b39-4af1-ab1d-3719c64fe90e",
   "metadata": {},
   "outputs": [
    {
     "name": "stdin",
     "output_type": "stream",
     "text": [
      "stdin>  index_label_1\n"
     ]
    },
    {
     "name": "stderr",
     "output_type": "stream",
     "text": [
      "┌ Warning: Number of observations less than batchsize, decreasing the batchsize to 10\n",
      "└ @ Flux.Data /home/podszond/.julia/packages/Flux/BPPNj/src/data/dataloader.jl:82\n",
      "┌ Info: performance\n",
      "│   round = 1\n",
      "│   accuracy_round = 0.6951\n",
      "└ @ Main.ActiveLearning /home/podszond/active-domain-adaptation/ActiveLearning.jl:73\n"
     ]
    },
    {
     "name": "stdin",
     "output_type": "stream",
     "text": [
      "stdin>  index_label_2\n"
     ]
    },
    {
     "name": "stderr",
     "output_type": "stream",
     "text": [
      "┌ Warning: Number of observations less than batchsize, decreasing the batchsize to 20\n",
      "└ @ Flux.Data /home/podszond/.julia/packages/Flux/BPPNj/src/data/dataloader.jl:82\n",
      "┌ Info: performance\n",
      "│   round = 2\n",
      "│   accuracy_round = 0.7834\n",
      "└ @ Main.ActiveLearning /home/podszond/active-domain-adaptation/ActiveLearning.jl:73\n"
     ]
    },
    {
     "name": "stdin",
     "output_type": "stream",
     "text": [
      "stdin>  index_label_3\n"
     ]
    },
    {
     "name": "stderr",
     "output_type": "stream",
     "text": [
      "┌ Warning: Number of observations less than batchsize, decreasing the batchsize to 30\n",
      "└ @ Flux.Data /home/podszond/.julia/packages/Flux/BPPNj/src/data/dataloader.jl:82\n",
      "┌ Info: performance\n",
      "│   round = 3\n",
      "│   accuracy_round = 0.7916\n",
      "└ @ Main.ActiveLearning /home/podszond/active-domain-adaptation/ActiveLearning.jl:73\n"
     ]
    },
    {
     "name": "stdin",
     "output_type": "stream",
     "text": [
      "stdin>  index_label_4\n"
     ]
    },
    {
     "name": "stderr",
     "output_type": "stream",
     "text": [
      "┌ Warning: Number of observations less than batchsize, decreasing the batchsize to 40\n",
      "└ @ Flux.Data /home/podszond/.julia/packages/Flux/BPPNj/src/data/dataloader.jl:82\n",
      "┌ Info: performance\n",
      "│   round = 4\n",
      "│   accuracy_round = 0.8709\n",
      "└ @ Main.ActiveLearning /home/podszond/active-domain-adaptation/ActiveLearning.jl:73\n"
     ]
    },
    {
     "name": "stdin",
     "output_type": "stream",
     "text": [
      "stdin>  index_label_5\n"
     ]
    },
    {
     "name": "stderr",
     "output_type": "stream",
     "text": [
      "┌ Warning: Number of observations less than batchsize, decreasing the batchsize to 50\n",
      "└ @ Flux.Data /home/podszond/.julia/packages/Flux/BPPNj/src/data/dataloader.jl:82\n",
      "┌ Info: performance\n",
      "│   round = 5\n",
      "│   accuracy_round = 0.8826\n",
      "└ @ Main.ActiveLearning /home/podszond/active-domain-adaptation/ActiveLearning.jl:73\n"
     ]
    },
    {
     "name": "stdin",
     "output_type": "stream",
     "text": [
      "stdin>  index_label_6\n"
     ]
    },
    {
     "name": "stderr",
     "output_type": "stream",
     "text": [
      "┌ Warning: Number of observations less than batchsize, decreasing the batchsize to 60\n",
      "└ @ Flux.Data /home/podszond/.julia/packages/Flux/BPPNj/src/data/dataloader.jl:82\n",
      "┌ Info: performance\n",
      "│   round = 6\n",
      "│   accuracy_round = 0.886\n",
      "└ @ Main.ActiveLearning /home/podszond/active-domain-adaptation/ActiveLearning.jl:73\n"
     ]
    },
    {
     "name": "stdin",
     "output_type": "stream",
     "text": [
      "stdin>  index_label_7\n"
     ]
    },
    {
     "name": "stderr",
     "output_type": "stream",
     "text": [
      "┌ Warning: Number of observations less than batchsize, decreasing the batchsize to 70\n",
      "└ @ Flux.Data /home/podszond/.julia/packages/Flux/BPPNj/src/data/dataloader.jl:82\n",
      "┌ Info: performance\n",
      "│   round = 7\n",
      "│   accuracy_round = 0.9171\n",
      "└ @ Main.ActiveLearning /home/podszond/active-domain-adaptation/ActiveLearning.jl:73\n"
     ]
    },
    {
     "name": "stdin",
     "output_type": "stream",
     "text": [
      "stdin>  index_label_8\n"
     ]
    },
    {
     "name": "stderr",
     "output_type": "stream",
     "text": [
      "┌ Warning: Number of observations less than batchsize, decreasing the batchsize to 80\n",
      "└ @ Flux.Data /home/podszond/.julia/packages/Flux/BPPNj/src/data/dataloader.jl:82\n",
      "┌ Info: performance\n",
      "│   round = 8\n",
      "│   accuracy_round = 0.916\n",
      "└ @ Main.ActiveLearning /home/podszond/active-domain-adaptation/ActiveLearning.jl:73\n"
     ]
    },
    {
     "name": "stdin",
     "output_type": "stream",
     "text": [
      "stdin>  index_label_9\n"
     ]
    },
    {
     "name": "stderr",
     "output_type": "stream",
     "text": [
      "┌ Warning: Number of observations less than batchsize, decreasing the batchsize to 90\n",
      "└ @ Flux.Data /home/podszond/.julia/packages/Flux/BPPNj/src/data/dataloader.jl:82\n",
      "┌ Info: performance\n",
      "│   round = 9\n",
      "│   accuracy_round = 0.9296\n",
      "└ @ Main.ActiveLearning /home/podszond/active-domain-adaptation/ActiveLearning.jl:73\n"
     ]
    },
    {
     "name": "stdin",
     "output_type": "stream",
     "text": [
      "stdin>  index_label_10\n"
     ]
    },
    {
     "name": "stderr",
     "output_type": "stream",
     "text": [
      "┌ Warning: Number of observations less than batchsize, decreasing the batchsize to 100\n",
      "└ @ Flux.Data /home/podszond/.julia/packages/Flux/BPPNj/src/data/dataloader.jl:82\n",
      "┌ Info: performance\n",
      "│   round = 10\n",
      "│   accuracy_round = 0.9443\n",
      "└ @ Main.ActiveLearning /home/podszond/active-domain-adaptation/ActiveLearning.jl:73\n"
     ]
    },
    {
     "name": "stdin",
     "output_type": "stream",
     "text": [
      "stdin>  index_label_11\n"
     ]
    },
    {
     "name": "stderr",
     "output_type": "stream",
     "text": [
      "┌ Warning: Number of observations less than batchsize, decreasing the batchsize to 110\n",
      "└ @ Flux.Data /home/podszond/.julia/packages/Flux/BPPNj/src/data/dataloader.jl:82\n",
      "┌ Info: performance\n",
      "│   round = 11\n",
      "│   accuracy_round = 0.9435\n",
      "└ @ Main.ActiveLearning /home/podszond/active-domain-adaptation/ActiveLearning.jl:73\n"
     ]
    },
    {
     "name": "stdin",
     "output_type": "stream",
     "text": [
      "stdin>  index_label_12\n"
     ]
    },
    {
     "name": "stderr",
     "output_type": "stream",
     "text": [
      "┌ Warning: Number of observations less than batchsize, decreasing the batchsize to 120\n",
      "└ @ Flux.Data /home/podszond/.julia/packages/Flux/BPPNj/src/data/dataloader.jl:82\n",
      "┌ Info: performance\n",
      "│   round = 12\n",
      "│   accuracy_round = 0.9535\n",
      "└ @ Main.ActiveLearning /home/podszond/active-domain-adaptation/ActiveLearning.jl:73\n"
     ]
    },
    {
     "name": "stdin",
     "output_type": "stream",
     "text": [
      "stdin>  index_label_13\n"
     ]
    },
    {
     "name": "stderr",
     "output_type": "stream",
     "text": [
      "┌ Info: performance\n",
      "│   round = 13\n",
      "│   accuracy_round = 0.9548\n",
      "└ @ Main.ActiveLearning /home/podszond/active-domain-adaptation/ActiveLearning.jl:73\n"
     ]
    },
    {
     "name": "stdin",
     "output_type": "stream",
     "text": [
      "stdin>  index_label_14\n"
     ]
    },
    {
     "name": "stderr",
     "output_type": "stream",
     "text": [
      "┌ Info: performance\n",
      "│   round = 14\n",
      "│   accuracy_round = 0.9613\n",
      "└ @ Main.ActiveLearning /home/podszond/active-domain-adaptation/ActiveLearning.jl:73\n"
     ]
    },
    {
     "name": "stdin",
     "output_type": "stream",
     "text": [
      "stdin>  index_label_15\n"
     ]
    },
    {
     "name": "stderr",
     "output_type": "stream",
     "text": [
      "┌ Info: performance\n",
      "│   round = 15\n",
      "│   accuracy_round = 0.9576\n",
      "└ @ Main.ActiveLearning /home/podszond/active-domain-adaptation/ActiveLearning.jl:73\n"
     ]
    },
    {
     "name": "stdin",
     "output_type": "stream",
     "text": [
      "stdin>  index_label_16\n"
     ]
    },
    {
     "name": "stderr",
     "output_type": "stream",
     "text": [
      "┌ Info: performance\n",
      "│   round = 16\n",
      "│   accuracy_round = 0.9618\n",
      "└ @ Main.ActiveLearning /home/podszond/active-domain-adaptation/ActiveLearning.jl:73\n"
     ]
    },
    {
     "name": "stdin",
     "output_type": "stream",
     "text": [
      "stdin>  index_label_17\n"
     ]
    },
    {
     "name": "stderr",
     "output_type": "stream",
     "text": [
      "┌ Info: performance\n",
      "│   round = 17\n",
      "│   accuracy_round = 0.9667\n",
      "└ @ Main.ActiveLearning /home/podszond/active-domain-adaptation/ActiveLearning.jl:73\n"
     ]
    },
    {
     "name": "stdin",
     "output_type": "stream",
     "text": [
      "stdin>  index_label_18\n"
     ]
    },
    {
     "name": "stderr",
     "output_type": "stream",
     "text": [
      "┌ Info: performance\n",
      "│   round = 18\n",
      "│   accuracy_round = 0.9715\n",
      "└ @ Main.ActiveLearning /home/podszond/active-domain-adaptation/ActiveLearning.jl:73\n"
     ]
    },
    {
     "name": "stdin",
     "output_type": "stream",
     "text": [
      "stdin>  index_label_19\n"
     ]
    },
    {
     "name": "stderr",
     "output_type": "stream",
     "text": [
      "┌ Info: performance\n",
      "│   round = 19\n",
      "│   accuracy_round = 0.972\n",
      "└ @ Main.ActiveLearning /home/podszond/active-domain-adaptation/ActiveLearning.jl:73\n"
     ]
    },
    {
     "name": "stdin",
     "output_type": "stream",
     "text": [
      "stdin>  index_label_20\n"
     ]
    },
    {
     "name": "stderr",
     "output_type": "stream",
     "text": [
      "┌ Info: performance\n",
      "│   round = 20\n",
      "│   accuracy_round = 0.9726\n",
      "└ @ Main.ActiveLearning /home/podszond/active-domain-adaptation/ActiveLearning.jl:73\n"
     ]
    },
    {
     "name": "stdin",
     "output_type": "stream",
     "text": [
      "stdin>  index_label_21\n"
     ]
    },
    {
     "name": "stderr",
     "output_type": "stream",
     "text": [
      "┌ Info: performance\n",
      "│   round = 21\n",
      "│   accuracy_round = 0.9736\n",
      "└ @ Main.ActiveLearning /home/podszond/active-domain-adaptation/ActiveLearning.jl:73\n"
     ]
    },
    {
     "name": "stdin",
     "output_type": "stream",
     "text": [
      "stdin>  index_label_22\n"
     ]
    },
    {
     "name": "stderr",
     "output_type": "stream",
     "text": [
      "┌ Info: performance\n",
      "│   round = 22\n",
      "│   accuracy_round = 0.973\n",
      "└ @ Main.ActiveLearning /home/podszond/active-domain-adaptation/ActiveLearning.jl:73\n"
     ]
    },
    {
     "name": "stdin",
     "output_type": "stream",
     "text": [
      "stdin>  index_label_23\n"
     ]
    },
    {
     "name": "stderr",
     "output_type": "stream",
     "text": [
      "┌ Info: performance\n",
      "│   round = 23\n",
      "│   accuracy_round = 0.9766\n",
      "└ @ Main.ActiveLearning /home/podszond/active-domain-adaptation/ActiveLearning.jl:73\n"
     ]
    },
    {
     "name": "stdin",
     "output_type": "stream",
     "text": [
      "stdin>  index_label_24\n"
     ]
    },
    {
     "name": "stderr",
     "output_type": "stream",
     "text": [
      "┌ Info: performance\n",
      "│   round = 24\n",
      "│   accuracy_round = 0.9753\n",
      "└ @ Main.ActiveLearning /home/podszond/active-domain-adaptation/ActiveLearning.jl:73\n"
     ]
    },
    {
     "name": "stdin",
     "output_type": "stream",
     "text": [
      "stdin>  index_label_25\n"
     ]
    },
    {
     "name": "stderr",
     "output_type": "stream",
     "text": [
      "┌ Info: performance\n",
      "│   round = 25\n",
      "│   accuracy_round = 0.9762\n",
      "└ @ Main.ActiveLearning /home/podszond/active-domain-adaptation/ActiveLearning.jl:73\n"
     ]
    },
    {
     "name": "stdin",
     "output_type": "stream",
     "text": [
      "stdin>  index_label_26\n"
     ]
    },
    {
     "name": "stderr",
     "output_type": "stream",
     "text": [
      "┌ Info: performance\n",
      "│   round = 26\n",
      "│   accuracy_round = 0.9692\n",
      "└ @ Main.ActiveLearning /home/podszond/active-domain-adaptation/ActiveLearning.jl:73\n"
     ]
    },
    {
     "name": "stdin",
     "output_type": "stream",
     "text": [
      "stdin>  index_label_27\n"
     ]
    },
    {
     "name": "stderr",
     "output_type": "stream",
     "text": [
      "┌ Info: performance\n",
      "│   round = 27\n",
      "│   accuracy_round = 0.9774\n",
      "└ @ Main.ActiveLearning /home/podszond/active-domain-adaptation/ActiveLearning.jl:73\n"
     ]
    },
    {
     "name": "stdin",
     "output_type": "stream",
     "text": [
      "stdin>  index_label_27\n"
     ]
    },
    {
     "name": "stderr",
     "output_type": "stream",
     "text": [
      "┌ Info: performance\n",
      "│   round = 28\n",
      "│   accuracy_round = 0.98\n",
      "└ @ Main.ActiveLearning /home/podszond/active-domain-adaptation/ActiveLearning.jl:73\n"
     ]
    },
    {
     "name": "stdin",
     "output_type": "stream",
     "text": [
      "stdin>  index_label_28\n"
     ]
    },
    {
     "name": "stderr",
     "output_type": "stream",
     "text": [
      "┌ Info: performance\n",
      "│   round = 29\n",
      "│   accuracy_round = 0.9768\n",
      "└ @ Main.ActiveLearning /home/podszond/active-domain-adaptation/ActiveLearning.jl:73\n"
     ]
    },
    {
     "name": "stdin",
     "output_type": "stream",
     "text": [
      "stdin>  index_label_29\n"
     ]
    },
    {
     "name": "stderr",
     "output_type": "stream",
     "text": [
      "┌ Info: performance\n",
      "│   round = 30\n",
      "│   accuracy_round = 0.9788\n",
      "└ @ Main.ActiveLearning /home/podszond/active-domain-adaptation/ActiveLearning.jl:73\n"
     ]
    },
    {
     "data": {
      "text/plain": [
       "(0:30, [0.6352, 0.6951, 0.7834, 0.7916, 0.8709, 0.8826, 0.886, 0.9171, 0.916, 0.9296  …  0.9736, 0.973, 0.9766, 0.9753, 0.9762, 0.9692, 0.9774, 0.98, 0.9768, 0.9788])"
      ]
     },
     "execution_count": 7,
     "metadata": {},
     "output_type": "execute_result"
    }
   ],
   "source": [
    "file = \"data/human_labeller.hdf5\"\n",
    "h5open(file, \"w\") do datafile\n",
    "    write(datafile, \"X\", X_mnist_train)\n",
    "    write(datafile, \"y\", y_mnist_train)\n",
    "end\n",
    "\n",
    "function human_labeller_wrap(index_query, prob_query, round)\n",
    "    human_labeller(index_query, prob_query, round, y_mnist_train, file)\n",
    "end \n",
    "\n",
    "rounds_human, accuracies_human = simulate_al(\n",
    "    entropy_sampling, human_labeller_wrap,\n",
    "    BSON.load(\"lenet.bson\")[:model],\n",
    "    X_mnist_train, y_mnist_train,\n",
    "    X_mnist_test, y_mnist_test,\n",
    "    n_query=100)"
   ]
  },
  {
   "cell_type": "code",
   "execution_count": 9,
   "id": "a638d1b5-5dea-4305-9fd4-a9eb089dc0fe",
   "metadata": {
    "tags": []
   },
   "outputs": [
    {
     "name": "stderr",
     "output_type": "stream",
     "text": [
      "┌ Warning: Number of observations less than batchsize, decreasing the batchsize to 10\n",
      "└ @ Flux.Data /home/podszond/.julia/packages/Flux/BPPNj/src/data/dataloader.jl:82\n",
      "┌ Info: performance\n",
      "│   round = 1\n",
      "│   accuracy_round = 0.674\n",
      "└ @ Main.ActiveLearning /home/podszond/active-domain-adaptation/ActiveLearning.jl:73\n",
      "┌ Warning: Number of observations less than batchsize, decreasing the batchsize to 20\n",
      "└ @ Flux.Data /home/podszond/.julia/packages/Flux/BPPNj/src/data/dataloader.jl:82\n",
      "┌ Info: performance\n",
      "│   round = 2\n",
      "│   accuracy_round = 0.7597\n",
      "└ @ Main.ActiveLearning /home/podszond/active-domain-adaptation/ActiveLearning.jl:73\n",
      "┌ Warning: Number of observations less than batchsize, decreasing the batchsize to 30\n",
      "└ @ Flux.Data /home/podszond/.julia/packages/Flux/BPPNj/src/data/dataloader.jl:82\n",
      "┌ Info: performance\n",
      "│   round = 3\n",
      "│   accuracy_round = 0.8293\n",
      "└ @ Main.ActiveLearning /home/podszond/active-domain-adaptation/ActiveLearning.jl:73\n",
      "┌ Warning: Number of observations less than batchsize, decreasing the batchsize to 40\n",
      "└ @ Flux.Data /home/podszond/.julia/packages/Flux/BPPNj/src/data/dataloader.jl:82\n",
      "┌ Info: performance\n",
      "│   round = 4\n",
      "│   accuracy_round = 0.8641\n",
      "└ @ Main.ActiveLearning /home/podszond/active-domain-adaptation/ActiveLearning.jl:73\n",
      "┌ Warning: Number of observations less than batchsize, decreasing the batchsize to 50\n",
      "└ @ Flux.Data /home/podszond/.julia/packages/Flux/BPPNj/src/data/dataloader.jl:82\n",
      "┌ Info: performance\n",
      "│   round = 5\n",
      "│   accuracy_round = 0.8819\n",
      "└ @ Main.ActiveLearning /home/podszond/active-domain-adaptation/ActiveLearning.jl:73\n",
      "┌ Warning: Number of observations less than batchsize, decreasing the batchsize to 60\n",
      "└ @ Flux.Data /home/podszond/.julia/packages/Flux/BPPNj/src/data/dataloader.jl:82\n",
      "┌ Info: performance\n",
      "│   round = 6\n",
      "│   accuracy_round = 0.8962\n",
      "└ @ Main.ActiveLearning /home/podszond/active-domain-adaptation/ActiveLearning.jl:73\n",
      "┌ Warning: Number of observations less than batchsize, decreasing the batchsize to 70\n",
      "└ @ Flux.Data /home/podszond/.julia/packages/Flux/BPPNj/src/data/dataloader.jl:82\n",
      "┌ Info: performance\n",
      "│   round = 7\n",
      "│   accuracy_round = 0.9104\n",
      "└ @ Main.ActiveLearning /home/podszond/active-domain-adaptation/ActiveLearning.jl:73\n",
      "┌ Warning: Number of observations less than batchsize, decreasing the batchsize to 80\n",
      "└ @ Flux.Data /home/podszond/.julia/packages/Flux/BPPNj/src/data/dataloader.jl:82\n",
      "┌ Info: performance\n",
      "│   round = 8\n",
      "│   accuracy_round = 0.9194\n",
      "└ @ Main.ActiveLearning /home/podszond/active-domain-adaptation/ActiveLearning.jl:73\n",
      "┌ Warning: Number of observations less than batchsize, decreasing the batchsize to 90\n",
      "└ @ Flux.Data /home/podszond/.julia/packages/Flux/BPPNj/src/data/dataloader.jl:82\n",
      "┌ Info: performance\n",
      "│   round = 9\n",
      "│   accuracy_round = 0.9247\n",
      "└ @ Main.ActiveLearning /home/podszond/active-domain-adaptation/ActiveLearning.jl:73\n",
      "┌ Warning: Number of observations less than batchsize, decreasing the batchsize to 100\n",
      "└ @ Flux.Data /home/podszond/.julia/packages/Flux/BPPNj/src/data/dataloader.jl:82\n",
      "┌ Info: performance\n",
      "│   round = 10\n",
      "│   accuracy_round = 0.9322\n",
      "└ @ Main.ActiveLearning /home/podszond/active-domain-adaptation/ActiveLearning.jl:73\n",
      "┌ Warning: Number of observations less than batchsize, decreasing the batchsize to 110\n",
      "└ @ Flux.Data /home/podszond/.julia/packages/Flux/BPPNj/src/data/dataloader.jl:82\n",
      "┌ Info: performance\n",
      "│   round = 11\n",
      "│   accuracy_round = 0.9336\n",
      "└ @ Main.ActiveLearning /home/podszond/active-domain-adaptation/ActiveLearning.jl:73\n",
      "┌ Warning: Number of observations less than batchsize, decreasing the batchsize to 120\n",
      "└ @ Flux.Data /home/podszond/.julia/packages/Flux/BPPNj/src/data/dataloader.jl:82\n",
      "┌ Info: performance\n",
      "│   round = 12\n",
      "│   accuracy_round = 0.9394\n",
      "└ @ Main.ActiveLearning /home/podszond/active-domain-adaptation/ActiveLearning.jl:73\n",
      "┌ Info: performance\n",
      "│   round = 13\n",
      "│   accuracy_round = 0.9306\n",
      "└ @ Main.ActiveLearning /home/podszond/active-domain-adaptation/ActiveLearning.jl:73\n",
      "┌ Info: performance\n",
      "│   round = 14\n",
      "│   accuracy_round = 0.9308\n",
      "└ @ Main.ActiveLearning /home/podszond/active-domain-adaptation/ActiveLearning.jl:73\n",
      "┌ Info: performance\n",
      "│   round = 15\n",
      "│   accuracy_round = 0.9425\n",
      "└ @ Main.ActiveLearning /home/podszond/active-domain-adaptation/ActiveLearning.jl:73\n",
      "┌ Info: performance\n",
      "│   round = 16\n",
      "│   accuracy_round = 0.9275\n",
      "└ @ Main.ActiveLearning /home/podszond/active-domain-adaptation/ActiveLearning.jl:73\n",
      "┌ Info: performance\n",
      "│   round = 17\n",
      "│   accuracy_round = 0.9438\n",
      "└ @ Main.ActiveLearning /home/podszond/active-domain-adaptation/ActiveLearning.jl:73\n",
      "┌ Info: performance\n",
      "│   round = 18\n",
      "│   accuracy_round = 0.9396\n",
      "└ @ Main.ActiveLearning /home/podszond/active-domain-adaptation/ActiveLearning.jl:73\n",
      "┌ Info: performance\n",
      "│   round = 19\n",
      "│   accuracy_round = 0.9357\n",
      "└ @ Main.ActiveLearning /home/podszond/active-domain-adaptation/ActiveLearning.jl:73\n",
      "┌ Info: performance\n",
      "│   round = 20\n",
      "│   accuracy_round = 0.946\n",
      "└ @ Main.ActiveLearning /home/podszond/active-domain-adaptation/ActiveLearning.jl:73\n",
      "┌ Info: performance\n",
      "│   round = 21\n",
      "│   accuracy_round = 0.9448\n",
      "└ @ Main.ActiveLearning /home/podszond/active-domain-adaptation/ActiveLearning.jl:73\n",
      "┌ Info: performance\n",
      "│   round = 22\n",
      "│   accuracy_round = 0.9482\n",
      "└ @ Main.ActiveLearning /home/podszond/active-domain-adaptation/ActiveLearning.jl:73\n",
      "┌ Info: performance\n",
      "│   round = 23\n",
      "│   accuracy_round = 0.941\n",
      "└ @ Main.ActiveLearning /home/podszond/active-domain-adaptation/ActiveLearning.jl:73\n",
      "┌ Info: performance\n",
      "│   round = 24\n",
      "│   accuracy_round = 0.9492\n",
      "└ @ Main.ActiveLearning /home/podszond/active-domain-adaptation/ActiveLearning.jl:73\n",
      "┌ Info: performance\n",
      "│   round = 25\n",
      "│   accuracy_round = 0.9519\n",
      "└ @ Main.ActiveLearning /home/podszond/active-domain-adaptation/ActiveLearning.jl:73\n",
      "┌ Info: performance\n",
      "│   round = 26\n",
      "│   accuracy_round = 0.9532\n",
      "└ @ Main.ActiveLearning /home/podszond/active-domain-adaptation/ActiveLearning.jl:73\n",
      "┌ Info: performance\n",
      "│   round = 27\n",
      "│   accuracy_round = 0.947\n",
      "└ @ Main.ActiveLearning /home/podszond/active-domain-adaptation/ActiveLearning.jl:73\n",
      "┌ Info: performance\n",
      "│   round = 28\n",
      "│   accuracy_round = 0.9411\n",
      "└ @ Main.ActiveLearning /home/podszond/active-domain-adaptation/ActiveLearning.jl:73\n",
      "┌ Info: performance\n",
      "│   round = 29\n",
      "│   accuracy_round = 0.9557\n",
      "└ @ Main.ActiveLearning /home/podszond/active-domain-adaptation/ActiveLearning.jl:73\n",
      "┌ Info: performance\n",
      "│   round = 30\n",
      "│   accuracy_round = 0.9549\n",
      "└ @ Main.ActiveLearning /home/podszond/active-domain-adaptation/ActiveLearning.jl:73\n"
     ]
    },
    {
     "data": {
      "text/plain": [
       "(0:30, [0.6352, 0.674, 0.7597, 0.8293, 0.8641, 0.8819, 0.8962, 0.9104, 0.9194, 0.9247  …  0.9448, 0.9482, 0.941, 0.9492, 0.9519, 0.9532, 0.947, 0.9411, 0.9557, 0.9549])"
      ]
     },
     "execution_count": 9,
     "metadata": {},
     "output_type": "execute_result"
    }
   ],
   "source": [
    "rounds_random, accuracies_random = simulate_al(\n",
    "    random_sampling, oracle,\n",
    "    BSON.load(\"lenet.bson\")[:model],\n",
    "    X_mnist_train, y_mnist_train,\n",
    "    X_mnist_test, y_mnist_test)"
   ]
  },
  {
   "cell_type": "code",
   "execution_count": 10,
   "id": "3f54fe0a-9ace-46ef-99b3-a8bd50328238",
   "metadata": {
    "tags": []
   },
   "outputs": [
    {
     "name": "stderr",
     "output_type": "stream",
     "text": [
      "┌ Warning: Number of observations less than batchsize, decreasing the batchsize to 10\n",
      "└ @ Flux.Data /home/podszond/.julia/packages/Flux/BPPNj/src/data/dataloader.jl:82\n",
      "┌ Info: performance\n",
      "│   round = 1\n",
      "│   accuracy_round = 0.6964\n",
      "└ @ Main.ActiveLearning /home/podszond/active-domain-adaptation/ActiveLearning.jl:73\n",
      "┌ Warning: Number of observations less than batchsize, decreasing the batchsize to 20\n",
      "└ @ Flux.Data /home/podszond/.julia/packages/Flux/BPPNj/src/data/dataloader.jl:82\n",
      "┌ Info: performance\n",
      "│   round = 2\n",
      "│   accuracy_round = 0.6776\n",
      "└ @ Main.ActiveLearning /home/podszond/active-domain-adaptation/ActiveLearning.jl:73\n",
      "┌ Warning: Number of observations less than batchsize, decreasing the batchsize to 30\n",
      "└ @ Flux.Data /home/podszond/.julia/packages/Flux/BPPNj/src/data/dataloader.jl:82\n",
      "┌ Info: performance\n",
      "│   round = 3\n",
      "│   accuracy_round = 0.7158\n",
      "└ @ Main.ActiveLearning /home/podszond/active-domain-adaptation/ActiveLearning.jl:73\n",
      "┌ Warning: Number of observations less than batchsize, decreasing the batchsize to 40\n",
      "└ @ Flux.Data /home/podszond/.julia/packages/Flux/BPPNj/src/data/dataloader.jl:82\n",
      "┌ Info: performance\n",
      "│   round = 4\n",
      "│   accuracy_round = 0.7687\n",
      "└ @ Main.ActiveLearning /home/podszond/active-domain-adaptation/ActiveLearning.jl:73\n",
      "┌ Warning: Number of observations less than batchsize, decreasing the batchsize to 50\n",
      "└ @ Flux.Data /home/podszond/.julia/packages/Flux/BPPNj/src/data/dataloader.jl:82\n",
      "┌ Info: performance\n",
      "│   round = 5\n",
      "│   accuracy_round = 0.7657\n",
      "└ @ Main.ActiveLearning /home/podszond/active-domain-adaptation/ActiveLearning.jl:73\n",
      "┌ Warning: Number of observations less than batchsize, decreasing the batchsize to 60\n",
      "└ @ Flux.Data /home/podszond/.julia/packages/Flux/BPPNj/src/data/dataloader.jl:82\n",
      "┌ Info: performance\n",
      "│   round = 6\n",
      "│   accuracy_round = 0.7823\n",
      "└ @ Main.ActiveLearning /home/podszond/active-domain-adaptation/ActiveLearning.jl:73\n",
      "┌ Warning: Number of observations less than batchsize, decreasing the batchsize to 70\n",
      "└ @ Flux.Data /home/podszond/.julia/packages/Flux/BPPNj/src/data/dataloader.jl:82\n",
      "┌ Info: performance\n",
      "│   round = 7\n",
      "│   accuracy_round = 0.8558\n",
      "└ @ Main.ActiveLearning /home/podszond/active-domain-adaptation/ActiveLearning.jl:73\n",
      "┌ Warning: Number of observations less than batchsize, decreasing the batchsize to 80\n",
      "└ @ Flux.Data /home/podszond/.julia/packages/Flux/BPPNj/src/data/dataloader.jl:82\n",
      "┌ Info: performance\n",
      "│   round = 8\n",
      "│   accuracy_round = 0.8746\n",
      "└ @ Main.ActiveLearning /home/podszond/active-domain-adaptation/ActiveLearning.jl:73\n",
      "┌ Warning: Number of observations less than batchsize, decreasing the batchsize to 90\n",
      "└ @ Flux.Data /home/podszond/.julia/packages/Flux/BPPNj/src/data/dataloader.jl:82\n",
      "┌ Info: performance\n",
      "│   round = 9\n",
      "│   accuracy_round = 0.8667\n",
      "└ @ Main.ActiveLearning /home/podszond/active-domain-adaptation/ActiveLearning.jl:73\n",
      "┌ Warning: Number of observations less than batchsize, decreasing the batchsize to 100\n",
      "└ @ Flux.Data /home/podszond/.julia/packages/Flux/BPPNj/src/data/dataloader.jl:82\n",
      "┌ Info: performance\n",
      "│   round = 10\n",
      "│   accuracy_round = 0.8742\n",
      "└ @ Main.ActiveLearning /home/podszond/active-domain-adaptation/ActiveLearning.jl:73\n",
      "┌ Warning: Number of observations less than batchsize, decreasing the batchsize to 110\n",
      "└ @ Flux.Data /home/podszond/.julia/packages/Flux/BPPNj/src/data/dataloader.jl:82\n",
      "┌ Info: performance\n",
      "│   round = 11\n",
      "│   accuracy_round = 0.9213\n",
      "└ @ Main.ActiveLearning /home/podszond/active-domain-adaptation/ActiveLearning.jl:73\n",
      "┌ Warning: Number of observations less than batchsize, decreasing the batchsize to 120\n",
      "└ @ Flux.Data /home/podszond/.julia/packages/Flux/BPPNj/src/data/dataloader.jl:82\n",
      "┌ Info: performance\n",
      "│   round = 12\n",
      "│   accuracy_round = 0.9328\n",
      "└ @ Main.ActiveLearning /home/podszond/active-domain-adaptation/ActiveLearning.jl:73\n",
      "┌ Info: performance\n",
      "│   round = 13\n",
      "│   accuracy_round = 0.9253\n",
      "└ @ Main.ActiveLearning /home/podszond/active-domain-adaptation/ActiveLearning.jl:73\n",
      "┌ Info: performance\n",
      "│   round = 14\n",
      "│   accuracy_round = 0.9255\n",
      "└ @ Main.ActiveLearning /home/podszond/active-domain-adaptation/ActiveLearning.jl:73\n",
      "┌ Info: performance\n",
      "│   round = 15\n",
      "│   accuracy_round = 0.9534\n",
      "└ @ Main.ActiveLearning /home/podszond/active-domain-adaptation/ActiveLearning.jl:73\n",
      "┌ Info: performance\n",
      "│   round = 16\n",
      "│   accuracy_round = 0.9569\n",
      "└ @ Main.ActiveLearning /home/podszond/active-domain-adaptation/ActiveLearning.jl:73\n",
      "┌ Info: performance\n",
      "│   round = 17\n",
      "│   accuracy_round = 0.9566\n",
      "└ @ Main.ActiveLearning /home/podszond/active-domain-adaptation/ActiveLearning.jl:73\n",
      "┌ Info: performance\n",
      "│   round = 18\n",
      "│   accuracy_round = 0.9635\n",
      "└ @ Main.ActiveLearning /home/podszond/active-domain-adaptation/ActiveLearning.jl:73\n",
      "┌ Info: performance\n",
      "│   round = 19\n",
      "│   accuracy_round = 0.9627\n",
      "└ @ Main.ActiveLearning /home/podszond/active-domain-adaptation/ActiveLearning.jl:73\n",
      "┌ Info: performance\n",
      "│   round = 20\n",
      "│   accuracy_round = 0.9636\n",
      "└ @ Main.ActiveLearning /home/podszond/active-domain-adaptation/ActiveLearning.jl:73\n",
      "┌ Info: performance\n",
      "│   round = 21\n",
      "│   accuracy_round = 0.9674\n",
      "└ @ Main.ActiveLearning /home/podszond/active-domain-adaptation/ActiveLearning.jl:73\n",
      "┌ Info: performance\n",
      "│   round = 22\n",
      "│   accuracy_round = 0.9697\n",
      "└ @ Main.ActiveLearning /home/podszond/active-domain-adaptation/ActiveLearning.jl:73\n",
      "┌ Info: performance\n",
      "│   round = 23\n",
      "│   accuracy_round = 0.9675\n",
      "└ @ Main.ActiveLearning /home/podszond/active-domain-adaptation/ActiveLearning.jl:73\n",
      "┌ Info: performance\n",
      "│   round = 24\n",
      "│   accuracy_round = 0.9689\n",
      "└ @ Main.ActiveLearning /home/podszond/active-domain-adaptation/ActiveLearning.jl:73\n",
      "┌ Info: performance\n",
      "│   round = 25\n",
      "│   accuracy_round = 0.9734\n",
      "└ @ Main.ActiveLearning /home/podszond/active-domain-adaptation/ActiveLearning.jl:73\n",
      "┌ Info: performance\n",
      "│   round = 26\n",
      "│   accuracy_round = 0.9731\n",
      "└ @ Main.ActiveLearning /home/podszond/active-domain-adaptation/ActiveLearning.jl:73\n",
      "┌ Info: performance\n",
      "│   round = 27\n",
      "│   accuracy_round = 0.9752\n",
      "└ @ Main.ActiveLearning /home/podszond/active-domain-adaptation/ActiveLearning.jl:73\n",
      "┌ Info: performance\n",
      "│   round = 28\n",
      "│   accuracy_round = 0.9743\n",
      "└ @ Main.ActiveLearning /home/podszond/active-domain-adaptation/ActiveLearning.jl:73\n",
      "┌ Info: performance\n",
      "│   round = 29\n",
      "│   accuracy_round = 0.9777\n",
      "└ @ Main.ActiveLearning /home/podszond/active-domain-adaptation/ActiveLearning.jl:73\n",
      "┌ Info: performance\n",
      "│   round = 30\n",
      "│   accuracy_round = 0.976\n",
      "└ @ Main.ActiveLearning /home/podszond/active-domain-adaptation/ActiveLearning.jl:73\n"
     ]
    },
    {
     "data": {
      "text/plain": [
       "(0:30, [0.6352, 0.6964, 0.6776, 0.7158, 0.7687, 0.7657, 0.7823, 0.8558, 0.8746, 0.8667  …  0.9674, 0.9697, 0.9675, 0.9689, 0.9734, 0.9731, 0.9752, 0.9743, 0.9777, 0.976])"
      ]
     },
     "execution_count": 10,
     "metadata": {},
     "output_type": "execute_result"
    }
   ],
   "source": [
    "rounds_entropy, accuracies_entropy = simulate_al(\n",
    "    entropy_sampling, oracle,\n",
    "    BSON.load(\"lenet.bson\")[:model],\n",
    "    X_mnist_train, y_mnist_train,\n",
    "    X_mnist_test, y_mnist_test)"
   ]
  },
  {
   "cell_type": "code",
   "execution_count": 11,
   "id": "01708999-9a46-4c78-beab-0471fc8310d3",
   "metadata": {},
   "outputs": [
    {
     "data": {
      "image/svg+xml": [
       "<?xml version=\"1.0\" encoding=\"utf-8\"?>\n",
       "<svg xmlns=\"http://www.w3.org/2000/svg\" xmlns:xlink=\"http://www.w3.org/1999/xlink\" width=\"600\" height=\"400\" viewBox=\"0 0 2400 1600\">\n",
       "<defs>\n",
       "  <clipPath id=\"clip950\">\n",
       "    <rect x=\"0\" y=\"0\" width=\"2400\" height=\"1600\"/>\n",
       "  </clipPath>\n",
       "</defs>\n",
       "<path clip-path=\"url(#clip950)\" d=\"\n",
       "M0 1600 L2400 1600 L2400 0 L0 0  Z\n",
       "  \" fill=\"#ffffff\" fill-rule=\"evenodd\" fill-opacity=\"1\"/>\n",
       "<defs>\n",
       "  <clipPath id=\"clip951\">\n",
       "    <rect x=\"480\" y=\"0\" width=\"1681\" height=\"1600\"/>\n",
       "  </clipPath>\n",
       "</defs>\n",
       "<path clip-path=\"url(#clip950)\" d=\"\n",
       "M204.45 1423.18 L2352.76 1423.18 L2352.76 47.2441 L204.45 47.2441  Z\n",
       "  \" fill=\"#ffffff\" fill-rule=\"evenodd\" fill-opacity=\"1\"/>\n",
       "<defs>\n",
       "  <clipPath id=\"clip952\">\n",
       "    <rect x=\"204\" y=\"47\" width=\"2149\" height=\"1377\"/>\n",
       "  </clipPath>\n",
       "</defs>\n",
       "<polyline clip-path=\"url(#clip952)\" style=\"stroke:#000000; stroke-linecap:butt; stroke-linejoin:round; stroke-width:2; stroke-opacity:0.1; fill:none\" points=\"\n",
       "  265.251,1423.18 265.251,47.2441 \n",
       "  \"/>\n",
       "<polyline clip-path=\"url(#clip952)\" style=\"stroke:#000000; stroke-linecap:butt; stroke-linejoin:round; stroke-width:2; stroke-opacity:0.1; fill:none\" points=\"\n",
       "  940.819,1423.18 940.819,47.2441 \n",
       "  \"/>\n",
       "<polyline clip-path=\"url(#clip952)\" style=\"stroke:#000000; stroke-linecap:butt; stroke-linejoin:round; stroke-width:2; stroke-opacity:0.1; fill:none\" points=\"\n",
       "  1616.39,1423.18 1616.39,47.2441 \n",
       "  \"/>\n",
       "<polyline clip-path=\"url(#clip952)\" style=\"stroke:#000000; stroke-linecap:butt; stroke-linejoin:round; stroke-width:2; stroke-opacity:0.1; fill:none\" points=\"\n",
       "  2291.95,1423.18 2291.95,47.2441 \n",
       "  \"/>\n",
       "<polyline clip-path=\"url(#clip950)\" style=\"stroke:#000000; stroke-linecap:butt; stroke-linejoin:round; stroke-width:4; stroke-opacity:1; fill:none\" points=\"\n",
       "  204.45,1423.18 2352.76,1423.18 \n",
       "  \"/>\n",
       "<polyline clip-path=\"url(#clip950)\" style=\"stroke:#000000; stroke-linecap:butt; stroke-linejoin:round; stroke-width:4; stroke-opacity:1; fill:none\" points=\"\n",
       "  265.251,1423.18 265.251,1404.28 \n",
       "  \"/>\n",
       "<polyline clip-path=\"url(#clip950)\" style=\"stroke:#000000; stroke-linecap:butt; stroke-linejoin:round; stroke-width:4; stroke-opacity:1; fill:none\" points=\"\n",
       "  940.819,1423.18 940.819,1404.28 \n",
       "  \"/>\n",
       "<polyline clip-path=\"url(#clip950)\" style=\"stroke:#000000; stroke-linecap:butt; stroke-linejoin:round; stroke-width:4; stroke-opacity:1; fill:none\" points=\"\n",
       "  1616.39,1423.18 1616.39,1404.28 \n",
       "  \"/>\n",
       "<polyline clip-path=\"url(#clip950)\" style=\"stroke:#000000; stroke-linecap:butt; stroke-linejoin:round; stroke-width:4; stroke-opacity:1; fill:none\" points=\"\n",
       "  2291.95,1423.18 2291.95,1404.28 \n",
       "  \"/>\n",
       "<path clip-path=\"url(#clip950)\" d=\"M265.251 1454.1 Q261.64 1454.1 259.811 1457.66 Q258.005 1461.2 258.005 1468.33 Q258.005 1475.44 259.811 1479.01 Q261.64 1482.55 265.251 1482.55 Q268.885 1482.55 270.691 1479.01 Q272.519 1475.44 272.519 1468.33 Q272.519 1461.2 270.691 1457.66 Q268.885 1454.1 265.251 1454.1 M265.251 1450.39 Q271.061 1450.39 274.116 1455 Q277.195 1459.58 277.195 1468.33 Q277.195 1477.06 274.116 1481.67 Q271.061 1486.25 265.251 1486.25 Q259.441 1486.25 256.362 1481.67 Q253.306 1477.06 253.306 1468.33 Q253.306 1459.58 256.362 1455 Q259.441 1450.39 265.251 1450.39 Z\" fill=\"#000000\" fill-rule=\"evenodd\" fill-opacity=\"1\" /><path clip-path=\"url(#clip950)\" d=\"M915.506 1481.64 L923.145 1481.64 L923.145 1455.28 L914.835 1456.95 L914.835 1452.69 L923.099 1451.02 L927.775 1451.02 L927.775 1481.64 L935.414 1481.64 L935.414 1485.58 L915.506 1485.58 L915.506 1481.64 Z\" fill=\"#000000\" fill-rule=\"evenodd\" fill-opacity=\"1\" /><path clip-path=\"url(#clip950)\" d=\"M954.858 1454.1 Q951.247 1454.1 949.418 1457.66 Q947.613 1461.2 947.613 1468.33 Q947.613 1475.44 949.418 1479.01 Q951.247 1482.55 954.858 1482.55 Q958.492 1482.55 960.298 1479.01 Q962.127 1475.44 962.127 1468.33 Q962.127 1461.2 960.298 1457.66 Q958.492 1454.1 954.858 1454.1 M954.858 1450.39 Q960.668 1450.39 963.724 1455 Q966.802 1459.58 966.802 1468.33 Q966.802 1477.06 963.724 1481.67 Q960.668 1486.25 954.858 1486.25 Q949.048 1486.25 945.969 1481.67 Q942.914 1477.06 942.914 1468.33 Q942.914 1459.58 945.969 1455 Q949.048 1450.39 954.858 1450.39 Z\" fill=\"#000000\" fill-rule=\"evenodd\" fill-opacity=\"1\" /><path clip-path=\"url(#clip950)\" d=\"M1595.16 1481.64 L1611.48 1481.64 L1611.48 1485.58 L1589.54 1485.58 L1589.54 1481.64 Q1592.2 1478.89 1596.78 1474.26 Q1601.39 1469.61 1602.57 1468.27 Q1604.81 1465.74 1605.69 1464.01 Q1606.6 1462.25 1606.6 1460.56 Q1606.6 1457.8 1604.65 1456.07 Q1602.73 1454.33 1599.63 1454.33 Q1597.43 1454.33 1594.97 1455.09 Q1592.54 1455.86 1589.77 1457.41 L1589.77 1452.69 Q1592.59 1451.55 1595.04 1450.97 Q1597.5 1450.39 1599.54 1450.39 Q1604.91 1450.39 1608.1 1453.08 Q1611.29 1455.77 1611.29 1460.26 Q1611.29 1462.39 1610.48 1464.31 Q1609.7 1466.2 1607.59 1468.8 Q1607.01 1469.47 1603.91 1472.69 Q1600.81 1475.88 1595.16 1481.64 Z\" fill=\"#000000\" fill-rule=\"evenodd\" fill-opacity=\"1\" /><path clip-path=\"url(#clip950)\" d=\"M1631.29 1454.1 Q1627.68 1454.1 1625.85 1457.66 Q1624.05 1461.2 1624.05 1468.33 Q1624.05 1475.44 1625.85 1479.01 Q1627.68 1482.55 1631.29 1482.55 Q1634.93 1482.55 1636.73 1479.01 Q1638.56 1475.44 1638.56 1468.33 Q1638.56 1461.2 1636.73 1457.66 Q1634.93 1454.1 1631.29 1454.1 M1631.29 1450.39 Q1637.1 1450.39 1640.16 1455 Q1643.24 1459.58 1643.24 1468.33 Q1643.24 1477.06 1640.16 1481.67 Q1637.1 1486.25 1631.29 1486.25 Q1625.48 1486.25 1622.41 1481.67 Q1619.35 1477.06 1619.35 1468.33 Q1619.35 1459.58 1622.41 1455 Q1625.48 1450.39 1631.29 1450.39 Z\" fill=\"#000000\" fill-rule=\"evenodd\" fill-opacity=\"1\" /><path clip-path=\"url(#clip950)\" d=\"M2280.8 1466.95 Q2284.15 1467.66 2286.03 1469.93 Q2287.93 1472.2 2287.93 1475.53 Q2287.93 1480.65 2284.41 1483.45 Q2280.89 1486.25 2274.41 1486.25 Q2272.23 1486.25 2269.92 1485.81 Q2267.63 1485.39 2265.17 1484.54 L2265.17 1480.02 Q2267.12 1481.16 2269.43 1481.74 Q2271.75 1482.32 2274.27 1482.32 Q2278.67 1482.32 2280.96 1480.58 Q2283.27 1478.84 2283.27 1475.53 Q2283.27 1472.48 2281.12 1470.77 Q2278.99 1469.03 2275.17 1469.03 L2271.14 1469.03 L2271.14 1465.19 L2275.36 1465.19 Q2278.81 1465.19 2280.64 1463.82 Q2282.46 1462.43 2282.46 1459.84 Q2282.46 1457.18 2280.57 1455.77 Q2278.69 1454.33 2275.17 1454.33 Q2273.25 1454.33 2271.05 1454.75 Q2268.85 1455.16 2266.21 1456.04 L2266.21 1451.88 Q2268.88 1451.14 2271.19 1450.77 Q2273.53 1450.39 2275.59 1450.39 Q2280.91 1450.39 2284.02 1452.83 Q2287.12 1455.23 2287.12 1459.35 Q2287.12 1462.22 2285.47 1464.21 Q2283.83 1466.18 2280.8 1466.95 Z\" fill=\"#000000\" fill-rule=\"evenodd\" fill-opacity=\"1\" /><path clip-path=\"url(#clip950)\" d=\"M2306.79 1454.1 Q2303.18 1454.1 2301.35 1457.66 Q2299.55 1461.2 2299.55 1468.33 Q2299.55 1475.44 2301.35 1479.01 Q2303.18 1482.55 2306.79 1482.55 Q2310.43 1482.55 2312.23 1479.01 Q2314.06 1475.44 2314.06 1468.33 Q2314.06 1461.2 2312.23 1457.66 Q2310.43 1454.1 2306.79 1454.1 M2306.79 1450.39 Q2312.6 1450.39 2315.66 1455 Q2318.74 1459.58 2318.74 1468.33 Q2318.74 1477.06 2315.66 1481.67 Q2312.6 1486.25 2306.79 1486.25 Q2300.98 1486.25 2297.9 1481.67 Q2294.85 1477.06 2294.85 1468.33 Q2294.85 1459.58 2297.9 1455 Q2300.98 1450.39 2306.79 1450.39 Z\" fill=\"#000000\" fill-rule=\"evenodd\" fill-opacity=\"1\" /><path clip-path=\"url(#clip950)\" d=\"M1204.17 1545.76 Q1206.24 1546.46 1208.18 1548.76 Q1210.16 1551.05 1212.13 1555.06 L1218.65 1568.04 L1211.75 1568.04 L1205.67 1555.85 Q1203.31 1551.08 1201.08 1549.52 Q1198.89 1547.96 1195.07 1547.96 L1188.07 1547.96 L1188.07 1568.04 L1181.64 1568.04 L1181.64 1520.52 L1196.15 1520.52 Q1204.3 1520.52 1208.31 1523.93 Q1212.32 1527.34 1212.32 1534.21 Q1212.32 1538.7 1210.22 1541.66 Q1208.15 1544.62 1204.17 1545.76 M1188.07 1525.81 L1188.07 1542.68 L1196.15 1542.68 Q1200.8 1542.68 1203.15 1540.54 Q1205.54 1538.38 1205.54 1534.21 Q1205.54 1530.04 1203.15 1527.94 Q1200.8 1525.81 1196.15 1525.81 L1188.07 1525.81 Z\" fill=\"#000000\" fill-rule=\"evenodd\" fill-opacity=\"1\" /><path clip-path=\"url(#clip950)\" d=\"M1237.56 1536.5 Q1232.85 1536.5 1230.11 1540.19 Q1227.37 1543.85 1227.37 1550.25 Q1227.37 1556.65 1230.08 1560.34 Q1232.82 1564 1237.56 1564 Q1242.24 1564 1244.98 1560.31 Q1247.71 1556.62 1247.71 1550.25 Q1247.71 1543.92 1244.98 1540.23 Q1242.24 1536.5 1237.56 1536.5 M1237.56 1531.54 Q1245.2 1531.54 1249.56 1536.5 Q1253.92 1541.47 1253.92 1550.25 Q1253.92 1559 1249.56 1564 Q1245.2 1568.97 1237.56 1568.97 Q1229.89 1568.97 1225.53 1564 Q1221.2 1559 1221.2 1550.25 Q1221.2 1541.47 1225.53 1536.5 Q1229.89 1531.54 1237.56 1531.54 Z\" fill=\"#000000\" fill-rule=\"evenodd\" fill-opacity=\"1\" /><path clip-path=\"url(#clip950)\" d=\"M1263.02 1553.98 L1263.02 1532.4 L1268.88 1532.4 L1268.88 1553.75 Q1268.88 1558.81 1270.85 1561.36 Q1272.83 1563.87 1276.77 1563.87 Q1281.52 1563.87 1284.25 1560.85 Q1287.02 1557.83 1287.02 1552.61 L1287.02 1532.4 L1292.88 1532.4 L1292.88 1568.04 L1287.02 1568.04 L1287.02 1562.57 Q1284.89 1565.82 1282.06 1567.41 Q1279.26 1568.97 1275.53 1568.97 Q1269.39 1568.97 1266.21 1565.15 Q1263.02 1561.33 1263.02 1553.98 M1277.76 1531.54 L1277.76 1531.54 Z\" fill=\"#000000\" fill-rule=\"evenodd\" fill-opacity=\"1\" /><path clip-path=\"url(#clip950)\" d=\"M1334.57 1546.53 L1334.57 1568.04 L1328.72 1568.04 L1328.72 1546.72 Q1328.72 1541.66 1326.74 1539.14 Q1324.77 1536.63 1320.82 1536.63 Q1316.08 1536.63 1313.34 1539.65 Q1310.61 1542.68 1310.61 1547.9 L1310.61 1568.04 L1304.72 1568.04 L1304.72 1532.4 L1310.61 1532.4 L1310.61 1537.93 Q1312.71 1534.72 1315.54 1533.13 Q1318.4 1531.54 1322.13 1531.54 Q1328.27 1531.54 1331.42 1535.36 Q1334.57 1539.14 1334.57 1546.53 Z\" fill=\"#000000\" fill-rule=\"evenodd\" fill-opacity=\"1\" /><path clip-path=\"url(#clip950)\" d=\"M1369.71 1537.81 L1369.71 1518.52 L1375.57 1518.52 L1375.57 1568.04 L1369.71 1568.04 L1369.71 1562.7 Q1367.87 1565.88 1365.03 1567.44 Q1362.23 1568.97 1358.29 1568.97 Q1351.82 1568.97 1347.75 1563.81 Q1343.71 1558.65 1343.71 1550.25 Q1343.71 1541.85 1347.75 1536.69 Q1351.82 1531.54 1358.29 1531.54 Q1362.23 1531.54 1365.03 1533.1 Q1367.87 1534.62 1369.71 1537.81 M1349.76 1550.25 Q1349.76 1556.71 1352.4 1560.4 Q1355.07 1564.07 1359.72 1564.07 Q1364.36 1564.07 1367.04 1560.4 Q1369.71 1556.71 1369.71 1550.25 Q1369.71 1543.79 1367.04 1540.13 Q1364.36 1536.44 1359.72 1536.44 Q1355.07 1536.44 1352.4 1540.13 Q1349.76 1543.79 1349.76 1550.25 Z\" fill=\"#000000\" fill-rule=\"evenodd\" fill-opacity=\"1\" /><polyline clip-path=\"url(#clip952)\" style=\"stroke:#000000; stroke-linecap:butt; stroke-linejoin:round; stroke-width:2; stroke-opacity:0.1; fill:none\" points=\"\n",
       "  204.45,1328.52 2352.76,1328.52 \n",
       "  \"/>\n",
       "<polyline clip-path=\"url(#clip952)\" style=\"stroke:#000000; stroke-linecap:butt; stroke-linejoin:round; stroke-width:2; stroke-opacity:0.1; fill:none\" points=\"\n",
       "  204.45,1140.29 2352.76,1140.29 \n",
       "  \"/>\n",
       "<polyline clip-path=\"url(#clip952)\" style=\"stroke:#000000; stroke-linecap:butt; stroke-linejoin:round; stroke-width:2; stroke-opacity:0.1; fill:none\" points=\"\n",
       "  204.45,952.056 2352.76,952.056 \n",
       "  \"/>\n",
       "<polyline clip-path=\"url(#clip952)\" style=\"stroke:#000000; stroke-linecap:butt; stroke-linejoin:round; stroke-width:2; stroke-opacity:0.1; fill:none\" points=\"\n",
       "  204.45,763.823 2352.76,763.823 \n",
       "  \"/>\n",
       "<polyline clip-path=\"url(#clip952)\" style=\"stroke:#000000; stroke-linecap:butt; stroke-linejoin:round; stroke-width:2; stroke-opacity:0.1; fill:none\" points=\"\n",
       "  204.45,575.591 2352.76,575.591 \n",
       "  \"/>\n",
       "<polyline clip-path=\"url(#clip952)\" style=\"stroke:#000000; stroke-linecap:butt; stroke-linejoin:round; stroke-width:2; stroke-opacity:0.1; fill:none\" points=\"\n",
       "  204.45,387.358 2352.76,387.358 \n",
       "  \"/>\n",
       "<polyline clip-path=\"url(#clip952)\" style=\"stroke:#000000; stroke-linecap:butt; stroke-linejoin:round; stroke-width:2; stroke-opacity:0.1; fill:none\" points=\"\n",
       "  204.45,199.125 2352.76,199.125 \n",
       "  \"/>\n",
       "<polyline clip-path=\"url(#clip950)\" style=\"stroke:#000000; stroke-linecap:butt; stroke-linejoin:round; stroke-width:4; stroke-opacity:1; fill:none\" points=\"\n",
       "  204.45,1423.18 204.45,47.2441 \n",
       "  \"/>\n",
       "<polyline clip-path=\"url(#clip950)\" style=\"stroke:#000000; stroke-linecap:butt; stroke-linejoin:round; stroke-width:4; stroke-opacity:1; fill:none\" points=\"\n",
       "  204.45,1328.52 223.347,1328.52 \n",
       "  \"/>\n",
       "<polyline clip-path=\"url(#clip950)\" style=\"stroke:#000000; stroke-linecap:butt; stroke-linejoin:round; stroke-width:4; stroke-opacity:1; fill:none\" points=\"\n",
       "  204.45,1140.29 223.347,1140.29 \n",
       "  \"/>\n",
       "<polyline clip-path=\"url(#clip950)\" style=\"stroke:#000000; stroke-linecap:butt; stroke-linejoin:round; stroke-width:4; stroke-opacity:1; fill:none\" points=\"\n",
       "  204.45,952.056 223.347,952.056 \n",
       "  \"/>\n",
       "<polyline clip-path=\"url(#clip950)\" style=\"stroke:#000000; stroke-linecap:butt; stroke-linejoin:round; stroke-width:4; stroke-opacity:1; fill:none\" points=\"\n",
       "  204.45,763.823 223.347,763.823 \n",
       "  \"/>\n",
       "<polyline clip-path=\"url(#clip950)\" style=\"stroke:#000000; stroke-linecap:butt; stroke-linejoin:round; stroke-width:4; stroke-opacity:1; fill:none\" points=\"\n",
       "  204.45,575.591 223.347,575.591 \n",
       "  \"/>\n",
       "<polyline clip-path=\"url(#clip950)\" style=\"stroke:#000000; stroke-linecap:butt; stroke-linejoin:round; stroke-width:4; stroke-opacity:1; fill:none\" points=\"\n",
       "  204.45,387.358 223.347,387.358 \n",
       "  \"/>\n",
       "<polyline clip-path=\"url(#clip950)\" style=\"stroke:#000000; stroke-linecap:butt; stroke-linejoin:round; stroke-width:4; stroke-opacity:1; fill:none\" points=\"\n",
       "  204.45,199.125 223.347,199.125 \n",
       "  \"/>\n",
       "<path clip-path=\"url(#clip950)\" d=\"M127.917 1326.66 Q124.769 1326.66 122.918 1328.81 Q121.089 1330.96 121.089 1334.71 Q121.089 1338.44 122.918 1340.62 Q124.769 1342.77 127.917 1342.77 Q131.066 1342.77 132.894 1340.62 Q134.746 1338.44 134.746 1334.71 Q134.746 1330.96 132.894 1328.81 Q131.066 1326.66 127.917 1326.66 M137.2 1312.01 L137.2 1316.26 Q135.441 1315.43 133.635 1314.99 Q131.853 1314.55 130.093 1314.55 Q125.464 1314.55 123.01 1317.68 Q120.58 1320.8 120.232 1327.12 Q121.598 1325.11 123.658 1324.04 Q125.718 1322.95 128.195 1322.95 Q133.404 1322.95 136.413 1326.13 Q139.445 1329.27 139.445 1334.71 Q139.445 1340.04 136.297 1343.26 Q133.149 1346.47 127.917 1346.47 Q121.922 1346.47 118.751 1341.89 Q115.58 1337.28 115.58 1328.56 Q115.58 1320.36 119.468 1315.5 Q123.357 1310.62 129.908 1310.62 Q131.667 1310.62 133.45 1310.96 Q135.255 1311.31 137.2 1312.01 Z\" fill=\"#000000\" fill-rule=\"evenodd\" fill-opacity=\"1\" /><path clip-path=\"url(#clip950)\" d=\"M147.547 1311.24 L165.903 1311.24 L165.903 1315.18 L151.829 1315.18 L151.829 1323.65 Q152.848 1323.3 153.866 1323.14 Q154.885 1322.95 155.903 1322.95 Q161.69 1322.95 165.07 1326.13 Q168.45 1329.3 168.45 1334.71 Q168.45 1340.29 164.977 1343.39 Q161.505 1346.47 155.186 1346.47 Q153.01 1346.47 150.741 1346.1 Q148.496 1345.73 146.089 1344.99 L146.089 1340.29 Q148.172 1341.43 150.394 1341.98 Q152.616 1342.54 155.093 1342.54 Q159.098 1342.54 161.436 1340.43 Q163.774 1338.32 163.774 1334.71 Q163.774 1331.1 161.436 1329 Q159.098 1326.89 155.093 1326.89 Q153.218 1326.89 151.343 1327.31 Q149.491 1327.72 147.547 1328.6 L147.547 1311.24 Z\" fill=\"#000000\" fill-rule=\"evenodd\" fill-opacity=\"1\" /><path clip-path=\"url(#clip950)\" d=\"M115.163 1123.01 L137.385 1123.01 L137.385 1125 L124.839 1157.57 L119.955 1157.57 L131.76 1126.94 L115.163 1126.94 L115.163 1123.01 Z\" fill=\"#000000\" fill-rule=\"evenodd\" fill-opacity=\"1\" /><path clip-path=\"url(#clip950)\" d=\"M156.505 1126.09 Q152.894 1126.09 151.066 1129.65 Q149.26 1133.19 149.26 1140.32 Q149.26 1147.43 151.066 1150.99 Q152.894 1154.54 156.505 1154.54 Q160.14 1154.54 161.945 1150.99 Q163.774 1147.43 163.774 1140.32 Q163.774 1133.19 161.945 1129.65 Q160.14 1126.09 156.505 1126.09 M156.505 1122.38 Q162.315 1122.38 165.371 1126.99 Q168.45 1131.57 168.45 1140.32 Q168.45 1149.05 165.371 1153.66 Q162.315 1158.24 156.505 1158.24 Q150.695 1158.24 147.616 1153.66 Q144.561 1149.05 144.561 1140.32 Q144.561 1131.57 147.616 1126.99 Q150.695 1122.38 156.505 1122.38 Z\" fill=\"#000000\" fill-rule=\"evenodd\" fill-opacity=\"1\" /><path clip-path=\"url(#clip950)\" d=\"M116.158 934.776 L138.38 934.776 L138.38 936.767 L125.834 969.336 L120.95 969.336 L132.755 938.711 L116.158 938.711 L116.158 934.776 Z\" fill=\"#000000\" fill-rule=\"evenodd\" fill-opacity=\"1\" /><path clip-path=\"url(#clip950)\" d=\"M147.547 934.776 L165.903 934.776 L165.903 938.711 L151.829 938.711 L151.829 947.183 Q152.848 946.836 153.866 946.674 Q154.885 946.489 155.903 946.489 Q161.69 946.489 165.07 949.66 Q168.45 952.831 168.45 958.248 Q168.45 963.827 164.977 966.929 Q161.505 970.007 155.186 970.007 Q153.01 970.007 150.741 969.637 Q148.496 969.267 146.089 968.526 L146.089 963.827 Q148.172 964.961 150.394 965.517 Q152.616 966.072 155.093 966.072 Q159.098 966.072 161.436 963.966 Q163.774 961.859 163.774 958.248 Q163.774 954.637 161.436 952.531 Q159.098 950.424 155.093 950.424 Q153.218 950.424 151.343 950.841 Q149.491 951.257 147.547 952.137 L147.547 934.776 Z\" fill=\"#000000\" fill-rule=\"evenodd\" fill-opacity=\"1\" /><path clip-path=\"url(#clip950)\" d=\"M126.343 764.691 Q123.01 764.691 121.089 766.474 Q119.191 768.256 119.191 771.381 Q119.191 774.506 121.089 776.289 Q123.01 778.071 126.343 778.071 Q129.677 778.071 131.598 776.289 Q133.519 774.483 133.519 771.381 Q133.519 768.256 131.598 766.474 Q129.7 764.691 126.343 764.691 M121.668 762.701 Q118.658 761.96 116.968 759.9 Q115.302 757.84 115.302 754.877 Q115.302 750.733 118.242 748.326 Q121.205 745.918 126.343 745.918 Q131.505 745.918 134.445 748.326 Q137.385 750.733 137.385 754.877 Q137.385 757.84 135.695 759.9 Q134.029 761.96 131.042 762.701 Q134.422 763.488 136.297 765.779 Q138.195 768.071 138.195 771.381 Q138.195 776.404 135.117 779.089 Q132.061 781.775 126.343 781.775 Q120.626 781.775 117.547 779.089 Q114.492 776.404 114.492 771.381 Q114.492 768.071 116.39 765.779 Q118.288 763.488 121.668 762.701 M119.955 755.316 Q119.955 758.002 121.621 759.506 Q123.311 761.011 126.343 761.011 Q129.353 761.011 131.042 759.506 Q132.755 758.002 132.755 755.316 Q132.755 752.631 131.042 751.127 Q129.353 749.622 126.343 749.622 Q123.311 749.622 121.621 751.127 Q119.955 752.631 119.955 755.316 Z\" fill=\"#000000\" fill-rule=\"evenodd\" fill-opacity=\"1\" /><path clip-path=\"url(#clip950)\" d=\"M156.505 749.622 Q152.894 749.622 151.066 753.187 Q149.26 756.728 149.26 763.858 Q149.26 770.965 151.066 774.529 Q152.894 778.071 156.505 778.071 Q160.14 778.071 161.945 774.529 Q163.774 770.965 163.774 763.858 Q163.774 756.728 161.945 753.187 Q160.14 749.622 156.505 749.622 M156.505 745.918 Q162.315 745.918 165.371 750.525 Q168.45 755.108 168.45 763.858 Q168.45 772.585 165.371 777.191 Q162.315 781.775 156.505 781.775 Q150.695 781.775 147.616 777.191 Q144.561 772.585 144.561 763.858 Q144.561 755.108 147.616 750.525 Q150.695 745.918 156.505 745.918 Z\" fill=\"#000000\" fill-rule=\"evenodd\" fill-opacity=\"1\" /><path clip-path=\"url(#clip950)\" d=\"M127.339 576.459 Q124.005 576.459 122.084 578.241 Q120.186 580.023 120.186 583.148 Q120.186 586.273 122.084 588.056 Q124.005 589.838 127.339 589.838 Q130.672 589.838 132.593 588.056 Q134.515 586.25 134.515 583.148 Q134.515 580.023 132.593 578.241 Q130.695 576.459 127.339 576.459 M122.663 574.468 Q119.654 573.727 117.964 571.667 Q116.297 569.607 116.297 566.644 Q116.297 562.5 119.237 560.093 Q122.2 557.686 127.339 557.686 Q132.501 557.686 135.441 560.093 Q138.38 562.5 138.38 566.644 Q138.38 569.607 136.691 571.667 Q135.024 573.727 132.038 574.468 Q135.417 575.255 137.292 577.547 Q139.191 579.838 139.191 583.148 Q139.191 588.172 136.112 590.857 Q133.056 593.542 127.339 593.542 Q121.621 593.542 118.543 590.857 Q115.487 588.172 115.487 583.148 Q115.487 579.838 117.385 577.547 Q119.283 575.255 122.663 574.468 M120.95 567.084 Q120.95 569.769 122.617 571.274 Q124.306 572.778 127.339 572.778 Q130.348 572.778 132.038 571.274 Q133.751 569.769 133.751 567.084 Q133.751 564.399 132.038 562.894 Q130.348 561.389 127.339 561.389 Q124.306 561.389 122.617 562.894 Q120.95 564.399 120.95 567.084 Z\" fill=\"#000000\" fill-rule=\"evenodd\" fill-opacity=\"1\" /><path clip-path=\"url(#clip950)\" d=\"M147.547 558.311 L165.903 558.311 L165.903 562.246 L151.829 562.246 L151.829 570.718 Q152.848 570.371 153.866 570.209 Q154.885 570.024 155.903 570.024 Q161.69 570.024 165.07 573.195 Q168.45 576.366 168.45 581.783 Q168.45 587.361 164.977 590.463 Q161.505 593.542 155.186 593.542 Q153.01 593.542 150.741 593.172 Q148.496 592.801 146.089 592.06 L146.089 587.361 Q148.172 588.496 150.394 589.051 Q152.616 589.607 155.093 589.607 Q159.098 589.607 161.436 587.5 Q163.774 585.394 163.774 581.783 Q163.774 578.172 161.436 576.065 Q159.098 573.959 155.093 573.959 Q153.218 573.959 151.343 574.375 Q149.491 574.792 147.547 575.672 L147.547 558.311 Z\" fill=\"#000000\" fill-rule=\"evenodd\" fill-opacity=\"1\" /><path clip-path=\"url(#clip950)\" d=\"M116.482 403.92 L116.482 399.661 Q118.242 400.494 120.047 400.934 Q121.853 401.374 123.589 401.374 Q128.218 401.374 130.649 398.272 Q133.103 395.147 133.45 388.805 Q132.107 390.795 130.047 391.86 Q127.987 392.925 125.487 392.925 Q120.302 392.925 117.269 389.8 Q114.26 386.652 114.26 381.212 Q114.26 375.888 117.408 372.671 Q120.556 369.453 125.788 369.453 Q131.783 369.453 134.931 374.059 Q138.103 378.643 138.103 387.393 Q138.103 395.564 134.214 400.448 Q130.348 405.309 123.797 405.309 Q122.038 405.309 120.232 404.962 Q118.427 404.615 116.482 403.92 M125.788 389.268 Q128.936 389.268 130.765 387.115 Q132.617 384.962 132.617 381.212 Q132.617 377.485 130.765 375.333 Q128.936 373.157 125.788 373.157 Q122.64 373.157 120.788 375.333 Q118.959 377.485 118.959 381.212 Q118.959 384.962 120.788 387.115 Q122.64 389.268 125.788 389.268 Z\" fill=\"#000000\" fill-rule=\"evenodd\" fill-opacity=\"1\" /><path clip-path=\"url(#clip950)\" d=\"M156.505 373.157 Q152.894 373.157 151.066 376.721 Q149.26 380.263 149.26 387.393 Q149.26 394.499 151.066 398.064 Q152.894 401.606 156.505 401.606 Q160.14 401.606 161.945 398.064 Q163.774 394.499 163.774 387.393 Q163.774 380.263 161.945 376.721 Q160.14 373.157 156.505 373.157 M156.505 369.453 Q162.315 369.453 165.371 374.059 Q168.45 378.643 168.45 387.393 Q168.45 396.119 165.371 400.726 Q162.315 405.309 156.505 405.309 Q150.695 405.309 147.616 400.726 Q144.561 396.119 144.561 387.393 Q144.561 378.643 147.616 374.059 Q150.695 369.453 156.505 369.453 Z\" fill=\"#000000\" fill-rule=\"evenodd\" fill-opacity=\"1\" /><path clip-path=\"url(#clip950)\" d=\"M117.478 215.688 L117.478 211.428 Q119.237 212.262 121.043 212.702 Q122.848 213.141 124.584 213.141 Q129.214 213.141 131.644 210.04 Q134.098 206.915 134.445 200.572 Q133.103 202.563 131.042 203.628 Q128.982 204.692 126.482 204.692 Q121.297 204.692 118.265 201.567 Q115.256 198.419 115.256 192.979 Q115.256 187.655 118.404 184.438 Q121.552 181.22 126.783 181.22 Q132.779 181.22 135.927 185.827 Q139.098 190.41 139.098 199.16 Q139.098 207.331 135.209 212.215 Q131.343 217.077 124.793 217.077 Q123.033 217.077 121.228 216.729 Q119.422 216.382 117.478 215.688 M126.783 201.035 Q129.931 201.035 131.76 198.882 Q133.612 196.729 133.612 192.979 Q133.612 189.253 131.76 187.1 Q129.931 184.924 126.783 184.924 Q123.635 184.924 121.783 187.1 Q119.955 189.253 119.955 192.979 Q119.955 196.729 121.783 198.882 Q123.635 201.035 126.783 201.035 Z\" fill=\"#000000\" fill-rule=\"evenodd\" fill-opacity=\"1\" /><path clip-path=\"url(#clip950)\" d=\"M147.547 181.845 L165.903 181.845 L165.903 185.78 L151.829 185.78 L151.829 194.253 Q152.848 193.905 153.866 193.743 Q154.885 193.558 155.903 193.558 Q161.69 193.558 165.07 196.729 Q168.45 199.901 168.45 205.317 Q168.45 210.896 164.977 213.998 Q161.505 217.077 155.186 217.077 Q153.01 217.077 150.741 216.706 Q148.496 216.336 146.089 215.595 L146.089 210.896 Q148.172 212.03 150.394 212.586 Q152.616 213.141 155.093 213.141 Q159.098 213.141 161.436 211.035 Q163.774 208.928 163.774 205.317 Q163.774 201.706 161.436 199.6 Q159.098 197.493 155.093 197.493 Q153.218 197.493 151.343 197.91 Q149.491 198.327 147.547 199.206 L147.547 181.845 Z\" fill=\"#000000\" fill-rule=\"evenodd\" fill-opacity=\"1\" /><path clip-path=\"url(#clip950)\" d=\"M22.818 925.944 L46.4666 934.665 L46.4666 917.192 L22.818 925.944 M16.4842 929.573 L16.4842 922.284 L64.0042 904.174 L64.0042 910.858 L51.8138 915.186 L51.8138 936.607 L64.0042 940.936 L64.0042 947.715 L16.4842 929.573 Z\" fill=\"#000000\" fill-rule=\"evenodd\" fill-opacity=\"1\" /><path clip-path=\"url(#clip950)\" d=\"M29.7248 872.982 L35.1993 872.982 Q33.8307 875.464 33.1623 877.979 Q32.4621 880.461 32.4621 883.008 Q32.4621 888.705 36.0905 891.856 Q39.6872 895.007 46.212 895.007 Q52.7369 895.007 56.3653 891.856 Q59.9619 888.705 59.9619 883.008 Q59.9619 880.461 59.2935 877.979 Q58.5933 875.464 57.2247 872.982 L62.6355 872.982 Q63.7814 875.433 64.3543 878.074 Q64.9272 880.684 64.9272 883.644 Q64.9272 891.697 59.8664 896.439 Q54.8057 901.182 46.212 901.182 Q37.491 901.182 32.4939 896.408 Q27.4968 891.601 27.4968 883.262 Q27.4968 880.557 28.0697 877.979 Q28.6108 875.401 29.7248 872.982 Z\" fill=\"#000000\" fill-rule=\"evenodd\" fill-opacity=\"1\" /><path clip-path=\"url(#clip950)\" d=\"M29.7248 837.143 L35.1993 837.143 Q33.8307 839.625 33.1623 842.14 Q32.4621 844.623 32.4621 847.169 Q32.4621 852.866 36.0905 856.017 Q39.6872 859.168 46.212 859.168 Q52.7369 859.168 56.3653 856.017 Q59.9619 852.866 59.9619 847.169 Q59.9619 844.623 59.2935 842.14 Q58.5933 839.625 57.2247 837.143 L62.6355 837.143 Q63.7814 839.594 64.3543 842.235 Q64.9272 844.845 64.9272 847.805 Q64.9272 855.858 59.8664 860.6 Q54.8057 865.343 46.212 865.343 Q37.491 865.343 32.4939 860.569 Q27.4968 855.763 27.4968 847.423 Q27.4968 844.718 28.0697 842.14 Q28.6108 839.562 29.7248 837.143 Z\" fill=\"#000000\" fill-rule=\"evenodd\" fill-opacity=\"1\" /><path clip-path=\"url(#clip950)\" d=\"M49.9359 827.562 L28.3562 827.562 L28.3562 821.706 L49.7131 821.706 Q54.7739 821.706 57.3202 819.733 Q59.8346 817.759 59.8346 813.813 Q59.8346 809.07 56.8109 806.333 Q53.7872 803.564 48.5673 803.564 L28.3562 803.564 L28.3562 797.707 L64.0042 797.707 L64.0042 803.564 L58.5296 803.564 Q61.7762 805.696 63.3676 808.529 Q64.9272 811.33 64.9272 815.054 Q64.9272 821.197 61.1078 824.38 Q57.2883 827.562 49.9359 827.562 M27.4968 812.826 L27.4968 812.826 Z\" fill=\"#000000\" fill-rule=\"evenodd\" fill-opacity=\"1\" /><path clip-path=\"url(#clip950)\" d=\"M33.8307 764.988 Q33.2578 765.974 33.0032 767.152 Q32.7167 768.298 32.7167 769.698 Q32.7167 774.663 35.9632 777.337 Q39.1779 779.979 45.2253 779.979 L64.0042 779.979 L64.0042 785.867 L28.3562 785.867 L28.3562 779.979 L33.8944 779.979 Q30.6479 778.133 29.0883 775.173 Q27.4968 772.213 27.4968 767.979 Q27.4968 767.375 27.5923 766.643 Q27.656 765.911 27.8151 765.019 L33.8307 764.988 Z\" fill=\"#000000\" fill-rule=\"evenodd\" fill-opacity=\"1\" /><path clip-path=\"url(#clip950)\" d=\"M46.0847 742.644 Q46.0847 749.742 47.7079 752.479 Q49.3312 755.216 53.2461 755.216 Q56.3653 755.216 58.2114 753.179 Q60.0256 751.11 60.0256 747.577 Q60.0256 742.708 56.5881 739.779 Q53.1188 736.819 47.3897 736.819 L46.0847 736.819 L46.0847 742.644 M43.6657 730.963 L64.0042 730.963 L64.0042 736.819 L58.5933 736.819 Q61.8398 738.825 63.3994 741.816 Q64.9272 744.808 64.9272 749.137 Q64.9272 754.611 61.8716 757.858 Q58.7843 761.073 53.6281 761.073 Q47.6125 761.073 44.5569 757.062 Q41.5014 753.02 41.5014 745.031 L41.5014 736.819 L40.9285 736.819 Q36.8862 736.819 34.6901 739.493 Q32.4621 742.135 32.4621 746.941 Q32.4621 749.996 33.1941 752.893 Q33.9262 755.789 35.3903 758.463 L29.9795 758.463 Q28.7381 755.248 28.1334 752.224 Q27.4968 749.201 27.4968 746.336 Q27.4968 738.602 31.5072 734.782 Q35.5176 730.963 43.6657 730.963 Z\" fill=\"#000000\" fill-rule=\"evenodd\" fill-opacity=\"1\" /><path clip-path=\"url(#clip950)\" d=\"M29.7248 693.246 L35.1993 693.246 Q33.8307 695.729 33.1623 698.243 Q32.4621 700.726 32.4621 703.272 Q32.4621 708.969 36.0905 712.12 Q39.6872 715.271 46.212 715.271 Q52.7369 715.271 56.3653 712.12 Q59.9619 708.969 59.9619 703.272 Q59.9619 700.726 59.2935 698.243 Q58.5933 695.729 57.2247 693.246 L62.6355 693.246 Q63.7814 695.697 64.3543 698.339 Q64.9272 700.949 64.9272 703.909 Q64.9272 711.961 59.8664 716.704 Q54.8057 721.446 46.212 721.446 Q37.491 721.446 32.4939 716.672 Q27.4968 711.866 27.4968 703.527 Q27.4968 700.821 28.0697 698.243 Q28.6108 695.665 29.7248 693.246 Z\" fill=\"#000000\" fill-rule=\"evenodd\" fill-opacity=\"1\" /><path clip-path=\"url(#clip950)\" d=\"M67.3143 668.229 Q73.68 670.711 75.6216 673.067 Q77.5631 675.422 77.5631 679.369 L77.5631 684.048 L72.6615 684.048 L72.6615 680.61 Q72.6615 678.191 71.5157 676.854 Q70.3699 675.518 66.1048 673.894 L63.4312 672.844 L28.3562 687.262 L28.3562 681.056 L56.238 669.916 L28.3562 658.776 L28.3562 652.569 L67.3143 668.229 Z\" fill=\"#000000\" fill-rule=\"evenodd\" fill-opacity=\"1\" /><path clip-path=\"url(#clip950)\" d=\"M14.479 624.305 L14.479 610.81 L19.0304 610.81 L19.0304 618.449 L68.0464 618.449 L68.0464 610.81 L72.5979 610.81 L72.5979 624.305 L14.479 624.305 Z\" fill=\"#000000\" fill-rule=\"evenodd\" fill-opacity=\"1\" /><path clip-path=\"url(#clip950)\" d=\"M43.0928 557.084 Q43.0928 559.853 45.4481 561.444 Q47.8034 563.004 52.0048 563.004 Q56.1425 563.004 58.5296 561.444 Q60.885 559.853 60.885 557.084 Q60.885 554.378 58.5296 552.819 Q56.1425 551.227 52.0048 551.227 Q47.8353 551.227 45.48 552.819 Q43.0928 554.378 43.0928 557.084 M39.0506 557.084 Q39.0506 552.055 42.5517 549.095 Q46.0529 546.135 52.0048 546.135 Q57.9567 546.135 61.4579 549.126 Q64.9272 552.087 64.9272 557.084 Q64.9272 562.176 61.4579 565.136 Q57.9567 568.096 52.0048 568.096 Q46.021 568.096 42.5517 565.136 Q39.0506 562.144 39.0506 557.084 M19.667 589.931 Q19.667 592.668 22.0542 594.259 Q24.4095 595.819 28.5472 595.819 Q32.7485 595.819 35.1038 594.259 Q37.4592 592.7 37.4592 589.931 Q37.4592 587.162 35.1038 585.602 Q32.7485 584.011 28.5472 584.011 Q24.4413 584.011 22.0542 585.602 Q19.667 587.193 19.667 589.931 M15.6248 561.189 L15.6248 556.097 L64.9272 585.825 L64.9272 590.917 L15.6248 561.189 M15.6248 589.931 Q15.6248 584.902 19.1259 581.91 Q22.5952 578.918 28.5472 578.918 Q34.5628 578.918 38.0321 581.91 Q41.5014 584.87 41.5014 589.931 Q41.5014 594.991 38.0321 597.951 Q34.5309 600.88 28.5472 600.88 Q22.6271 600.88 19.1259 597.92 Q15.6248 594.96 15.6248 589.931 Z\" fill=\"#000000\" fill-rule=\"evenodd\" fill-opacity=\"1\" /><path clip-path=\"url(#clip950)\" d=\"M14.479 522.709 L72.5979 522.709 L72.5979 536.204 L68.0464 536.204 L68.0464 528.597 L19.0304 528.597 L19.0304 536.204 L14.479 536.204 L14.479 522.709 Z\" fill=\"#000000\" fill-rule=\"evenodd\" fill-opacity=\"1\" /><circle clip-path=\"url(#clip952)\" cx=\"265.251\" cy=\"1384.24\" r=\"14\" fill=\"#009af9\" fill-rule=\"evenodd\" fill-opacity=\"1\" stroke=\"#000000\" stroke-opacity=\"1\" stroke-width=\"3.2\"/>\n",
       "<circle clip-path=\"url(#clip952)\" cx=\"332.808\" cy=\"1238.17\" r=\"14\" fill=\"#009af9\" fill-rule=\"evenodd\" fill-opacity=\"1\" stroke=\"#000000\" stroke-opacity=\"1\" stroke-width=\"3.2\"/>\n",
       "<circle clip-path=\"url(#clip952)\" cx=\"400.364\" cy=\"915.539\" r=\"14\" fill=\"#009af9\" fill-rule=\"evenodd\" fill-opacity=\"1\" stroke=\"#000000\" stroke-opacity=\"1\" stroke-width=\"3.2\"/>\n",
       "<circle clip-path=\"url(#clip952)\" cx=\"467.921\" cy=\"653.519\" r=\"14\" fill=\"#009af9\" fill-rule=\"evenodd\" fill-opacity=\"1\" stroke=\"#000000\" stroke-opacity=\"1\" stroke-width=\"3.2\"/>\n",
       "<circle clip-path=\"url(#clip952)\" cx=\"535.478\" cy=\"522.509\" r=\"14\" fill=\"#009af9\" fill-rule=\"evenodd\" fill-opacity=\"1\" stroke=\"#000000\" stroke-opacity=\"1\" stroke-width=\"3.2\"/>\n",
       "<circle clip-path=\"url(#clip952)\" cx=\"603.035\" cy=\"455.498\" r=\"14\" fill=\"#009af9\" fill-rule=\"evenodd\" fill-opacity=\"1\" stroke=\"#000000\" stroke-opacity=\"1\" stroke-width=\"3.2\"/>\n",
       "<circle clip-path=\"url(#clip952)\" cx=\"670.592\" cy=\"401.664\" r=\"14\" fill=\"#009af9\" fill-rule=\"evenodd\" fill-opacity=\"1\" stroke=\"#000000\" stroke-opacity=\"1\" stroke-width=\"3.2\"/>\n",
       "<circle clip-path=\"url(#clip952)\" cx=\"738.148\" cy=\"348.206\" r=\"14\" fill=\"#009af9\" fill-rule=\"evenodd\" fill-opacity=\"1\" stroke=\"#000000\" stroke-opacity=\"1\" stroke-width=\"3.2\"/>\n",
       "<circle clip-path=\"url(#clip952)\" cx=\"805.705\" cy=\"314.324\" r=\"14\" fill=\"#009af9\" fill-rule=\"evenodd\" fill-opacity=\"1\" stroke=\"#000000\" stroke-opacity=\"1\" stroke-width=\"3.2\"/>\n",
       "<circle clip-path=\"url(#clip952)\" cx=\"873.262\" cy=\"294.371\" r=\"14\" fill=\"#009af9\" fill-rule=\"evenodd\" fill-opacity=\"1\" stroke=\"#000000\" stroke-opacity=\"1\" stroke-width=\"3.2\"/>\n",
       "<circle clip-path=\"url(#clip952)\" cx=\"940.819\" cy=\"266.136\" r=\"14\" fill=\"#009af9\" fill-rule=\"evenodd\" fill-opacity=\"1\" stroke=\"#000000\" stroke-opacity=\"1\" stroke-width=\"3.2\"/>\n",
       "<circle clip-path=\"url(#clip952)\" cx=\"1008.38\" cy=\"260.866\" r=\"14\" fill=\"#009af9\" fill-rule=\"evenodd\" fill-opacity=\"1\" stroke=\"#000000\" stroke-opacity=\"1\" stroke-width=\"3.2\"/>\n",
       "<circle clip-path=\"url(#clip952)\" cx=\"1075.93\" cy=\"239.031\" r=\"14\" fill=\"#009af9\" fill-rule=\"evenodd\" fill-opacity=\"1\" stroke=\"#000000\" stroke-opacity=\"1\" stroke-width=\"3.2\"/>\n",
       "<circle clip-path=\"url(#clip952)\" cx=\"1143.49\" cy=\"272.16\" r=\"14\" fill=\"#009af9\" fill-rule=\"evenodd\" fill-opacity=\"1\" stroke=\"#000000\" stroke-opacity=\"1\" stroke-width=\"3.2\"/>\n",
       "<circle clip-path=\"url(#clip952)\" cx=\"1211.05\" cy=\"271.407\" r=\"14\" fill=\"#009af9\" fill-rule=\"evenodd\" fill-opacity=\"1\" stroke=\"#000000\" stroke-opacity=\"1\" stroke-width=\"3.2\"/>\n",
       "<circle clip-path=\"url(#clip952)\" cx=\"1278.6\" cy=\"227.36\" r=\"14\" fill=\"#009af9\" fill-rule=\"evenodd\" fill-opacity=\"1\" stroke=\"#000000\" stroke-opacity=\"1\" stroke-width=\"3.2\"/>\n",
       "<circle clip-path=\"url(#clip952)\" cx=\"1346.16\" cy=\"283.83\" r=\"14\" fill=\"#009af9\" fill-rule=\"evenodd\" fill-opacity=\"1\" stroke=\"#000000\" stroke-opacity=\"1\" stroke-width=\"3.2\"/>\n",
       "<circle clip-path=\"url(#clip952)\" cx=\"1413.72\" cy=\"222.466\" r=\"14\" fill=\"#009af9\" fill-rule=\"evenodd\" fill-opacity=\"1\" stroke=\"#000000\" stroke-opacity=\"1\" stroke-width=\"3.2\"/>\n",
       "<circle clip-path=\"url(#clip952)\" cx=\"1481.27\" cy=\"238.278\" r=\"14\" fill=\"#009af9\" fill-rule=\"evenodd\" fill-opacity=\"1\" stroke=\"#000000\" stroke-opacity=\"1\" stroke-width=\"3.2\"/>\n",
       "<circle clip-path=\"url(#clip952)\" cx=\"1548.83\" cy=\"252.96\" r=\"14\" fill=\"#009af9\" fill-rule=\"evenodd\" fill-opacity=\"1\" stroke=\"#000000\" stroke-opacity=\"1\" stroke-width=\"3.2\"/>\n",
       "<circle clip-path=\"url(#clip952)\" cx=\"1616.39\" cy=\"214.184\" r=\"14\" fill=\"#009af9\" fill-rule=\"evenodd\" fill-opacity=\"1\" stroke=\"#000000\" stroke-opacity=\"1\" stroke-width=\"3.2\"/>\n",
       "<circle clip-path=\"url(#clip952)\" cx=\"1683.94\" cy=\"218.701\" r=\"14\" fill=\"#009af9\" fill-rule=\"evenodd\" fill-opacity=\"1\" stroke=\"#000000\" stroke-opacity=\"1\" stroke-width=\"3.2\"/>\n",
       "<circle clip-path=\"url(#clip952)\" cx=\"1751.5\" cy=\"205.902\" r=\"14\" fill=\"#009af9\" fill-rule=\"evenodd\" fill-opacity=\"1\" stroke=\"#000000\" stroke-opacity=\"1\" stroke-width=\"3.2\"/>\n",
       "<circle clip-path=\"url(#clip952)\" cx=\"1819.06\" cy=\"233.007\" r=\"14\" fill=\"#009af9\" fill-rule=\"evenodd\" fill-opacity=\"1\" stroke=\"#000000\" stroke-opacity=\"1\" stroke-width=\"3.2\"/>\n",
       "<circle clip-path=\"url(#clip952)\" cx=\"1886.61\" cy=\"202.137\" r=\"14\" fill=\"#009af9\" fill-rule=\"evenodd\" fill-opacity=\"1\" stroke=\"#000000\" stroke-opacity=\"1\" stroke-width=\"3.2\"/>\n",
       "<circle clip-path=\"url(#clip952)\" cx=\"1954.17\" cy=\"191.972\" r=\"14\" fill=\"#009af9\" fill-rule=\"evenodd\" fill-opacity=\"1\" stroke=\"#000000\" stroke-opacity=\"1\" stroke-width=\"3.2\"/>\n",
       "<circle clip-path=\"url(#clip952)\" cx=\"2021.73\" cy=\"187.078\" r=\"14\" fill=\"#009af9\" fill-rule=\"evenodd\" fill-opacity=\"1\" stroke=\"#000000\" stroke-opacity=\"1\" stroke-width=\"3.2\"/>\n",
       "<circle clip-path=\"url(#clip952)\" cx=\"2089.28\" cy=\"210.419\" r=\"14\" fill=\"#009af9\" fill-rule=\"evenodd\" fill-opacity=\"1\" stroke=\"#000000\" stroke-opacity=\"1\" stroke-width=\"3.2\"/>\n",
       "<circle clip-path=\"url(#clip952)\" cx=\"2156.84\" cy=\"232.631\" r=\"14\" fill=\"#009af9\" fill-rule=\"evenodd\" fill-opacity=\"1\" stroke=\"#000000\" stroke-opacity=\"1\" stroke-width=\"3.2\"/>\n",
       "<circle clip-path=\"url(#clip952)\" cx=\"2224.4\" cy=\"177.667\" r=\"14\" fill=\"#009af9\" fill-rule=\"evenodd\" fill-opacity=\"1\" stroke=\"#000000\" stroke-opacity=\"1\" stroke-width=\"3.2\"/>\n",
       "<circle clip-path=\"url(#clip952)\" cx=\"2291.95\" cy=\"180.678\" r=\"14\" fill=\"#009af9\" fill-rule=\"evenodd\" fill-opacity=\"1\" stroke=\"#000000\" stroke-opacity=\"1\" stroke-width=\"3.2\"/>\n",
       "<circle clip-path=\"url(#clip952)\" cx=\"265.251\" cy=\"1384.24\" r=\"14\" fill=\"#e26f46\" fill-rule=\"evenodd\" fill-opacity=\"1\" stroke=\"#000000\" stroke-opacity=\"1\" stroke-width=\"3.2\"/>\n",
       "<circle clip-path=\"url(#clip952)\" cx=\"332.808\" cy=\"1153.84\" r=\"14\" fill=\"#e26f46\" fill-rule=\"evenodd\" fill-opacity=\"1\" stroke=\"#000000\" stroke-opacity=\"1\" stroke-width=\"3.2\"/>\n",
       "<circle clip-path=\"url(#clip952)\" cx=\"400.364\" cy=\"1224.62\" r=\"14\" fill=\"#e26f46\" fill-rule=\"evenodd\" fill-opacity=\"1\" stroke=\"#000000\" stroke-opacity=\"1\" stroke-width=\"3.2\"/>\n",
       "<circle clip-path=\"url(#clip952)\" cx=\"467.921\" cy=\"1080.81\" r=\"14\" fill=\"#e26f46\" fill-rule=\"evenodd\" fill-opacity=\"1\" stroke=\"#000000\" stroke-opacity=\"1\" stroke-width=\"3.2\"/>\n",
       "<circle clip-path=\"url(#clip952)\" cx=\"535.478\" cy=\"881.657\" r=\"14\" fill=\"#e26f46\" fill-rule=\"evenodd\" fill-opacity=\"1\" stroke=\"#000000\" stroke-opacity=\"1\" stroke-width=\"3.2\"/>\n",
       "<circle clip-path=\"url(#clip952)\" cx=\"603.035\" cy=\"892.951\" r=\"14\" fill=\"#e26f46\" fill-rule=\"evenodd\" fill-opacity=\"1\" stroke=\"#000000\" stroke-opacity=\"1\" stroke-width=\"3.2\"/>\n",
       "<circle clip-path=\"url(#clip952)\" cx=\"670.592\" cy=\"830.458\" r=\"14\" fill=\"#e26f46\" fill-rule=\"evenodd\" fill-opacity=\"1\" stroke=\"#000000\" stroke-opacity=\"1\" stroke-width=\"3.2\"/>\n",
       "<circle clip-path=\"url(#clip952)\" cx=\"738.148\" cy=\"553.756\" r=\"14\" fill=\"#e26f46\" fill-rule=\"evenodd\" fill-opacity=\"1\" stroke=\"#000000\" stroke-opacity=\"1\" stroke-width=\"3.2\"/>\n",
       "<circle clip-path=\"url(#clip952)\" cx=\"805.705\" cy=\"482.98\" r=\"14\" fill=\"#e26f46\" fill-rule=\"evenodd\" fill-opacity=\"1\" stroke=\"#000000\" stroke-opacity=\"1\" stroke-width=\"3.2\"/>\n",
       "<circle clip-path=\"url(#clip952)\" cx=\"873.262\" cy=\"512.721\" r=\"14\" fill=\"#e26f46\" fill-rule=\"evenodd\" fill-opacity=\"1\" stroke=\"#000000\" stroke-opacity=\"1\" stroke-width=\"3.2\"/>\n",
       "<circle clip-path=\"url(#clip952)\" cx=\"940.819\" cy=\"484.486\" r=\"14\" fill=\"#e26f46\" fill-rule=\"evenodd\" fill-opacity=\"1\" stroke=\"#000000\" stroke-opacity=\"1\" stroke-width=\"3.2\"/>\n",
       "<circle clip-path=\"url(#clip952)\" cx=\"1008.38\" cy=\"307.171\" r=\"14\" fill=\"#e26f46\" fill-rule=\"evenodd\" fill-opacity=\"1\" stroke=\"#000000\" stroke-opacity=\"1\" stroke-width=\"3.2\"/>\n",
       "<circle clip-path=\"url(#clip952)\" cx=\"1075.93\" cy=\"263.877\" r=\"14\" fill=\"#e26f46\" fill-rule=\"evenodd\" fill-opacity=\"1\" stroke=\"#000000\" stroke-opacity=\"1\" stroke-width=\"3.2\"/>\n",
       "<circle clip-path=\"url(#clip952)\" cx=\"1143.49\" cy=\"292.112\" r=\"14\" fill=\"#e26f46\" fill-rule=\"evenodd\" fill-opacity=\"1\" stroke=\"#000000\" stroke-opacity=\"1\" stroke-width=\"3.2\"/>\n",
       "<circle clip-path=\"url(#clip952)\" cx=\"1211.05\" cy=\"291.359\" r=\"14\" fill=\"#e26f46\" fill-rule=\"evenodd\" fill-opacity=\"1\" stroke=\"#000000\" stroke-opacity=\"1\" stroke-width=\"3.2\"/>\n",
       "<circle clip-path=\"url(#clip952)\" cx=\"1278.6\" cy=\"186.325\" r=\"14\" fill=\"#e26f46\" fill-rule=\"evenodd\" fill-opacity=\"1\" stroke=\"#000000\" stroke-opacity=\"1\" stroke-width=\"3.2\"/>\n",
       "<circle clip-path=\"url(#clip952)\" cx=\"1346.16\" cy=\"173.149\" r=\"14\" fill=\"#e26f46\" fill-rule=\"evenodd\" fill-opacity=\"1\" stroke=\"#000000\" stroke-opacity=\"1\" stroke-width=\"3.2\"/>\n",
       "<circle clip-path=\"url(#clip952)\" cx=\"1413.72\" cy=\"174.279\" r=\"14\" fill=\"#e26f46\" fill-rule=\"evenodd\" fill-opacity=\"1\" stroke=\"#000000\" stroke-opacity=\"1\" stroke-width=\"3.2\"/>\n",
       "<circle clip-path=\"url(#clip952)\" cx=\"1481.27\" cy=\"148.302\" r=\"14\" fill=\"#e26f46\" fill-rule=\"evenodd\" fill-opacity=\"1\" stroke=\"#000000\" stroke-opacity=\"1\" stroke-width=\"3.2\"/>\n",
       "<circle clip-path=\"url(#clip952)\" cx=\"1548.83\" cy=\"151.314\" r=\"14\" fill=\"#e26f46\" fill-rule=\"evenodd\" fill-opacity=\"1\" stroke=\"#000000\" stroke-opacity=\"1\" stroke-width=\"3.2\"/>\n",
       "<circle clip-path=\"url(#clip952)\" cx=\"1616.39\" cy=\"147.926\" r=\"14\" fill=\"#e26f46\" fill-rule=\"evenodd\" fill-opacity=\"1\" stroke=\"#000000\" stroke-opacity=\"1\" stroke-width=\"3.2\"/>\n",
       "<circle clip-path=\"url(#clip952)\" cx=\"1683.94\" cy=\"133.62\" r=\"14\" fill=\"#e26f46\" fill-rule=\"evenodd\" fill-opacity=\"1\" stroke=\"#000000\" stroke-opacity=\"1\" stroke-width=\"3.2\"/>\n",
       "<circle clip-path=\"url(#clip952)\" cx=\"1751.5\" cy=\"124.962\" r=\"14\" fill=\"#e26f46\" fill-rule=\"evenodd\" fill-opacity=\"1\" stroke=\"#000000\" stroke-opacity=\"1\" stroke-width=\"3.2\"/>\n",
       "<circle clip-path=\"url(#clip952)\" cx=\"1819.06\" cy=\"133.244\" r=\"14\" fill=\"#e26f46\" fill-rule=\"evenodd\" fill-opacity=\"1\" stroke=\"#000000\" stroke-opacity=\"1\" stroke-width=\"3.2\"/>\n",
       "<circle clip-path=\"url(#clip952)\" cx=\"1886.61\" cy=\"127.973\" r=\"14\" fill=\"#e26f46\" fill-rule=\"evenodd\" fill-opacity=\"1\" stroke=\"#000000\" stroke-opacity=\"1\" stroke-width=\"3.2\"/>\n",
       "<circle clip-path=\"url(#clip952)\" cx=\"1954.17\" cy=\"111.032\" r=\"14\" fill=\"#e26f46\" fill-rule=\"evenodd\" fill-opacity=\"1\" stroke=\"#000000\" stroke-opacity=\"1\" stroke-width=\"3.2\"/>\n",
       "<circle clip-path=\"url(#clip952)\" cx=\"2021.73\" cy=\"112.162\" r=\"14\" fill=\"#e26f46\" fill-rule=\"evenodd\" fill-opacity=\"1\" stroke=\"#000000\" stroke-opacity=\"1\" stroke-width=\"3.2\"/>\n",
       "<circle clip-path=\"url(#clip952)\" cx=\"2089.28\" cy=\"104.256\" r=\"14\" fill=\"#e26f46\" fill-rule=\"evenodd\" fill-opacity=\"1\" stroke=\"#000000\" stroke-opacity=\"1\" stroke-width=\"3.2\"/>\n",
       "<circle clip-path=\"url(#clip952)\" cx=\"2156.84\" cy=\"107.644\" r=\"14\" fill=\"#e26f46\" fill-rule=\"evenodd\" fill-opacity=\"1\" stroke=\"#000000\" stroke-opacity=\"1\" stroke-width=\"3.2\"/>\n",
       "<circle clip-path=\"url(#clip952)\" cx=\"2224.4\" cy=\"94.8444\" r=\"14\" fill=\"#e26f46\" fill-rule=\"evenodd\" fill-opacity=\"1\" stroke=\"#000000\" stroke-opacity=\"1\" stroke-width=\"3.2\"/>\n",
       "<circle clip-path=\"url(#clip952)\" cx=\"2291.95\" cy=\"101.244\" r=\"14\" fill=\"#e26f46\" fill-rule=\"evenodd\" fill-opacity=\"1\" stroke=\"#000000\" stroke-opacity=\"1\" stroke-width=\"3.2\"/>\n",
       "<circle clip-path=\"url(#clip952)\" cx=\"265.251\" cy=\"1384.24\" r=\"14\" fill=\"#3da44d\" fill-rule=\"evenodd\" fill-opacity=\"1\" stroke=\"#000000\" stroke-opacity=\"1\" stroke-width=\"3.2\"/>\n",
       "<circle clip-path=\"url(#clip952)\" cx=\"332.808\" cy=\"1158.74\" r=\"14\" fill=\"#3da44d\" fill-rule=\"evenodd\" fill-opacity=\"1\" stroke=\"#000000\" stroke-opacity=\"1\" stroke-width=\"3.2\"/>\n",
       "<circle clip-path=\"url(#clip952)\" cx=\"400.364\" cy=\"826.317\" r=\"14\" fill=\"#3da44d\" fill-rule=\"evenodd\" fill-opacity=\"1\" stroke=\"#000000\" stroke-opacity=\"1\" stroke-width=\"3.2\"/>\n",
       "<circle clip-path=\"url(#clip952)\" cx=\"467.921\" cy=\"795.446\" r=\"14\" fill=\"#3da44d\" fill-rule=\"evenodd\" fill-opacity=\"1\" stroke=\"#000000\" stroke-opacity=\"1\" stroke-width=\"3.2\"/>\n",
       "<circle clip-path=\"url(#clip952)\" cx=\"535.478\" cy=\"496.909\" r=\"14\" fill=\"#3da44d\" fill-rule=\"evenodd\" fill-opacity=\"1\" stroke=\"#000000\" stroke-opacity=\"1\" stroke-width=\"3.2\"/>\n",
       "<circle clip-path=\"url(#clip952)\" cx=\"603.035\" cy=\"452.863\" r=\"14\" fill=\"#3da44d\" fill-rule=\"evenodd\" fill-opacity=\"1\" stroke=\"#000000\" stroke-opacity=\"1\" stroke-width=\"3.2\"/>\n",
       "<circle clip-path=\"url(#clip952)\" cx=\"670.592\" cy=\"440.063\" r=\"14\" fill=\"#3da44d\" fill-rule=\"evenodd\" fill-opacity=\"1\" stroke=\"#000000\" stroke-opacity=\"1\" stroke-width=\"3.2\"/>\n",
       "<circle clip-path=\"url(#clip952)\" cx=\"738.148\" cy=\"322.982\" r=\"14\" fill=\"#3da44d\" fill-rule=\"evenodd\" fill-opacity=\"1\" stroke=\"#000000\" stroke-opacity=\"1\" stroke-width=\"3.2\"/>\n",
       "<circle clip-path=\"url(#clip952)\" cx=\"805.705\" cy=\"327.124\" r=\"14\" fill=\"#3da44d\" fill-rule=\"evenodd\" fill-opacity=\"1\" stroke=\"#000000\" stroke-opacity=\"1\" stroke-width=\"3.2\"/>\n",
       "<circle clip-path=\"url(#clip952)\" cx=\"873.262\" cy=\"275.924\" r=\"14\" fill=\"#3da44d\" fill-rule=\"evenodd\" fill-opacity=\"1\" stroke=\"#000000\" stroke-opacity=\"1\" stroke-width=\"3.2\"/>\n",
       "<circle clip-path=\"url(#clip952)\" cx=\"940.819\" cy=\"220.584\" r=\"14\" fill=\"#3da44d\" fill-rule=\"evenodd\" fill-opacity=\"1\" stroke=\"#000000\" stroke-opacity=\"1\" stroke-width=\"3.2\"/>\n",
       "<circle clip-path=\"url(#clip952)\" cx=\"1008.38\" cy=\"223.596\" r=\"14\" fill=\"#3da44d\" fill-rule=\"evenodd\" fill-opacity=\"1\" stroke=\"#000000\" stroke-opacity=\"1\" stroke-width=\"3.2\"/>\n",
       "<circle clip-path=\"url(#clip952)\" cx=\"1075.93\" cy=\"185.949\" r=\"14\" fill=\"#3da44d\" fill-rule=\"evenodd\" fill-opacity=\"1\" stroke=\"#000000\" stroke-opacity=\"1\" stroke-width=\"3.2\"/>\n",
       "<circle clip-path=\"url(#clip952)\" cx=\"1143.49\" cy=\"181.055\" r=\"14\" fill=\"#3da44d\" fill-rule=\"evenodd\" fill-opacity=\"1\" stroke=\"#000000\" stroke-opacity=\"1\" stroke-width=\"3.2\"/>\n",
       "<circle clip-path=\"url(#clip952)\" cx=\"1211.05\" cy=\"156.585\" r=\"14\" fill=\"#3da44d\" fill-rule=\"evenodd\" fill-opacity=\"1\" stroke=\"#000000\" stroke-opacity=\"1\" stroke-width=\"3.2\"/>\n",
       "<circle clip-path=\"url(#clip952)\" cx=\"1278.6\" cy=\"170.514\" r=\"14\" fill=\"#3da44d\" fill-rule=\"evenodd\" fill-opacity=\"1\" stroke=\"#000000\" stroke-opacity=\"1\" stroke-width=\"3.2\"/>\n",
       "<circle clip-path=\"url(#clip952)\" cx=\"1346.16\" cy=\"154.702\" r=\"14\" fill=\"#3da44d\" fill-rule=\"evenodd\" fill-opacity=\"1\" stroke=\"#000000\" stroke-opacity=\"1\" stroke-width=\"3.2\"/>\n",
       "<circle clip-path=\"url(#clip952)\" cx=\"1413.72\" cy=\"136.256\" r=\"14\" fill=\"#3da44d\" fill-rule=\"evenodd\" fill-opacity=\"1\" stroke=\"#000000\" stroke-opacity=\"1\" stroke-width=\"3.2\"/>\n",
       "<circle clip-path=\"url(#clip952)\" cx=\"1481.27\" cy=\"118.185\" r=\"14\" fill=\"#3da44d\" fill-rule=\"evenodd\" fill-opacity=\"1\" stroke=\"#000000\" stroke-opacity=\"1\" stroke-width=\"3.2\"/>\n",
       "<circle clip-path=\"url(#clip952)\" cx=\"1548.83\" cy=\"116.303\" r=\"14\" fill=\"#3da44d\" fill-rule=\"evenodd\" fill-opacity=\"1\" stroke=\"#000000\" stroke-opacity=\"1\" stroke-width=\"3.2\"/>\n",
       "<circle clip-path=\"url(#clip952)\" cx=\"1616.39\" cy=\"114.044\" r=\"14\" fill=\"#3da44d\" fill-rule=\"evenodd\" fill-opacity=\"1\" stroke=\"#000000\" stroke-opacity=\"1\" stroke-width=\"3.2\"/>\n",
       "<circle clip-path=\"url(#clip952)\" cx=\"1683.94\" cy=\"110.279\" r=\"14\" fill=\"#3da44d\" fill-rule=\"evenodd\" fill-opacity=\"1\" stroke=\"#000000\" stroke-opacity=\"1\" stroke-width=\"3.2\"/>\n",
       "<circle clip-path=\"url(#clip952)\" cx=\"1751.5\" cy=\"112.538\" r=\"14\" fill=\"#3da44d\" fill-rule=\"evenodd\" fill-opacity=\"1\" stroke=\"#000000\" stroke-opacity=\"1\" stroke-width=\"3.2\"/>\n",
       "<circle clip-path=\"url(#clip952)\" cx=\"1819.06\" cy=\"98.9855\" r=\"14\" fill=\"#3da44d\" fill-rule=\"evenodd\" fill-opacity=\"1\" stroke=\"#000000\" stroke-opacity=\"1\" stroke-width=\"3.2\"/>\n",
       "<circle clip-path=\"url(#clip952)\" cx=\"1886.61\" cy=\"103.88\" r=\"14\" fill=\"#3da44d\" fill-rule=\"evenodd\" fill-opacity=\"1\" stroke=\"#000000\" stroke-opacity=\"1\" stroke-width=\"3.2\"/>\n",
       "<circle clip-path=\"url(#clip952)\" cx=\"1954.17\" cy=\"100.491\" r=\"14\" fill=\"#3da44d\" fill-rule=\"evenodd\" fill-opacity=\"1\" stroke=\"#000000\" stroke-opacity=\"1\" stroke-width=\"3.2\"/>\n",
       "<circle clip-path=\"url(#clip952)\" cx=\"2021.73\" cy=\"126.844\" r=\"14\" fill=\"#3da44d\" fill-rule=\"evenodd\" fill-opacity=\"1\" stroke=\"#000000\" stroke-opacity=\"1\" stroke-width=\"3.2\"/>\n",
       "<circle clip-path=\"url(#clip952)\" cx=\"2089.28\" cy=\"95.9738\" r=\"14\" fill=\"#3da44d\" fill-rule=\"evenodd\" fill-opacity=\"1\" stroke=\"#000000\" stroke-opacity=\"1\" stroke-width=\"3.2\"/>\n",
       "<circle clip-path=\"url(#clip952)\" cx=\"2156.84\" cy=\"86.1857\" r=\"14\" fill=\"#3da44d\" fill-rule=\"evenodd\" fill-opacity=\"1\" stroke=\"#000000\" stroke-opacity=\"1\" stroke-width=\"3.2\"/>\n",
       "<circle clip-path=\"url(#clip952)\" cx=\"2224.4\" cy=\"98.2326\" r=\"14\" fill=\"#3da44d\" fill-rule=\"evenodd\" fill-opacity=\"1\" stroke=\"#000000\" stroke-opacity=\"1\" stroke-width=\"3.2\"/>\n",
       "<circle clip-path=\"url(#clip952)\" cx=\"2291.95\" cy=\"90.7033\" r=\"14\" fill=\"#3da44d\" fill-rule=\"evenodd\" fill-opacity=\"1\" stroke=\"#000000\" stroke-opacity=\"1\" stroke-width=\"3.2\"/>\n",
       "<path clip-path=\"url(#clip950)\" d=\"\n",
       "M1618.16 1377.32 L2281.15 1377.32 L2281.15 1169.96 L1618.16 1169.96  Z\n",
       "  \" fill=\"#ffffff\" fill-rule=\"evenodd\" fill-opacity=\"1\"/>\n",
       "<polyline clip-path=\"url(#clip950)\" style=\"stroke:#000000; stroke-linecap:butt; stroke-linejoin:round; stroke-width:4; stroke-opacity:1; fill:none\" points=\"\n",
       "  1618.16,1377.32 2281.15,1377.32 2281.15,1169.96 1618.16,1169.96 1618.16,1377.32 \n",
       "  \"/>\n",
       "<circle clip-path=\"url(#clip950)\" cx=\"1713.65\" cy=\"1221.8\" r=\"23\" fill=\"#009af9\" fill-rule=\"evenodd\" fill-opacity=\"1\" stroke=\"#000000\" stroke-opacity=\"1\" stroke-width=\"5.12\"/>\n",
       "<path clip-path=\"url(#clip950)\" d=\"M1825.51 1222.87 Q1827.02 1223.38 1828.43 1225.05 Q1829.87 1226.71 1831.3 1229.63 L1836.05 1239.08 L1831.02 1239.08 L1826.6 1230.21 Q1824.89 1226.74 1823.27 1225.6 Q1821.67 1224.47 1818.89 1224.47 L1813.8 1224.47 L1813.8 1239.08 L1809.13 1239.08 L1809.13 1204.52 L1819.68 1204.52 Q1825.61 1204.52 1828.52 1206.99 Q1831.44 1209.47 1831.44 1214.47 Q1831.44 1217.73 1829.91 1219.89 Q1828.41 1222.04 1825.51 1222.87 M1813.8 1208.36 L1813.8 1220.63 L1819.68 1220.63 Q1823.06 1220.63 1824.77 1219.08 Q1826.51 1217.5 1826.51 1214.47 Q1826.51 1211.44 1824.77 1209.91 Q1823.06 1208.36 1819.68 1208.36 L1813.8 1208.36 Z\" fill=\"#000000\" fill-rule=\"evenodd\" fill-opacity=\"1\" /><path clip-path=\"url(#clip950)\" d=\"M1852.62 1226.04 Q1847.46 1226.04 1845.47 1227.22 Q1843.48 1228.4 1843.48 1231.25 Q1843.48 1233.52 1844.96 1234.86 Q1846.46 1236.18 1849.03 1236.18 Q1852.57 1236.18 1854.7 1233.68 Q1856.86 1231.16 1856.86 1226.99 L1856.86 1226.04 L1852.62 1226.04 M1861.12 1224.28 L1861.12 1239.08 L1856.86 1239.08 L1856.86 1235.14 Q1855.4 1237.5 1853.22 1238.64 Q1851.05 1239.75 1847.9 1239.75 Q1843.92 1239.75 1841.56 1237.52 Q1839.22 1235.28 1839.22 1231.53 Q1839.22 1227.15 1842.13 1224.93 Q1845.07 1222.71 1850.88 1222.71 L1856.86 1222.71 L1856.86 1222.29 Q1856.86 1219.35 1854.91 1217.76 Q1852.99 1216.14 1849.5 1216.14 Q1847.27 1216.14 1845.17 1216.67 Q1843.06 1217.2 1841.12 1218.27 L1841.12 1214.33 Q1843.45 1213.43 1845.65 1212.99 Q1847.85 1212.52 1849.94 1212.52 Q1855.56 1212.52 1858.34 1215.44 Q1861.12 1218.36 1861.12 1224.28 Z\" fill=\"#000000\" fill-rule=\"evenodd\" fill-opacity=\"1\" /><path clip-path=\"url(#clip950)\" d=\"M1891.44 1223.43 L1891.44 1239.08 L1887.18 1239.08 L1887.18 1223.57 Q1887.18 1219.89 1885.75 1218.06 Q1884.31 1216.23 1881.44 1216.23 Q1877.99 1216.23 1876 1218.43 Q1874.01 1220.63 1874.01 1224.42 L1874.01 1239.08 L1869.73 1239.08 L1869.73 1213.15 L1874.01 1213.15 L1874.01 1217.18 Q1875.54 1214.84 1877.6 1213.68 Q1879.68 1212.52 1882.39 1212.52 Q1886.86 1212.52 1889.15 1215.3 Q1891.44 1218.06 1891.44 1223.43 Z\" fill=\"#000000\" fill-rule=\"evenodd\" fill-opacity=\"1\" /><path clip-path=\"url(#clip950)\" d=\"M1917 1217.08 L1917 1203.06 L1921.25 1203.06 L1921.25 1239.08 L1917 1239.08 L1917 1235.19 Q1915.65 1237.5 1913.59 1238.64 Q1911.56 1239.75 1908.69 1239.75 Q1903.99 1239.75 1901.02 1236 Q1898.08 1232.25 1898.08 1226.14 Q1898.08 1220.02 1901.02 1216.27 Q1903.99 1212.52 1908.69 1212.52 Q1911.56 1212.52 1913.59 1213.66 Q1915.65 1214.77 1917 1217.08 M1902.48 1226.14 Q1902.48 1230.83 1904.4 1233.52 Q1906.35 1236.18 1909.73 1236.18 Q1913.11 1236.18 1915.05 1233.52 Q1917 1230.83 1917 1226.14 Q1917 1221.44 1915.05 1218.77 Q1913.11 1216.09 1909.73 1216.09 Q1906.35 1216.09 1904.4 1218.77 Q1902.48 1221.44 1902.48 1226.14 Z\" fill=\"#000000\" fill-rule=\"evenodd\" fill-opacity=\"1\" /><path clip-path=\"url(#clip950)\" d=\"M1940.07 1216.14 Q1936.65 1216.14 1934.66 1218.82 Q1932.67 1221.48 1932.67 1226.14 Q1932.67 1230.79 1934.63 1233.47 Q1936.62 1236.14 1940.07 1236.14 Q1943.48 1236.14 1945.47 1233.45 Q1947.46 1230.77 1947.46 1226.14 Q1947.46 1221.53 1945.47 1218.84 Q1943.48 1216.14 1940.07 1216.14 M1940.07 1212.52 Q1945.63 1212.52 1948.8 1216.14 Q1951.97 1219.75 1951.97 1226.14 Q1951.97 1232.5 1948.8 1236.14 Q1945.63 1239.75 1940.07 1239.75 Q1934.5 1239.75 1931.32 1236.14 Q1928.18 1232.5 1928.18 1226.14 Q1928.18 1219.75 1931.32 1216.14 Q1934.5 1212.52 1940.07 1212.52 Z\" fill=\"#000000\" fill-rule=\"evenodd\" fill-opacity=\"1\" /><path clip-path=\"url(#clip950)\" d=\"M1979.22 1218.13 Q1980.81 1215.26 1983.04 1213.89 Q1985.26 1212.52 1988.27 1212.52 Q1992.32 1212.52 1994.52 1215.37 Q1996.72 1218.2 1996.72 1223.43 L1996.72 1239.08 L1992.43 1239.08 L1992.43 1223.57 Q1992.43 1219.84 1991.12 1218.03 Q1989.8 1216.23 1987.09 1216.23 Q1983.78 1216.23 1981.86 1218.43 Q1979.93 1220.63 1979.93 1224.42 L1979.93 1239.08 L1975.65 1239.08 L1975.65 1223.57 Q1975.65 1219.82 1974.33 1218.03 Q1973.01 1216.23 1970.26 1216.23 Q1966.99 1216.23 1965.07 1218.45 Q1963.15 1220.65 1963.15 1224.42 L1963.15 1239.08 L1958.87 1239.08 L1958.87 1213.15 L1963.15 1213.15 L1963.15 1217.18 Q1964.61 1214.79 1966.65 1213.66 Q1968.68 1212.52 1971.49 1212.52 Q1974.31 1212.52 1976.28 1213.96 Q1978.27 1215.39 1979.22 1218.13 Z\" fill=\"#000000\" fill-rule=\"evenodd\" fill-opacity=\"1\" /><path clip-path=\"url(#clip950)\" d=\"M2041.18 1205.65 L2041.18 1210.21 Q2038.52 1208.94 2036.16 1208.31 Q2033.8 1207.69 2031.6 1207.69 Q2027.78 1207.69 2025.7 1209.17 Q2023.64 1210.65 2023.64 1213.38 Q2023.64 1215.67 2025 1216.85 Q2026.39 1218.01 2030.24 1218.73 L2033.06 1219.31 Q2038.29 1220.3 2040.77 1222.83 Q2043.27 1225.33 2043.27 1229.54 Q2043.27 1234.56 2039.89 1237.15 Q2036.53 1239.75 2030.03 1239.75 Q2027.57 1239.75 2024.8 1239.19 Q2022.04 1238.64 2019.08 1237.55 L2019.08 1232.73 Q2021.93 1234.33 2024.66 1235.14 Q2027.39 1235.95 2030.03 1235.95 Q2034.03 1235.95 2036.21 1234.38 Q2038.38 1232.8 2038.38 1229.89 Q2038.38 1227.34 2036.81 1225.9 Q2035.26 1224.47 2031.69 1223.75 L2028.85 1223.2 Q2023.62 1222.15 2021.28 1219.93 Q2018.94 1217.71 2018.94 1213.75 Q2018.94 1209.17 2022.16 1206.53 Q2025.4 1203.89 2031.07 1203.89 Q2033.5 1203.89 2036.02 1204.33 Q2038.55 1204.77 2041.18 1205.65 Z\" fill=\"#000000\" fill-rule=\"evenodd\" fill-opacity=\"1\" /><path clip-path=\"url(#clip950)\" d=\"M2062.16 1226.04 Q2056.99 1226.04 2055 1227.22 Q2053.01 1228.4 2053.01 1231.25 Q2053.01 1233.52 2054.49 1234.86 Q2056 1236.18 2058.57 1236.18 Q2062.11 1236.18 2064.24 1233.68 Q2066.39 1231.16 2066.39 1226.99 L2066.39 1226.04 L2062.16 1226.04 M2070.65 1224.28 L2070.65 1239.08 L2066.39 1239.08 L2066.39 1235.14 Q2064.93 1237.5 2062.76 1238.64 Q2060.58 1239.75 2057.43 1239.75 Q2053.45 1239.75 2051.09 1237.52 Q2048.75 1235.28 2048.75 1231.53 Q2048.75 1227.15 2051.67 1224.93 Q2054.61 1222.71 2060.42 1222.71 L2066.39 1222.71 L2066.39 1222.29 Q2066.39 1219.35 2064.45 1217.76 Q2062.53 1216.14 2059.03 1216.14 Q2056.81 1216.14 2054.7 1216.67 Q2052.6 1217.2 2050.65 1218.27 L2050.65 1214.33 Q2052.99 1213.43 2055.19 1212.99 Q2057.39 1212.52 2059.47 1212.52 Q2065.1 1212.52 2067.87 1215.44 Q2070.65 1218.36 2070.65 1224.28 Z\" fill=\"#000000\" fill-rule=\"evenodd\" fill-opacity=\"1\" /><path clip-path=\"url(#clip950)\" d=\"M2099.61 1218.13 Q2101.21 1215.26 2103.43 1213.89 Q2105.65 1212.52 2108.66 1212.52 Q2112.71 1212.52 2114.91 1215.37 Q2117.11 1218.2 2117.11 1223.43 L2117.11 1239.08 L2112.83 1239.08 L2112.83 1223.57 Q2112.83 1219.84 2111.51 1218.03 Q2110.19 1216.23 2107.48 1216.23 Q2104.17 1216.23 2102.25 1218.43 Q2100.33 1220.63 2100.33 1224.42 L2100.33 1239.08 L2096.05 1239.08 L2096.05 1223.57 Q2096.05 1219.82 2094.73 1218.03 Q2093.41 1216.23 2090.65 1216.23 Q2087.39 1216.23 2085.47 1218.45 Q2083.55 1220.65 2083.55 1224.42 L2083.55 1239.08 L2079.26 1239.08 L2079.26 1213.15 L2083.55 1213.15 L2083.55 1217.18 Q2085 1214.79 2087.04 1213.66 Q2089.08 1212.52 2091.88 1212.52 Q2094.7 1212.52 2096.67 1213.96 Q2098.66 1215.39 2099.61 1218.13 Z\" fill=\"#000000\" fill-rule=\"evenodd\" fill-opacity=\"1\" /><path clip-path=\"url(#clip950)\" d=\"M2129.73 1235.19 L2129.73 1248.94 L2125.44 1248.94 L2125.44 1213.15 L2129.73 1213.15 L2129.73 1217.08 Q2131.07 1214.77 2133.11 1213.66 Q2135.17 1212.52 2138.01 1212.52 Q2142.73 1212.52 2145.67 1216.27 Q2148.64 1220.02 2148.64 1226.14 Q2148.64 1232.25 2145.67 1236 Q2142.73 1239.75 2138.01 1239.75 Q2135.17 1239.75 2133.11 1238.64 Q2131.07 1237.5 2129.73 1235.19 M2144.22 1226.14 Q2144.22 1221.44 2142.27 1218.77 Q2140.35 1216.09 2136.97 1216.09 Q2133.59 1216.09 2131.65 1218.77 Q2129.73 1221.44 2129.73 1226.14 Q2129.73 1230.83 2131.65 1233.52 Q2133.59 1236.18 2136.97 1236.18 Q2140.35 1236.18 2142.27 1233.52 Q2144.22 1230.83 2144.22 1226.14 Z\" fill=\"#000000\" fill-rule=\"evenodd\" fill-opacity=\"1\" /><path clip-path=\"url(#clip950)\" d=\"M2155.7 1203.06 L2159.96 1203.06 L2159.96 1239.08 L2155.7 1239.08 L2155.7 1203.06 Z\" fill=\"#000000\" fill-rule=\"evenodd\" fill-opacity=\"1\" /><path clip-path=\"url(#clip950)\" d=\"M2168.87 1213.15 L2173.13 1213.15 L2173.13 1239.08 L2168.87 1239.08 L2168.87 1213.15 M2168.87 1203.06 L2173.13 1203.06 L2173.13 1208.45 L2168.87 1208.45 L2168.87 1203.06 Z\" fill=\"#000000\" fill-rule=\"evenodd\" fill-opacity=\"1\" /><path clip-path=\"url(#clip950)\" d=\"M2203.59 1223.43 L2203.59 1239.08 L2199.33 1239.08 L2199.33 1223.57 Q2199.33 1219.89 2197.9 1218.06 Q2196.46 1216.23 2193.59 1216.23 Q2190.14 1216.23 2188.15 1218.43 Q2186.16 1220.63 2186.16 1224.42 L2186.16 1239.08 L2181.88 1239.08 L2181.88 1213.15 L2186.16 1213.15 L2186.16 1217.18 Q2187.69 1214.84 2189.75 1213.68 Q2191.83 1212.52 2194.54 1212.52 Q2199.01 1212.52 2201.3 1215.3 Q2203.59 1218.06 2203.59 1223.43 Z\" fill=\"#000000\" fill-rule=\"evenodd\" fill-opacity=\"1\" /><path clip-path=\"url(#clip950)\" d=\"M2229.15 1225.81 Q2229.15 1221.18 2227.23 1218.64 Q2225.33 1216.09 2221.88 1216.09 Q2218.45 1216.09 2216.53 1218.64 Q2214.63 1221.18 2214.63 1225.81 Q2214.63 1230.42 2216.53 1232.96 Q2218.45 1235.51 2221.88 1235.51 Q2225.33 1235.51 2227.23 1232.96 Q2229.15 1230.42 2229.15 1225.81 M2233.41 1235.86 Q2233.41 1242.48 2230.47 1245.7 Q2227.53 1248.94 2221.46 1248.94 Q2219.22 1248.94 2217.23 1248.59 Q2215.23 1248.27 2213.36 1247.57 L2213.36 1243.43 Q2215.23 1244.45 2217.06 1244.93 Q2218.89 1245.42 2220.79 1245.42 Q2224.98 1245.42 2227.06 1243.22 Q2229.15 1241.04 2229.15 1236.62 L2229.15 1234.52 Q2227.83 1236.81 2225.77 1237.94 Q2223.71 1239.08 2220.84 1239.08 Q2216.07 1239.08 2213.15 1235.44 Q2210.23 1231.81 2210.23 1225.81 Q2210.23 1219.79 2213.15 1216.16 Q2216.07 1212.52 2220.84 1212.52 Q2223.71 1212.52 2225.77 1213.66 Q2227.83 1214.79 2229.15 1217.08 L2229.15 1213.15 L2233.41 1213.15 L2233.41 1235.86 Z\" fill=\"#000000\" fill-rule=\"evenodd\" fill-opacity=\"1\" /><circle clip-path=\"url(#clip950)\" cx=\"1713.65\" cy=\"1273.64\" r=\"23\" fill=\"#e26f46\" fill-rule=\"evenodd\" fill-opacity=\"1\" stroke=\"#000000\" stroke-opacity=\"1\" stroke-width=\"5.12\"/>\n",
       "<path clip-path=\"url(#clip950)\" d=\"M1809.13 1256.36 L1830.98 1256.36 L1830.98 1260.29 L1813.8 1260.29 L1813.8 1270.52 L1830.26 1270.52 L1830.26 1274.46 L1813.8 1274.46 L1813.8 1286.98 L1831.39 1286.98 L1831.39 1290.92 L1809.13 1290.92 L1809.13 1256.36 Z\" fill=\"#000000\" fill-rule=\"evenodd\" fill-opacity=\"1\" /><path clip-path=\"url(#clip950)\" d=\"M1860.44 1275.27 L1860.44 1290.92 L1856.19 1290.92 L1856.19 1275.41 Q1856.19 1271.73 1854.75 1269.9 Q1853.32 1268.07 1850.44 1268.07 Q1847 1268.07 1845 1270.27 Q1843.01 1272.47 1843.01 1276.26 L1843.01 1290.92 L1838.73 1290.92 L1838.73 1264.99 L1843.01 1264.99 L1843.01 1269.02 Q1844.54 1266.68 1846.6 1265.52 Q1848.69 1264.36 1851.39 1264.36 Q1855.86 1264.36 1858.15 1267.14 Q1860.44 1269.9 1860.44 1275.27 Z\" fill=\"#000000\" fill-rule=\"evenodd\" fill-opacity=\"1\" /><path clip-path=\"url(#clip950)\" d=\"M1873.15 1257.63 L1873.15 1264.99 L1881.93 1264.99 L1881.93 1268.3 L1873.15 1268.3 L1873.15 1282.37 Q1873.15 1285.54 1874.01 1286.45 Q1874.89 1287.35 1877.55 1287.35 L1881.93 1287.35 L1881.93 1290.92 L1877.55 1290.92 Q1872.62 1290.92 1870.75 1289.09 Q1868.87 1287.23 1868.87 1282.37 L1868.87 1268.3 L1865.75 1268.3 L1865.75 1264.99 L1868.87 1264.99 L1868.87 1257.63 L1873.15 1257.63 Z\" fill=\"#000000\" fill-rule=\"evenodd\" fill-opacity=\"1\" /><path clip-path=\"url(#clip950)\" d=\"M1902.55 1268.97 Q1901.83 1268.55 1900.98 1268.37 Q1900.14 1268.16 1899.12 1268.16 Q1895.51 1268.16 1893.57 1270.52 Q1891.65 1272.86 1891.65 1277.26 L1891.65 1290.92 L1887.37 1290.92 L1887.37 1264.99 L1891.65 1264.99 L1891.65 1269.02 Q1892.99 1266.66 1895.14 1265.52 Q1897.3 1264.36 1900.37 1264.36 Q1900.81 1264.36 1901.35 1264.43 Q1901.88 1264.48 1902.53 1264.6 L1902.55 1268.97 Z\" fill=\"#000000\" fill-rule=\"evenodd\" fill-opacity=\"1\" /><path clip-path=\"url(#clip950)\" d=\"M1916.02 1267.98 Q1912.6 1267.98 1910.61 1270.66 Q1908.62 1273.32 1908.62 1277.98 Q1908.62 1282.63 1910.58 1285.31 Q1912.57 1287.98 1916.02 1287.98 Q1919.43 1287.98 1921.42 1285.29 Q1923.41 1282.61 1923.41 1277.98 Q1923.41 1273.37 1921.42 1270.68 Q1919.43 1267.98 1916.02 1267.98 M1916.02 1264.36 Q1921.58 1264.36 1924.75 1267.98 Q1927.92 1271.59 1927.92 1277.98 Q1927.92 1284.34 1924.75 1287.98 Q1921.58 1291.59 1916.02 1291.59 Q1910.44 1291.59 1907.27 1287.98 Q1904.12 1284.34 1904.12 1277.98 Q1904.12 1271.59 1907.27 1267.98 Q1910.44 1264.36 1916.02 1264.36 Z\" fill=\"#000000\" fill-rule=\"evenodd\" fill-opacity=\"1\" /><path clip-path=\"url(#clip950)\" d=\"M1939.1 1287.03 L1939.1 1300.78 L1934.82 1300.78 L1934.82 1264.99 L1939.1 1264.99 L1939.1 1268.92 Q1940.44 1266.61 1942.48 1265.5 Q1944.54 1264.36 1947.39 1264.36 Q1952.11 1264.36 1955.05 1268.11 Q1958.01 1271.86 1958.01 1277.98 Q1958.01 1284.09 1955.05 1287.84 Q1952.11 1291.59 1947.39 1291.59 Q1944.54 1291.59 1942.48 1290.48 Q1940.44 1289.34 1939.1 1287.03 M1953.59 1277.98 Q1953.59 1273.28 1951.65 1270.61 Q1949.73 1267.93 1946.35 1267.93 Q1942.97 1267.93 1941.02 1270.61 Q1939.1 1273.28 1939.1 1277.98 Q1939.1 1282.67 1941.02 1285.36 Q1942.97 1288.02 1946.35 1288.02 Q1949.73 1288.02 1951.65 1285.36 Q1953.59 1282.67 1953.59 1277.98 Z\" fill=\"#000000\" fill-rule=\"evenodd\" fill-opacity=\"1\" /><path clip-path=\"url(#clip950)\" d=\"M1975.86 1293.32 Q1974.06 1297.95 1972.34 1299.36 Q1970.63 1300.78 1967.76 1300.78 L1964.36 1300.78 L1964.36 1297.21 L1966.86 1297.21 Q1968.62 1297.21 1969.59 1296.38 Q1970.56 1295.54 1971.74 1292.44 L1972.5 1290.5 L1962.02 1264.99 L1966.53 1264.99 L1974.63 1285.27 L1982.74 1264.99 L1987.25 1264.99 L1975.86 1293.32 Z\" fill=\"#000000\" fill-rule=\"evenodd\" fill-opacity=\"1\" /><path clip-path=\"url(#clip950)\" d=\"M2029.1 1257.49 L2029.1 1262.05 Q2026.44 1260.78 2024.08 1260.15 Q2021.72 1259.53 2019.52 1259.53 Q2015.7 1259.53 2013.62 1261.01 Q2011.55 1262.49 2011.55 1265.22 Q2011.55 1267.51 2012.92 1268.69 Q2014.31 1269.85 2018.15 1270.57 L2020.98 1271.15 Q2026.21 1272.14 2028.68 1274.67 Q2031.18 1277.17 2031.18 1281.38 Q2031.18 1286.4 2027.8 1288.99 Q2024.45 1291.59 2017.94 1291.59 Q2015.49 1291.59 2012.71 1291.03 Q2009.96 1290.48 2006.99 1289.39 L2006.99 1284.57 Q2009.84 1286.17 2012.57 1286.98 Q2015.3 1287.79 2017.94 1287.79 Q2021.95 1287.79 2024.12 1286.22 Q2026.3 1284.64 2026.3 1281.73 Q2026.3 1279.18 2024.73 1277.74 Q2023.18 1276.31 2019.61 1275.59 L2016.76 1275.04 Q2011.53 1273.99 2009.19 1271.77 Q2006.86 1269.55 2006.86 1265.59 Q2006.86 1261.01 2010.07 1258.37 Q2013.31 1255.73 2018.99 1255.73 Q2021.42 1255.73 2023.94 1256.17 Q2026.46 1256.61 2029.1 1257.49 Z\" fill=\"#000000\" fill-rule=\"evenodd\" fill-opacity=\"1\" /><path clip-path=\"url(#clip950)\" d=\"M2050.07 1277.88 Q2044.91 1277.88 2042.92 1279.06 Q2040.93 1280.24 2040.93 1283.09 Q2040.93 1285.36 2042.41 1286.7 Q2043.92 1288.02 2046.49 1288.02 Q2050.03 1288.02 2052.16 1285.52 Q2054.31 1283 2054.31 1278.83 L2054.31 1277.88 L2050.07 1277.88 M2058.57 1276.12 L2058.57 1290.92 L2054.31 1290.92 L2054.31 1286.98 Q2052.85 1289.34 2050.68 1290.48 Q2048.5 1291.59 2045.35 1291.59 Q2041.37 1291.59 2039.01 1289.36 Q2036.67 1287.12 2036.67 1283.37 Q2036.67 1278.99 2039.59 1276.77 Q2042.53 1274.55 2048.34 1274.55 L2054.31 1274.55 L2054.31 1274.13 Q2054.31 1271.19 2052.36 1269.6 Q2050.44 1267.98 2046.95 1267.98 Q2044.73 1267.98 2042.62 1268.51 Q2040.51 1269.04 2038.57 1270.11 L2038.57 1266.17 Q2040.91 1265.27 2043.11 1264.83 Q2045.3 1264.36 2047.39 1264.36 Q2053.01 1264.36 2055.79 1267.28 Q2058.57 1270.2 2058.57 1276.12 Z\" fill=\"#000000\" fill-rule=\"evenodd\" fill-opacity=\"1\" /><path clip-path=\"url(#clip950)\" d=\"M2087.53 1269.97 Q2089.12 1267.1 2091.35 1265.73 Q2093.57 1264.36 2096.58 1264.36 Q2100.63 1264.36 2102.83 1267.21 Q2105.03 1270.04 2105.03 1275.27 L2105.03 1290.92 L2100.74 1290.92 L2100.74 1275.41 Q2100.74 1271.68 2099.42 1269.87 Q2098.11 1268.07 2095.4 1268.07 Q2092.09 1268.07 2090.17 1270.27 Q2088.24 1272.47 2088.24 1276.26 L2088.24 1290.92 L2083.96 1290.92 L2083.96 1275.41 Q2083.96 1271.66 2082.64 1269.87 Q2081.32 1268.07 2078.57 1268.07 Q2075.3 1268.07 2073.38 1270.29 Q2071.46 1272.49 2071.46 1276.26 L2071.46 1290.92 L2067.18 1290.92 L2067.18 1264.99 L2071.46 1264.99 L2071.46 1269.02 Q2072.92 1266.63 2074.96 1265.5 Q2076.99 1264.36 2079.8 1264.36 Q2082.62 1264.36 2084.59 1265.8 Q2086.58 1267.23 2087.53 1269.97 Z\" fill=\"#000000\" fill-rule=\"evenodd\" fill-opacity=\"1\" /><path clip-path=\"url(#clip950)\" d=\"M2117.64 1287.03 L2117.64 1300.78 L2113.36 1300.78 L2113.36 1264.99 L2117.64 1264.99 L2117.64 1268.92 Q2118.98 1266.61 2121.02 1265.5 Q2123.08 1264.36 2125.93 1264.36 Q2130.65 1264.36 2133.59 1268.11 Q2136.55 1271.86 2136.55 1277.98 Q2136.55 1284.09 2133.59 1287.84 Q2130.65 1291.59 2125.93 1291.59 Q2123.08 1291.59 2121.02 1290.48 Q2118.98 1289.34 2117.64 1287.03 M2132.13 1277.98 Q2132.13 1273.28 2130.19 1270.61 Q2128.27 1267.93 2124.89 1267.93 Q2121.51 1267.93 2119.56 1270.61 Q2117.64 1273.28 2117.64 1277.98 Q2117.64 1282.67 2119.56 1285.36 Q2121.51 1288.02 2124.89 1288.02 Q2128.27 1288.02 2130.19 1285.36 Q2132.13 1282.67 2132.13 1277.98 Z\" fill=\"#000000\" fill-rule=\"evenodd\" fill-opacity=\"1\" /><path clip-path=\"url(#clip950)\" d=\"M2143.61 1254.9 L2147.87 1254.9 L2147.87 1290.92 L2143.61 1290.92 L2143.61 1254.9 Z\" fill=\"#000000\" fill-rule=\"evenodd\" fill-opacity=\"1\" /><path clip-path=\"url(#clip950)\" d=\"M2156.79 1264.99 L2161.04 1264.99 L2161.04 1290.92 L2156.79 1290.92 L2156.79 1264.99 M2156.79 1254.9 L2161.04 1254.9 L2161.04 1260.29 L2156.79 1260.29 L2156.79 1254.9 Z\" fill=\"#000000\" fill-rule=\"evenodd\" fill-opacity=\"1\" /><path clip-path=\"url(#clip950)\" d=\"M2191.51 1275.27 L2191.51 1290.92 L2187.25 1290.92 L2187.25 1275.41 Q2187.25 1271.73 2185.81 1269.9 Q2184.38 1268.07 2181.51 1268.07 Q2178.06 1268.07 2176.07 1270.27 Q2174.08 1272.47 2174.08 1276.26 L2174.08 1290.92 L2169.79 1290.92 L2169.79 1264.99 L2174.08 1264.99 L2174.08 1269.02 Q2175.6 1266.68 2177.67 1265.52 Q2179.75 1264.36 2182.46 1264.36 Q2186.92 1264.36 2189.22 1267.14 Q2191.51 1269.9 2191.51 1275.27 Z\" fill=\"#000000\" fill-rule=\"evenodd\" fill-opacity=\"1\" /><path clip-path=\"url(#clip950)\" d=\"M2217.06 1277.65 Q2217.06 1273.02 2215.14 1270.48 Q2213.24 1267.93 2209.79 1267.93 Q2206.37 1267.93 2204.45 1270.48 Q2202.55 1273.02 2202.55 1277.65 Q2202.55 1282.26 2204.45 1284.8 Q2206.37 1287.35 2209.79 1287.35 Q2213.24 1287.35 2215.14 1284.8 Q2217.06 1282.26 2217.06 1277.65 M2221.32 1287.7 Q2221.32 1294.32 2218.38 1297.54 Q2215.44 1300.78 2209.38 1300.78 Q2207.13 1300.78 2205.14 1300.43 Q2203.15 1300.11 2201.28 1299.41 L2201.28 1295.27 Q2203.15 1296.29 2204.98 1296.77 Q2206.81 1297.26 2208.71 1297.26 Q2212.9 1297.26 2214.98 1295.06 Q2217.06 1292.88 2217.06 1288.46 L2217.06 1286.36 Q2215.74 1288.65 2213.68 1289.78 Q2211.62 1290.92 2208.75 1290.92 Q2203.98 1290.92 2201.07 1287.28 Q2198.15 1283.65 2198.15 1277.65 Q2198.15 1271.63 2201.07 1268 Q2203.98 1264.36 2208.75 1264.36 Q2211.62 1264.36 2213.68 1265.5 Q2215.74 1266.63 2217.06 1268.92 L2217.06 1264.99 L2221.32 1264.99 L2221.32 1287.7 Z\" fill=\"#000000\" fill-rule=\"evenodd\" fill-opacity=\"1\" /><circle clip-path=\"url(#clip950)\" cx=\"1713.65\" cy=\"1325.48\" r=\"23\" fill=\"#3da44d\" fill-rule=\"evenodd\" fill-opacity=\"1\" stroke=\"#000000\" stroke-opacity=\"1\" stroke-width=\"5.12\"/>\n",
       "<path clip-path=\"url(#clip950)\" d=\"M1809.13 1308.2 L1813.8 1308.2 L1813.8 1322.36 L1830.79 1322.36 L1830.79 1308.2 L1835.47 1308.2 L1835.47 1342.76 L1830.79 1342.76 L1830.79 1326.3 L1813.8 1326.3 L1813.8 1342.76 L1809.13 1342.76 L1809.13 1308.2 Z\" fill=\"#000000\" fill-rule=\"evenodd\" fill-opacity=\"1\" /><path clip-path=\"url(#clip950)\" d=\"M1844.15 1332.52 L1844.15 1316.83 L1848.41 1316.83 L1848.41 1332.36 Q1848.41 1336.04 1849.84 1337.89 Q1851.28 1339.72 1854.15 1339.72 Q1857.6 1339.72 1859.59 1337.52 Q1861.6 1335.32 1861.6 1331.53 L1861.6 1316.83 L1865.86 1316.83 L1865.86 1342.76 L1861.6 1342.76 L1861.6 1338.77 Q1860.05 1341.13 1857.99 1342.29 Q1855.95 1343.43 1853.25 1343.43 Q1848.78 1343.43 1846.46 1340.65 Q1844.15 1337.87 1844.15 1332.52 M1854.87 1316.2 L1854.87 1316.2 Z\" fill=\"#000000\" fill-rule=\"evenodd\" fill-opacity=\"1\" /><path clip-path=\"url(#clip950)\" d=\"M1894.82 1321.81 Q1896.42 1318.94 1898.64 1317.57 Q1900.86 1316.2 1903.87 1316.2 Q1907.92 1316.2 1910.12 1319.05 Q1912.32 1321.88 1912.32 1327.11 L1912.32 1342.76 L1908.04 1342.76 L1908.04 1327.25 Q1908.04 1323.52 1906.72 1321.71 Q1905.4 1319.91 1902.69 1319.91 Q1899.38 1319.91 1897.46 1322.11 Q1895.54 1324.31 1895.54 1328.1 L1895.54 1342.76 L1891.25 1342.76 L1891.25 1327.25 Q1891.25 1323.5 1889.94 1321.71 Q1888.62 1319.91 1885.86 1319.91 Q1882.6 1319.91 1880.68 1322.13 Q1878.75 1324.33 1878.75 1328.1 L1878.75 1342.76 L1874.47 1342.76 L1874.47 1316.83 L1878.75 1316.83 L1878.75 1320.86 Q1880.21 1318.47 1882.25 1317.34 Q1884.29 1316.2 1887.09 1316.2 Q1889.91 1316.2 1891.88 1317.64 Q1893.87 1319.07 1894.82 1321.81 Z\" fill=\"#000000\" fill-rule=\"evenodd\" fill-opacity=\"1\" /><path clip-path=\"url(#clip950)\" d=\"M1932.6 1329.72 Q1927.43 1329.72 1925.44 1330.9 Q1923.45 1332.08 1923.45 1334.93 Q1923.45 1337.2 1924.93 1338.54 Q1926.44 1339.86 1929.01 1339.86 Q1932.55 1339.86 1934.68 1337.36 Q1936.83 1334.84 1936.83 1330.67 L1936.83 1329.72 L1932.6 1329.72 M1941.09 1327.96 L1941.09 1342.76 L1936.83 1342.76 L1936.83 1338.82 Q1935.37 1341.18 1933.2 1342.32 Q1931.02 1343.43 1927.87 1343.43 Q1923.89 1343.43 1921.53 1341.2 Q1919.19 1338.96 1919.19 1335.21 Q1919.19 1330.83 1922.11 1328.61 Q1925.05 1326.39 1930.86 1326.39 L1936.83 1326.39 L1936.83 1325.97 Q1936.83 1323.03 1934.89 1321.44 Q1932.97 1319.82 1929.47 1319.82 Q1927.25 1319.82 1925.14 1320.35 Q1923.04 1320.88 1921.09 1321.95 L1921.09 1318.01 Q1923.43 1317.11 1925.63 1316.67 Q1927.83 1316.2 1929.91 1316.2 Q1935.54 1316.2 1938.31 1319.12 Q1941.09 1322.04 1941.09 1327.96 Z\" fill=\"#000000\" fill-rule=\"evenodd\" fill-opacity=\"1\" /><path clip-path=\"url(#clip950)\" d=\"M1971.42 1327.11 L1971.42 1342.76 L1967.16 1342.76 L1967.16 1327.25 Q1967.16 1323.57 1965.72 1321.74 Q1964.29 1319.91 1961.42 1319.91 Q1957.97 1319.91 1955.98 1322.11 Q1953.99 1324.31 1953.99 1328.1 L1953.99 1342.76 L1949.7 1342.76 L1949.7 1316.83 L1953.99 1316.83 L1953.99 1320.86 Q1955.51 1318.52 1957.57 1317.36 Q1959.66 1316.2 1962.37 1316.2 Q1966.83 1316.2 1969.12 1318.98 Q1971.42 1321.74 1971.42 1327.11 Z\" fill=\"#000000\" fill-rule=\"evenodd\" fill-opacity=\"1\" /><path clip-path=\"url(#clip950)\" d=\"M2015.88 1309.33 L2015.88 1313.89 Q2013.22 1312.62 2010.86 1311.99 Q2008.5 1311.37 2006.3 1311.37 Q2002.48 1311.37 2000.4 1312.85 Q1998.34 1314.33 1998.34 1317.06 Q1998.34 1319.35 1999.7 1320.53 Q2001.09 1321.69 2004.93 1322.41 L2007.76 1322.99 Q2012.99 1323.98 2015.47 1326.51 Q2017.97 1329.01 2017.97 1333.22 Q2017.97 1338.24 2014.59 1340.83 Q2011.23 1343.43 2004.73 1343.43 Q2002.27 1343.43 1999.49 1342.87 Q1996.74 1342.32 1993.78 1341.23 L1993.78 1336.41 Q1996.62 1338.01 1999.36 1338.82 Q2002.09 1339.63 2004.73 1339.63 Q2008.73 1339.63 2010.91 1338.06 Q2013.08 1336.48 2013.08 1333.57 Q2013.08 1331.02 2011.51 1329.58 Q2009.96 1328.15 2006.39 1327.43 L2003.55 1326.88 Q1998.31 1325.83 1995.98 1323.61 Q1993.64 1321.39 1993.64 1317.43 Q1993.64 1312.85 1996.86 1310.21 Q2000.1 1307.57 2005.77 1307.57 Q2008.2 1307.57 2010.72 1308.01 Q2013.24 1308.45 2015.88 1309.33 Z\" fill=\"#000000\" fill-rule=\"evenodd\" fill-opacity=\"1\" /><path clip-path=\"url(#clip950)\" d=\"M2036.86 1329.72 Q2031.69 1329.72 2029.7 1330.9 Q2027.71 1332.08 2027.71 1334.93 Q2027.71 1337.2 2029.19 1338.54 Q2030.7 1339.86 2033.27 1339.86 Q2036.81 1339.86 2038.94 1337.36 Q2041.09 1334.84 2041.09 1330.67 L2041.09 1329.72 L2036.86 1329.72 M2045.35 1327.96 L2045.35 1342.76 L2041.09 1342.76 L2041.09 1338.82 Q2039.63 1341.18 2037.46 1342.32 Q2035.28 1343.43 2032.13 1343.43 Q2028.15 1343.43 2025.79 1341.2 Q2023.45 1338.96 2023.45 1335.21 Q2023.45 1330.83 2026.37 1328.61 Q2029.31 1326.39 2035.12 1326.39 L2041.09 1326.39 L2041.09 1325.97 Q2041.09 1323.03 2039.15 1321.44 Q2037.23 1319.82 2033.73 1319.82 Q2031.51 1319.82 2029.4 1320.35 Q2027.3 1320.88 2025.35 1321.95 L2025.35 1318.01 Q2027.69 1317.11 2029.89 1316.67 Q2032.09 1316.2 2034.17 1316.2 Q2039.8 1316.2 2042.57 1319.12 Q2045.35 1322.04 2045.35 1327.96 Z\" fill=\"#000000\" fill-rule=\"evenodd\" fill-opacity=\"1\" /><path clip-path=\"url(#clip950)\" d=\"M2074.31 1321.81 Q2075.91 1318.94 2078.13 1317.57 Q2080.35 1316.2 2083.36 1316.2 Q2087.41 1316.2 2089.61 1319.05 Q2091.81 1321.88 2091.81 1327.11 L2091.81 1342.76 L2087.53 1342.76 L2087.53 1327.25 Q2087.53 1323.52 2086.21 1321.71 Q2084.89 1319.91 2082.18 1319.91 Q2078.87 1319.91 2076.95 1322.11 Q2075.03 1324.31 2075.03 1328.1 L2075.03 1342.76 L2070.74 1342.76 L2070.74 1327.25 Q2070.74 1323.5 2069.42 1321.71 Q2068.11 1319.91 2065.35 1319.91 Q2062.09 1319.91 2060.17 1322.13 Q2058.24 1324.33 2058.24 1328.1 L2058.24 1342.76 L2053.96 1342.76 L2053.96 1316.83 L2058.24 1316.83 L2058.24 1320.86 Q2059.7 1318.47 2061.74 1317.34 Q2063.78 1316.2 2066.58 1316.2 Q2069.4 1316.2 2071.37 1317.64 Q2073.36 1319.07 2074.31 1321.81 Z\" fill=\"#000000\" fill-rule=\"evenodd\" fill-opacity=\"1\" /><path clip-path=\"url(#clip950)\" d=\"M2104.42 1338.87 L2104.42 1352.62 L2100.14 1352.62 L2100.14 1316.83 L2104.42 1316.83 L2104.42 1320.76 Q2105.77 1318.45 2107.8 1317.34 Q2109.86 1316.2 2112.71 1316.2 Q2117.43 1316.2 2120.37 1319.95 Q2123.34 1323.7 2123.34 1329.82 Q2123.34 1335.93 2120.37 1339.68 Q2117.43 1343.43 2112.71 1343.43 Q2109.86 1343.43 2107.8 1342.32 Q2105.77 1341.18 2104.42 1338.87 M2118.92 1329.82 Q2118.92 1325.12 2116.97 1322.45 Q2115.05 1319.77 2111.67 1319.77 Q2108.29 1319.77 2106.35 1322.45 Q2104.42 1325.12 2104.42 1329.82 Q2104.42 1334.51 2106.35 1337.2 Q2108.29 1339.86 2111.67 1339.86 Q2115.05 1339.86 2116.97 1337.2 Q2118.92 1334.51 2118.92 1329.82 Z\" fill=\"#000000\" fill-rule=\"evenodd\" fill-opacity=\"1\" /><path clip-path=\"url(#clip950)\" d=\"M2130.4 1306.74 L2134.66 1306.74 L2134.66 1342.76 L2130.4 1342.76 L2130.4 1306.74 Z\" fill=\"#000000\" fill-rule=\"evenodd\" fill-opacity=\"1\" /><path clip-path=\"url(#clip950)\" d=\"M2143.57 1316.83 L2147.83 1316.83 L2147.83 1342.76 L2143.57 1342.76 L2143.57 1316.83 M2143.57 1306.74 L2147.83 1306.74 L2147.83 1312.13 L2143.57 1312.13 L2143.57 1306.74 Z\" fill=\"#000000\" fill-rule=\"evenodd\" fill-opacity=\"1\" /><path clip-path=\"url(#clip950)\" d=\"M2178.29 1327.11 L2178.29 1342.76 L2174.03 1342.76 L2174.03 1327.25 Q2174.03 1323.57 2172.6 1321.74 Q2171.16 1319.91 2168.29 1319.91 Q2164.84 1319.91 2162.85 1322.11 Q2160.86 1324.31 2160.86 1328.1 L2160.86 1342.76 L2156.58 1342.76 L2156.58 1316.83 L2160.86 1316.83 L2160.86 1320.86 Q2162.39 1318.52 2164.45 1317.36 Q2166.53 1316.2 2169.24 1316.2 Q2173.71 1316.2 2176 1318.98 Q2178.29 1321.74 2178.29 1327.11 Z\" fill=\"#000000\" fill-rule=\"evenodd\" fill-opacity=\"1\" /><path clip-path=\"url(#clip950)\" d=\"M2203.85 1329.49 Q2203.85 1324.86 2201.92 1322.32 Q2200.03 1319.77 2196.58 1319.77 Q2193.15 1319.77 2191.23 1322.32 Q2189.33 1324.86 2189.33 1329.49 Q2189.33 1334.1 2191.23 1336.64 Q2193.15 1339.19 2196.58 1339.19 Q2200.03 1339.19 2201.92 1336.64 Q2203.85 1334.1 2203.85 1329.49 M2208.1 1339.54 Q2208.1 1346.16 2205.16 1349.38 Q2202.23 1352.62 2196.16 1352.62 Q2193.92 1352.62 2191.92 1352.27 Q2189.93 1351.95 2188.06 1351.25 L2188.06 1347.11 Q2189.93 1348.13 2191.76 1348.61 Q2193.59 1349.1 2195.49 1349.1 Q2199.68 1349.1 2201.76 1346.9 Q2203.85 1344.72 2203.85 1340.3 L2203.85 1338.2 Q2202.53 1340.49 2200.47 1341.62 Q2198.41 1342.76 2195.54 1342.76 Q2190.77 1342.76 2187.85 1339.12 Q2184.93 1335.49 2184.93 1329.49 Q2184.93 1323.47 2187.85 1319.84 Q2190.77 1316.2 2195.54 1316.2 Q2198.41 1316.2 2200.47 1317.34 Q2202.53 1318.47 2203.85 1320.76 L2203.85 1316.83 L2208.1 1316.83 L2208.1 1339.54 Z\" fill=\"#000000\" fill-rule=\"evenodd\" fill-opacity=\"1\" /></svg>\n"
      ]
     },
     "execution_count": 11,
     "metadata": {},
     "output_type": "execute_result"
    }
   ],
   "source": [
    "# TODO Run 30 runs to get error bars.\n",
    "scatter(rounds_random, 100 .* accuracies_random, label=\"Random Sampling\",\n",
    "    legend_position=:bottomright, xlabel=\"Round\", ylabel=\"Accuracy [%]\")\n",
    "scatter!(rounds_entropy, 100 .* accuracies_entropy, label=\"Entropy Sampling\")\n",
    "scatter!(rounds_human, 100 .* accuracies_human, label=\"Human Sampling\")"
   ]
  }
 ],
 "metadata": {
  "kernelspec": {
   "display_name": "Julia 1.6.4",
   "language": "julia",
   "name": "julia-1.6"
  },
  "language_info": {
   "file_extension": ".jl",
   "mimetype": "application/julia",
   "name": "julia",
   "version": "1.6.4"
  }
 },
 "nbformat": 4,
 "nbformat_minor": 5
}
