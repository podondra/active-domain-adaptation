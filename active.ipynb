{
 "cells": [
  {
   "cell_type": "code",
   "execution_count": null,
   "id": "00dd6a18-0b37-4dc9-94ba-82ce0fa9dc4b",
   "metadata": {},
   "outputs": [],
   "source": [
    "using DataFrames\n",
    "using Distributions: cquantile, TDist\n",
    "using CSV\n",
    "using Plots\n",
    "using StatsPlots\n",
    "using Statistics\n",
    "\n",
    "include(\"ADA.jl\")\n",
    "using .ADA"
   ]
  },
  {
   "cell_type": "code",
   "execution_count": null,
   "id": "d32c8576-9cbe-4739-80bd-5de2e99974bb",
   "metadata": {},
   "outputs": [],
   "source": [
    "function process_csv(df)\n",
    "    gdf = groupby(df, :round)\n",
    "    acc_mean = combine(gdf, :accuracy => mean).accuracy_mean\n",
    "    acc_std = combine(gdf, :accuracy => std).accuracy_std\n",
    "    n = 30\n",
    "    α = 0.01    # 99 % confidence interval\n",
    "    t = cquantile(TDist(n - 1), α / 2)\n",
    "    ci = t * (acc_std / sqrt(n))\n",
    "    return acc_mean, ci\n",
    "end\n",
    "\n",
    "df_random = DataFrame(CSV.File(\"data/random.csv\"))\n",
    "df_entropy = DataFrame(CSV.File(\"data/entropy.csv\"))\n",
    "df_mcdropout = DataFrame(CSV.File(\"data/mcdropout.csv\"))\n",
    "df_ensemble = DataFrame(CSV.File(\"data/ensemble.csv\"))\n",
    "\n",
    "mean_random, ci_random = process_csv(df_random)\n",
    "mean_entropy, ci_entropy = process_csv(df_entropy)\n",
    "mean_mcdropout, ci_mcdropout = process_csv(df_mcdropout)\n",
    "mean_ensemble, ci_ensemble = process_csv(df_ensemble)\n",
    "\n",
    "scatter(0:30, mean_random, yerror=ci_random, label=\"Random Sampling\",\n",
    "    legend_position=:bottomright, xlabel=\"Round\", ylabel=\"Accuracy\")\n",
    "scatter!(0:30, mean_entropy, yerror=ci_entropy, label=\"Entropy Sampling\")\n",
    "scatter!(0:30, mean_mcdropout, yerror=ci_mcdropout, label=\"MC Dropout Sampling\")\n",
    "scatter!(0:30, mean_ensemble, yerror=ci_ensemble, label=\"Deep Ensemble Sampling\")\n",
    "\n",
    "human = [mean_ensemble[1], 0.7802, 0.84, 0.8814, 0.9105, 0.9306, 0.9416, 0.9501, 0.954, 0.9612, 0.9688, 0.9697, 0.9706, 0.9709, 0.9731, 0.9743, 0.9753]\n",
    "scatter!(0:length(human) - 1, human, label=\"Human Sampling\")"
   ]
  },
  {
   "cell_type": "code",
   "execution_count": null,
   "id": "3ff0f06e-4331-440f-a16a-8eb1fa498904",
   "metadata": {},
   "outputs": [],
   "source": [
    "mean_ensemble[end], mean_mcdropout[end], mean_entropy[end], mean_random[end]"
   ]
  },
  {
   "cell_type": "code",
   "execution_count": null,
   "id": "9b859b98-2883-4d79-a2b4-c99fc8cf9bdd",
   "metadata": {},
   "outputs": [],
   "source": [
    "ci_ensemble[end], ci_mcdropout[end], ci_entropy[end], mean_random[end]"
   ]
  },
  {
   "cell_type": "code",
   "execution_count": null,
   "id": "0b6ea79b-e103-4594-a9a2-1a8da09c74b2",
   "metadata": {},
   "outputs": [],
   "source": [
    "@df df_random boxplot(:round, :accuracy, label=\"Random Sampling\",\n",
    "    legend_position=:bottomright, xlabel=\"Round\", ylabel=\"Accuracy\")\n",
    "@df df_entropy boxplot!(:round, :accuracy, label=\"Entropy Sampling\")\n",
    "@df df_mcdropout boxplot!(:round, :accuracy, label=\"MC Dropout Sampling\")\n",
    "@df df_ensemble boxplot!(:round, :accuracy, label=\"Deep Ensemble Sampling\")"
   ]
  }
 ],
 "metadata": {
  "kernelspec": {
   "display_name": "Julia 1.6.4",
   "language": "julia",
   "name": "julia-1.6"
  },
  "language_info": {
   "file_extension": ".jl",
   "mimetype": "application/julia",
   "name": "julia",
   "version": "1.6.4"
  }
 },
 "nbformat": 4,
 "nbformat_minor": 5
}
