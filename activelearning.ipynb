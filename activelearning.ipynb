{
 "cells": [
  {
   "cell_type": "code",
   "execution_count": null,
   "id": "00dd6a18-0b37-4dc9-94ba-82ce0fa9dc4b",
   "metadata": {},
   "outputs": [],
   "source": [
    "using DataFrames\n",
    "using Distributions\n",
    "using CSV\n",
    "using HDF5\n",
    "using Plots\n",
    "using StatsPlots\n",
    "using Statistics\n",
    "\n",
    "include(\"ActiveDomainAdaptation.jl\")\n",
    "using .ActiveDomainAdaptation\n",
    "include(\"DataSets.jl\")\n",
    "using .DataSets"
   ]
  },
  {
   "cell_type": "code",
   "execution_count": null,
   "id": "da1e02a5-222e-40e1-a9cc-b129600dc160",
   "metadata": {},
   "outputs": [],
   "source": [
    "X_mnist_train, y_mnist_train, X_mnist_test, y_mnist_test = prepare_mnist(get_mnist(\"data/mnist\"))\n",
    "size(X_mnist_train), size(X_mnist_test)"
   ]
  },
  {
   "cell_type": "code",
   "execution_count": null,
   "id": "c2832054-0901-4683-90a2-ddc1842f21a0",
   "metadata": {},
   "outputs": [],
   "source": [
    "random_df = DataFrame(CSV.File(\"data/random-sampling.csv\"))\n",
    "random_gdf = groupby(random_df, :round)\n",
    "accuracies_mean_random = combine(random_gdf, :accuracy => mean).accuracy_mean\n",
    "accuracies_std_random = combine(random_gdf, :accuracy => std).accuracy_std\n",
    "size(accuracies_mean_random), size(accuracies_std_random)"
   ]
  },
  {
   "cell_type": "code",
   "execution_count": null,
   "id": "c0011eb3-b55b-42e1-a386-12704dddacdf",
   "metadata": {},
   "outputs": [],
   "source": [
    "entropy_df = DataFrame(CSV.File(\"data/entropy-sampling.csv\"))\n",
    "entropy_gdf = groupby(entropy_df, :round)\n",
    "accuracies_mean_entropy = combine(entropy_gdf, :accuracy => mean).accuracy_mean\n",
    "accuracies_std_entropy = combine(entropy_gdf, :accuracy => std).accuracy_std\n",
    "size(accuracies_mean_entropy), size(accuracies_std_entropy)"
   ]
  },
  {
   "cell_type": "code",
   "execution_count": null,
   "id": "73039800-fd32-4b88-9ca7-b1601a3b1a15",
   "metadata": {},
   "outputs": [],
   "source": [
    "n = 30\n",
    "confidence_level = 0.99\n",
    "α = 1 - confidence_level\n",
    "t = cquantile(TDist(n - 1), α / 2)"
   ]
  },
  {
   "cell_type": "code",
   "execution_count": null,
   "id": "a6fe3365-e5cb-49f0-bde9-7587d89dbf1d",
   "metadata": {},
   "outputs": [],
   "source": [
    "confidence_interval_random = t * (accuracies_std_random / sqrt(n))"
   ]
  },
  {
   "cell_type": "code",
   "execution_count": null,
   "id": "11696e60-a358-46d0-8b7b-271a24c1b69d",
   "metadata": {},
   "outputs": [],
   "source": [
    "confidence_interval_entropy = t * (accuracies_std_entropy / sqrt(n))"
   ]
  },
  {
   "cell_type": "code",
   "execution_count": null,
   "id": "60b91811-68ce-4aae-be92-e28b967aa529",
   "metadata": {},
   "outputs": [],
   "source": [
    "scatter(0:30, accuracies_mean_random, yerror=confidence_interval_random,\n",
    "    label=\"Random Sampling\",\n",
    "    legend_position=:bottomright, xlabel=\"Round\", ylabel=\"Accuracy\")\n",
    "scatter!(0:30, accuracies_mean_entropy, yerror=confidence_interval_entropy,\n",
    "    label=\"Entropy Sampling\")"
   ]
  },
  {
   "cell_type": "code",
   "execution_count": null,
   "id": "0b6ea79b-e103-4594-a9a2-1a8da09c74b2",
   "metadata": {},
   "outputs": [],
   "source": [
    "@df random_df boxplot(:round, :accuracy, label=\"Random Sampling\",\n",
    "    legend_position=:bottomright, xlabel=\"Round\", ylabel=\"Accuracy\")\n",
    "@df entropy_df boxplot!(:round, :accuracy, label=\"Entropy Sampling\")"
   ]
  },
  {
   "cell_type": "code",
   "execution_count": null,
   "id": "d8802a1c-5b39-4af1-ab1d-3719c64fe90e",
   "metadata": {},
   "outputs": [],
   "source": [
    "file = \"data/human_labeller.hdf5\"\n",
    "h5open(file, \"w\") do datafile\n",
    "    write(datafile, \"X\", X_mnist_train)\n",
    "    write(datafile, \"y\", y_mnist_train)\n",
    "end\n",
    "\n",
    "function human_labeller_wrap(index_query, logit_query, round)\n",
    "    human_labeller(index_query, logit_query, round, y_mnist_train, file)\n",
    "end \n",
    "\n",
    "rounds_human, accuracies_human = simulate_al(\n",
    "    entropy_sampling, human_labeller_wrap,\n",
    "    LeNetVariant(\"lenet.bson\"),\n",
    "    X_mnist_train, y_mnist_train,\n",
    "    X_mnist_test, y_mnist_test,\n",
    "    n_query=100)"
   ]
  }
 ],
 "metadata": {
  "kernelspec": {
   "display_name": "Julia 1.6.4",
   "language": "julia",
   "name": "julia-1.6"
  },
  "language_info": {
   "file_extension": ".jl",
   "mimetype": "application/julia",
   "name": "julia",
   "version": "1.6.4"
  }
 },
 "nbformat": 4,
 "nbformat_minor": 5
}
