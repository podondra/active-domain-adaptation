{
 "cells": [
  {
   "cell_type": "code",
   "execution_count": null,
   "id": "00dd6a18-0b37-4dc9-94ba-82ce0fa9dc4b",
   "metadata": {},
   "outputs": [],
   "source": [
    "using DataFrames\n",
    "using Distributions: cquantile, TDist\n",
    "using CSV\n",
    "using HDF5\n",
    "using Plots\n",
    "using Printf\n",
    "using StatsPlots\n",
    "using Statistics\n",
    "\n",
    "include(\"ActiveDomainAdaptation.jl\")\n",
    "using .ActiveDomainAdaptation\n",
    "include(\"DataSets.jl\")\n",
    "using .DataSets"
   ]
  },
  {
   "cell_type": "code",
   "execution_count": null,
   "id": "da1e02a5-222e-40e1-a9cc-b129600dc160",
   "metadata": {},
   "outputs": [],
   "source": [
    "X_mnist_train, y_mnist_train, X_mnist_test, y_mnist_test = prepare_mnist(get_mnist(\"data/mnist\"))\n",
    "size(X_mnist_train), size(X_mnist_test)"
   ]
  },
  {
   "cell_type": "code",
   "execution_count": null,
   "id": "d32c8576-9cbe-4739-80bd-5de2e99974bb",
   "metadata": {},
   "outputs": [],
   "source": [
    "function process_csv(df)\n",
    "    gdf = groupby(df, :round)\n",
    "    acc_mean = combine(gdf, :accuracy => mean).accuracy_mean\n",
    "    acc_std = combine(gdf, :accuracy => std).accuracy_std\n",
    "    n = 30\n",
    "    α = 0.01    # 99 % confidence interval\n",
    "    t = cquantile(TDist(n - 1), α / 2)\n",
    "    ci = t * (acc_std / sqrt(n))\n",
    "    return acc_mean, ci\n",
    "end\n",
    "\n",
    "df_random = DataFrame(CSV.File(\"data/random.csv\"))\n",
    "df_entropy = DataFrame(CSV.File(\"data/entropy.csv\"))\n",
    "df_mcdropout = DataFrame(CSV.File(\"data/mcdropout.csv\"))\n",
    "\n",
    "mean_random, ci_random = process_csv(df_random)\n",
    "mean_entropy, ci_entropy = process_csv(df_entropy)\n",
    "mean_mcdropout, ci_mcdropout = process_csv(df_mcdropout)\n",
    "\n",
    "scatter(0:30, mean_random, yerror=ci_random, label=\"Random Sampling\",\n",
    "    legend_position=:bottomright, xlabel=\"Round\", ylabel=\"Accuracy\")\n",
    "scatter!(0:30, mean_entropy, yerror=ci_entropy, label=\"Entropy Sampling\")\n",
    "scatter!(0:30, mean_mcdropout, yerror=ci_mcdropout, label=\"MC Dropout Sampling\")"
   ]
  },
  {
   "cell_type": "code",
   "execution_count": null,
   "id": "3ff0f06e-4331-440f-a16a-8eb1fa498904",
   "metadata": {},
   "outputs": [],
   "source": [
    "mean_mcdropout[end], mean_entropy[end]"
   ]
  },
  {
   "cell_type": "code",
   "execution_count": null,
   "id": "9b859b98-2883-4d79-a2b4-c99fc8cf9bdd",
   "metadata": {},
   "outputs": [],
   "source": [
    "ci_mcdropout[end], ci_entropy[end]"
   ]
  },
  {
   "cell_type": "code",
   "execution_count": null,
   "id": "0b6ea79b-e103-4594-a9a2-1a8da09c74b2",
   "metadata": {},
   "outputs": [],
   "source": [
    "@df df_random boxplot(:round, :accuracy, label=\"Random Sampling\",\n",
    "    legend_position=:bottomright, xlabel=\"Round\", ylabel=\"Accuracy\")\n",
    "@df df_entropy boxplot!(:round, :accuracy, label=\"Entropy Sampling\")\n",
    "@df df_mcdropout boxplot!(:round, :accuracy, label=\"MC Dropout Sampling\")"
   ]
  },
  {
   "cell_type": "code",
   "execution_count": null,
   "id": "d8802a1c-5b39-4af1-ab1d-3719c64fe90e",
   "metadata": {},
   "outputs": [],
   "source": [
    "file = \"data/human_labeller.hdf5\"\n",
    "h5open(file, \"w\") do datafile\n",
    "    write(datafile, \"X\", X_mnist_train)\n",
    "    write(datafile, \"y\", y_mnist_train)\n",
    "end\n",
    "\n",
    "function human_labeller(model, X_query, index_query, round)\n",
    "    prob_query = probability(model, X_query)\n",
    "    mi_query = mc_mutual_information(prob_query, model.T)\n",
    "    h5open(file, \"r+\") do datafile\n",
    "        write(datafile, @sprintf(\"index_query_%d\", round), index_query)\n",
    "        write(datafile, @sprintf(\"prob_query_%d\", round), prob_query)\n",
    "        write(datafile, @sprintf(\"mi_query_%d\", round), mi_query)\n",
    "    end\n",
    "    dataset = readline()\n",
    "    datafile = h5open(file, \"r\")\n",
    "    index_label = read(datafile, dataset)\n",
    "    close(datafile)\n",
    "    return index_label\n",
    "end\n",
    "\n",
    "rounds_human, accuracies_human = simulate_al(\n",
    "    mcdropout_sampling, human_labeller, MCLeNetVariant(\"mclenet.bson\", 20),\n",
    "    X_mnist_train, y_mnist_train, X_mnist_test, y_mnist_test,\n",
    "    n_query=100)"
   ]
  }
 ],
 "metadata": {
  "kernelspec": {
   "display_name": "Julia 1.6.4",
   "language": "julia",
   "name": "julia-1.6"
  },
  "language_info": {
   "file_extension": ".jl",
   "mimetype": "application/julia",
   "name": "julia",
   "version": "1.6.4"
  }
 },
 "nbformat": 4,
 "nbformat_minor": 5
}
