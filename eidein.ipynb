{
 "cells": [
  {
   "cell_type": "code",
   "execution_count": null,
   "id": "6057bd55-7d24-44eb-a928-22de89275cc7",
   "metadata": {},
   "outputs": [],
   "source": [
    "%matplotlib widget\n",
    "\n",
    "import h5py\n",
    "import ipywidgets\n",
    "import matplotlib.pyplot as plt\n",
    "import numpy as np\n",
    "\n",
    "from eidein import Eidein"
   ]
  },
  {
   "cell_type": "markdown",
   "id": "3a177105-6630-4504-82d9-bc08bd9c056b",
   "metadata": {},
   "source": [
    "## Redshift"
   ]
  },
  {
   "cell_type": "code",
   "execution_count": null,
   "id": "7f4631be-e2c3-4d0e-ac5d-978a025105f5",
   "metadata": {},
   "outputs": [],
   "source": [
    "CACHEFILE = \"data/dr16q_superset_cache.hdf5\"\n",
    "with h5py.File(CACHEFILE, \"r\") as cachefile:\n",
    "    X = cachefile[\"X\"][:]\n",
    "    y_cache = cachefile[\"y_cache\"][:]\n",
    "X.shape, y_cache.shape"
   ]
  },
  {
   "cell_type": "code",
   "execution_count": null,
   "id": "06d0085c-a00a-4f1c-8d5c-e5291e348b46",
   "metadata": {},
   "outputs": [],
   "source": [
    "LOGLAMMIN, LOGLAMMAX = 3.5832, 3.9583\n",
    "N_FEATURES = 3752\n",
    "LAM = np.power(10, np.linspace(LOGLAMMIN, LOGLAMMAX, N_FEATURES))\n",
    "LINES = [\n",
    "    (1033.82, \"O VI\"),\n",
    "    (1215.24, \"Lyα\"),\n",
    "    (1549.48, \"C IV\"),\n",
    "    (1908.734, \"C III\"),\n",
    "    (2326.0, \"C II\"),\n",
    "    (2799.117, \"Mg II\"),\n",
    "    (4102.89, \"HΔ\"),\n",
    "    (4341.68, \"Hγ\"),\n",
    "    (4862.68, \"Hβ\"),\n",
    "    (6564.61, \"Hα\")]\n",
    "ARROWPROPS = {\"arrowstyle\": \"-|>\", \"facecolor\": \"black\"}\n",
    "\n",
    "def z2lam_emit(z, lam_obsv):\n",
    "    return lam_obsv / (1 + z)\n",
    "\n",
    "def plot_spec(ax, idx, flux, y, label, y_cache=y_cache, lam=LAM):\n",
    "    label_str = \"\\n\".join([f\"{idx}\",\n",
    "                           f\"$\\hat{{z}} = {y:.2f}$\",\n",
    "                           f\"$z = {label:.2f}$ (shown)\",\n",
    "                           f\"$z_{{\\mathrm{{cache}}}} = {y_cache[idx]:.2f}$\"])    \n",
    "    lam_emit = [z2lam_emit(label, l) for l in lam]\n",
    "    ax.plot(lam_emit, flux, label=label_str)\n",
    "    ax.legend()\n",
    "    ax.set_xlabel(\"Rest Frame Wavelength [Å]\")\n",
    "    ax.set_ylabel(\"Flux [10$^{-17}$ erg cm$^{-2}$ s$^{-1}$ Å$^{-1}$]\")\n",
    "    # plot spectral lines\n",
    "    for line, name in LINES:\n",
    "        ax.annotate(name, xy=(line, 0), xytext=(line, -2),\n",
    "                    arrowprops=ARROWPROPS, horizontalalignment='center')"
   ]
  },
  {
   "cell_type": "code",
   "execution_count": null,
   "id": "7651ff2f-64de-4a4d-9e17-3bfd28fabc9d",
   "metadata": {},
   "outputs": [],
   "source": [
    "i = 1\n",
    "\n",
    "with h5py.File(\"data/human.hdf5\", \"r\") as datafile:\n",
    "    idx_query = datafile[f\"idx_query_{i}\"][:]\n",
    "    entr_query = datafile[f\"entr_query_{i}\"][:]\n",
    "    ypred_query = datafile[f\"ypred_query_{i}\"][:]\n",
    "    # Python has different indexing then Julia.\n",
    "    idx_query -= 1\n",
    "\n",
    "X_query = X[idx_query]\n",
    "idx_query.shape, X_query.shape, entr_query.shape, ypred_query.shape"
   ]
  },
  {
   "cell_type": "code",
   "execution_count": null,
   "id": "898842cb-2d1c-41c1-963a-eb0347a7f875",
   "metadata": {},
   "outputs": [],
   "source": [
    "fig, ax = plt.subplots()\n",
    "ax.hist(entr_query)"
   ]
  },
  {
   "cell_type": "code",
   "execution_count": null,
   "id": "7bb82b42-0c6a-4b84-9fb6-12559ebbf7dc",
   "metadata": {},
   "outputs": [],
   "source": [
    "label_widget = ipywidgets.FloatText(description=\"Redshift:\", step=0.01)\n",
    "eidein = Eidein(idx_query, X_query, ypred_query, entr_query, plot_spec, label_widget)\n",
    "display(eidein)"
   ]
  },
  {
   "cell_type": "code",
   "execution_count": null,
   "id": "4a177b2b-0066-4004-b3b6-68bb02626ab4",
   "metadata": {},
   "outputs": [],
   "source": [
    "len(eidein.labelled), eidein.labelled"
   ]
  },
  {
   "cell_type": "code",
   "execution_count": null,
   "id": "da7da0c4-d0bb-4be0-948b-38f71dcecef8",
   "metadata": {},
   "outputs": [],
   "source": [
    "idx_label = np.array(list(eidein.labelled.keys()))\n",
    "with h5py.File(\"data/human.hdf5\", \"r+\") as hdf5file:\n",
    "    hdf5file.create_dataset(f\"idx_label_{i}\", data=(idx_label + 1))\n",
    "\n",
    "with h5py.File(CACHEFILE, \"r+\") as cachefile:\n",
    "    y_cache = cachefile[\"y_cache\"]\n",
    "    for idx, z in eidein.labelled.items():\n",
    "        y_cache[idx] = z"
   ]
  },
  {
   "cell_type": "markdown",
   "id": "8f8de547-7e99-40c6-9a55-d75221c6c092",
   "metadata": {},
   "source": [
    "## Digits"
   ]
  },
  {
   "cell_type": "code",
   "execution_count": null,
   "id": "297f25c9-9473-4873-bc85-0784fcd471ac",
   "metadata": {},
   "outputs": [],
   "source": [
    "def plot_mnist(ax, identifier, x, y, label):\n",
    "    ax.imshow(x.reshape(32, 32), cmap='gray')\n",
    "    ax.set_title(\"{}\".format(y, label))"
   ]
  },
  {
   "cell_type": "code",
   "execution_count": null,
   "id": "46a49b76-bfae-4a8a-bffa-48e6c56766a8",
   "metadata": {},
   "outputs": [],
   "source": [
    "DATAFILE = \"data/human.hdf5\"\n",
    "\n",
    "with h5py.File(DATAFILE, \"r\") as datafile:\n",
    "    X = datafile[\"X\"][:]\n",
    "    y = datafile[\"y\"][:]\n",
    "X.shape, y.shape"
   ]
  },
  {
   "cell_type": "code",
   "execution_count": null,
   "id": "16f57e36-1703-4bff-ae2d-67dbfd6e5df3",
   "metadata": {},
   "outputs": [],
   "source": [
    "i = 1\n",
    "\n",
    "with h5py.File(DATAFILE, \"r\") as datafile:\n",
    "    index_query = datafile[\"index_query_{}\".format(i)][:]\n",
    "    entr_query = datafile[\"entr_query_{}\".format(i)][:]\n",
    "    # Python has different indexing then Julia.\n",
    "    index_query -= 1\n",
    "\n",
    "X_query = X[index_query]\n",
    "y_query = y[index_query]\n",
    "X_query.shape, y_query.shape, index_query.shape, entr_query.shape"
   ]
  },
  {
   "cell_type": "code",
   "execution_count": null,
   "id": "e9804ae4-8722-45d2-ade4-0fa99dd0c554",
   "metadata": {},
   "outputs": [],
   "source": [
    "label_widget = ipywidgets.RadioButtons(options=np.arange(1, 11))\n",
    "\n",
    "eidein = Eidein(\n",
    "    index_query, X_query.reshape(-1, 1024), y_query, entr_query, X_query,\n",
    "    plot_mnist, label_widget)\n",
    "eidein.data_fig.set_size_inches(2, 2)\n",
    "display(eidein)"
   ]
  },
  {
   "cell_type": "code",
   "execution_count": null,
   "id": "294b4497-2a22-405c-b4d3-287306a40606",
   "metadata": {},
   "outputs": [],
   "source": [
    "len(eidein.labelled), eidein.labelled"
   ]
  },
  {
   "cell_type": "code",
   "execution_count": null,
   "id": "d4679ed3-c136-41f0-b1cf-f8ebc882d5cc",
   "metadata": {},
   "outputs": [],
   "source": [
    "with h5py.File(DATAFILE, \"r+\") as datafile:\n",
    "    index_label = np.array(list(eidein.labelled.keys()))\n",
    "    index_label += 1\n",
    "    datafile.create_dataset(\"index_label_{}\".format(i), data=index_label)"
   ]
  }
 ],
 "metadata": {
  "kernelspec": {
   "display_name": "Python 3 (ipykernel)",
   "language": "python",
   "name": "python3"
  },
  "language_info": {
   "codemirror_mode": {
    "name": "ipython",
    "version": 3
   },
   "file_extension": ".py",
   "mimetype": "text/x-python",
   "name": "python",
   "nbconvert_exporter": "python",
   "pygments_lexer": "ipython3",
   "version": "3.9.5"
  }
 },
 "nbformat": 4,
 "nbformat_minor": 5
}
