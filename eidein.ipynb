{
 "cells": [
  {
   "cell_type": "code",
   "execution_count": null,
   "id": "f1d9c5f7-f35f-46bf-9ac0-9d025929b51c",
   "metadata": {},
   "outputs": [],
   "source": [
    "%matplotlib widget\n",
    "\n",
    "import h5py\n",
    "import ipywidgets\n",
    "import matplotlib.pyplot as plt\n",
    "import numpy as np\n",
    "\n",
    "from eidein import Eidein\n",
    "\n",
    "def plot_mnist(ax, identifier, x, y, label):\n",
    "    ax.imshow(x.reshape(32, 32), cmap='gray')\n",
    "    ax.set_title(\"{}\".format(y, label))"
   ]
  },
  {
   "cell_type": "code",
   "execution_count": null,
   "id": "9ed1ad73-e444-435c-b733-fbaf20a5e31d",
   "metadata": {},
   "outputs": [],
   "source": [
    "with h5py.File(\"data/human_labeller.hdf5\", \"r\") as datafile:\n",
    "    X = datafile[\"X\"][:]\n",
    "    y = datafile[\"y\"][:]\n",
    "X.shape, y.shape"
   ]
  },
  {
   "cell_type": "code",
   "execution_count": null,
   "id": "16f57e36-1703-4bff-ae2d-67dbfd6e5df3",
   "metadata": {},
   "outputs": [],
   "source": [
    "i = 1\n",
    "\n",
    "with h5py.File(\"data/human_labeller.hdf5\", \"r\") as datafile:\n",
    "    index_query = datafile[\"index_query_{}\".format(i)][:]\n",
    "    logit_query = datafile[\"prob_query_{}\".format(i)][:]\n",
    "    entr_query = datafile[\"entr_query_{}\".format(i)][:]\n",
    "    # Python has different indexing then Julia.\n",
    "    index_query -= 1\n",
    "\n",
    "X_query = X[index_query]\n",
    "y_query = y[index_query]\n",
    "\n",
    "X_query.shape, y_query.shape, index_query.shape, entr_query.shape"
   ]
  },
  {
   "cell_type": "code",
   "execution_count": null,
   "id": "e9804ae4-8722-45d2-ade4-0fa99dd0c554",
   "metadata": {},
   "outputs": [],
   "source": [
    "label_widget = ipywidgets.RadioButtons(options=np.arange(1, 11))\n",
    "\n",
    "eidein = Eidein(\n",
    "    index_query, X_query.reshape(-1, 1024), y_query, entr_query, X_query,\n",
    "    plot_mnist, label_widget)\n",
    "display(eidein)"
   ]
  },
  {
   "cell_type": "code",
   "execution_count": null,
   "id": "294b4497-2a22-405c-b4d3-287306a40606",
   "metadata": {},
   "outputs": [],
   "source": [
    "len(eidein.labelled), eidein.labelled"
   ]
  },
  {
   "cell_type": "code",
   "execution_count": null,
   "id": "d4679ed3-c136-41f0-b1cf-f8ebc882d5cc",
   "metadata": {},
   "outputs": [],
   "source": [
    "with h5py.File(\"data/human_labeller.hdf5\", \"r+\") as datafile:\n",
    "    index_label = np.array(list(eidein.labelled.keys()))\n",
    "    index_label += 1\n",
    "    datafile.create_dataset(\"index_label_{}\".format(i), data=index_label)"
   ]
  }
 ],
 "metadata": {
  "kernelspec": {
   "display_name": "Python 3 (ipykernel)",
   "language": "python",
   "name": "python3"
  },
  "language_info": {
   "codemirror_mode": {
    "name": "ipython",
    "version": 3
   },
   "file_extension": ".py",
   "mimetype": "text/x-python",
   "name": "python",
   "nbconvert_exporter": "python",
   "pygments_lexer": "ipython3",
   "version": "3.9.5"
  }
 },
 "nbformat": 4,
 "nbformat_minor": 5
}
