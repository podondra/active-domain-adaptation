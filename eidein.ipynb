{
 "cells": [
  {
   "cell_type": "code",
   "execution_count": null,
   "id": "89d48c54-1883-4116-b49a-e9f92829de83",
   "metadata": {},
   "outputs": [],
   "source": [
    "%matplotlib widget"
   ]
  },
  {
   "cell_type": "code",
   "execution_count": null,
   "id": "cdd4605f-e4d3-4bc5-b751-0a315073d0e7",
   "metadata": {},
   "outputs": [],
   "source": [
    "import h5py\n",
    "import ipywidgets\n",
    "import matplotlib.pyplot as plt\n",
    "import numpy as np"
   ]
  },
  {
   "cell_type": "code",
   "execution_count": null,
   "id": "93eca2c2-8616-4509-976d-3d080905d22e",
   "metadata": {},
   "outputs": [],
   "source": [
    "from eidein import Eidein"
   ]
  },
  {
   "cell_type": "code",
   "execution_count": null,
   "id": "37f17e1d-76d2-41a2-8009-a2c0b9c6f2dc",
   "metadata": {},
   "outputs": [],
   "source": [
    "with h5py.File(\"data/human_labeller.hdf5\", \"r\") as datafile:\n",
    "    X = datafile[\"X\"][:]\n",
    "    y = datafile[\"y\"][:]\n",
    "X.shape, y.shape"
   ]
  },
  {
   "cell_type": "code",
   "execution_count": null,
   "id": "14d9557b-1009-4ba7-a544-c2f208c665c5",
   "metadata": {},
   "outputs": [],
   "source": [
    "def plot_mnist(ax, identifier, x, y, label):\n",
    "    ax.imshow(x.reshape(32, 32), cmap='gray')\n",
    "    ax.set_title(\"{}\".format(y, label))"
   ]
  },
  {
   "cell_type": "code",
   "execution_count": null,
   "id": "d68d6f21-54c1-4676-9c2f-1108808ded01",
   "metadata": {},
   "outputs": [],
   "source": [
    "i = 1"
   ]
  },
  {
   "cell_type": "code",
   "execution_count": null,
   "id": "c782dc36-1d35-459a-8a73-a4c19585458e",
   "metadata": {},
   "outputs": [],
   "source": [
    "with h5py.File(\"data/human_labeller.hdf5\", \"r\") as datafile:\n",
    "    index_query = datafile[\"index_query_{}\".format(i)][:]\n",
    "    entr_query = datafile[\"entr_query_{}\".format(i)][:]\n",
    "    logit_query = datafile[\"logit_query_{}\".format(i)][:]\n",
    "    # Python has different indexing then Julia.\n",
    "    index_query -= 1\n",
    "\n",
    "X_query = X[index_query]\n",
    "y_query = y[index_query]\n",
    "\n",
    "X_query.shape, y_query.shape, index_query.shape, entr_query.shape"
   ]
  },
  {
   "cell_type": "code",
   "execution_count": null,
   "id": "e9804ae4-8722-45d2-ade4-0fa99dd0c554",
   "metadata": {},
   "outputs": [],
   "source": [
    "label_widget = ipywidgets.RadioButtons(options=np.arange(1, 11))\n",
    "\n",
    "eidein = Eidein(\n",
    "    index_query, logit_query, y_query, entr_query, X_query,\n",
    "    plot_mnist, label_widget)\n",
    "display(eidein)"
   ]
  },
  {
   "cell_type": "code",
   "execution_count": null,
   "id": "294b4497-2a22-405c-b4d3-287306a40606",
   "metadata": {},
   "outputs": [],
   "source": [
    "len(eidein.labelled), eidein.labelled"
   ]
  },
  {
   "cell_type": "code",
   "execution_count": null,
   "id": "d4679ed3-c136-41f0-b1cf-f8ebc882d5cc",
   "metadata": {},
   "outputs": [],
   "source": [
    "with h5py.File(\"data/human_labeller.hdf5\", \"r+\") as datafile:\n",
    "    index_label = np.array(list(eidein.labelled.keys()))\n",
    "    index_label += 1\n",
    "    datafile.create_dataset(\"index_label_{}\".format(i), data=index_label)"
   ]
  }
 ],
 "metadata": {
  "kernelspec": {
   "display_name": "Python 3 (ipykernel)",
   "language": "python",
   "name": "python3"
  },
  "language_info": {
   "codemirror_mode": {
    "name": "ipython",
    "version": 3
   },
   "file_extension": ".py",
   "mimetype": "text/x-python",
   "name": "python",
   "nbconvert_exporter": "python",
   "pygments_lexer": "ipython3",
   "version": "3.9.5"
  }
 },
 "nbformat": 4,
 "nbformat_minor": 5
}
