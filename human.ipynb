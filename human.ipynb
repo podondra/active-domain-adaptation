{
 "cells": [
  {
   "cell_type": "code",
   "execution_count": null,
   "id": "03aadb50-f4be-4c16-9570-8d15b3ee9fa0",
   "metadata": {},
   "outputs": [],
   "source": [
    "using CategoricalArrays\n",
    "using HDF5\n",
    "using Flux\n",
    "using Plots\n",
    "using Printf\n",
    "using Random"
   ]
  },
  {
   "cell_type": "code",
   "execution_count": null,
   "id": "2990e12d-0808-4b19-a861-b813f7040ead",
   "metadata": {},
   "outputs": [],
   "source": [
    "include(\"ADA.jl\")\n",
    "using .ADA"
   ]
  },
  {
   "cell_type": "code",
   "execution_count": null,
   "id": "40529449-a965-4229-a569-7c35182dafd3",
   "metadata": {},
   "outputs": [],
   "source": [
    "function entr(prob)\n",
    "    product = prob .* log2.(prob)\n",
    "    product[isnan.(product)] .= 0.0\n",
    "    dropdims(-sum(product, dims=1), dims=1)\n",
    "end"
   ]
  },
  {
   "cell_type": "code",
   "execution_count": null,
   "id": "9be6358c-af0c-43c2-9f14-475f0b78a9ea",
   "metadata": {},
   "outputs": [],
   "source": [
    "n_query = 50000"
   ]
  },
  {
   "cell_type": "code",
   "execution_count": null,
   "id": "26a3aed8-c30c-47b5-a203-3ce29e4d121d",
   "metadata": {},
   "outputs": [],
   "source": [
    "X, X_test, y_test = get_dr16q(\"data/dr16q_superset.hdf5\")\n",
    "X_gpu = gpu(X)\n",
    "X_test_gpu = gpu(X_test)\n",
    "n = size(X, ndims(X))\n",
    "\n",
    "model = SZNet(\"models/sznet.bson\")\n",
    "cfrs = [cfr(y_test, predict(model, X_test_gpu))]"
   ]
  },
  {
   "cell_type": "code",
   "execution_count": null,
   "id": "042deccd-3e97-46c9-a823-9fe54bcd5495",
   "metadata": {},
   "outputs": [],
   "source": [
    "idx_pool = Vector{Int}(1:n)\n",
    "idx_train = Vector{Int}(undef, 0)\n",
    "y_train = Vector{Float32}(undef, 0)"
   ]
  },
  {
   "cell_type": "code",
   "execution_count": null,
   "id": "bc804f77-6e7d-4829-8750-e77797ea816c",
   "metadata": {},
   "outputs": [],
   "source": [
    "round = 2"
   ]
  },
  {
   "cell_type": "code",
   "execution_count": null,
   "id": "a26a7473-8588-4769-a3fd-b5062b4552c7",
   "metadata": {},
   "outputs": [],
   "source": [
    "# process pool\n",
    "prob = probability(model, X_gpu)\n",
    "X_pool = view(X, :, idx_pool)\n",
    "prob_pool = prob[:, idx_pool]\n",
    "# query\n",
    "# TODO random sampling: idx_query = shuffle(idx_pool)[1:n_query]\n",
    "entr_pool = entr(prob_pool)    # entropy sampling\n",
    "perm = sortperm(entr_pool, rev=true)    # entropy sampling\n",
    "idx_query = idx_pool[perm[1:n_query]]    # entropy sampling\n",
    "# human labeller\n",
    "ŷ_query = Flux.onecold(prob_pool[:, idx_query], ADA.LABELS)\n",
    "entr_query = entr_pool[idx_query]    # entropy sampling\n",
    "# write to HDF5 file for eidein\n",
    "HDF5FILE = \"data/human.hdf5\"\n",
    "h5open(HDF5FILE, \"cw\") do hdf5file\n",
    "    write(hdf5file, \"idx_query_$round\", idx_query)\n",
    "    write(hdf5file, \"entr_query_$round\", entr_query)    # entropy sampling\n",
    "    write(hdf5file, \"ypred_query_$round\", ŷ_query)\n",
    "end"
   ]
  },
  {
   "cell_type": "code",
   "execution_count": null,
   "id": "61dd9e27-f051-493b-9166-97c4273e016c",
   "metadata": {},
   "outputs": [],
   "source": [
    "hdf5file = h5open(HDF5FILE, \"r\")\n",
    "idx_label = read(hdf5file, \"idx_label_$round\")\n",
    "close(hdf5file)\n",
    "# update training set and pool\n",
    "idx_train = union(idx_train, idx_label)\n",
    "idx_pool = setdiff(idx_pool, idx_label)\n",
    "# read training labels from cache of redshifts\n",
    "hdf5cache = h5open(\"data/dr16q_superset_cache.hdf5\", \"r\")\n",
    "y_train = read(hdf5cache, \"y_cache\")[idx_train]\n",
    "close(hdf5cache)\n",
    "# prepare training set\n",
    "y_train_categorical = cut(y_train, ADA.EDGES, labels=ADA.STR_LABELS)\n",
    "y_train_onehot = Flux.onehotbatch(y_train_categorical, ADA.STR_LABELS)\n",
    "X_train = X[:, idx_train]\n",
    "# learning strategy\n",
    "finetune!(model, X_train, y_train_onehot)\n",
    "# evaluate\n",
    "cfr_round = cfr(y_test, predict(model, X_test_gpu))\n",
    "cfrs = vcat(cfrs, cfr_round)"
   ]
  },
  {
   "cell_type": "markdown",
   "id": "6ce10f22-02c8-4e06-8644-52f9cd14fbd8",
   "metadata": {},
   "source": [
    "## Digits"
   ]
  },
  {
   "cell_type": "code",
   "execution_count": null,
   "id": "36b3175c-82e2-44c6-b8dd-ef1bcc1e683d",
   "metadata": {},
   "outputs": [],
   "source": [
    "X_mnist_train, y_mnist_train, X_mnist_test, y_mnist_test = prepare_mnist(get_mnist(\"data/mnist\"))\n",
    "size(X_mnist_train), size(X_mnist_test)"
   ]
  },
  {
   "cell_type": "code",
   "execution_count": null,
   "id": "2e971c8e-2c3b-4be0-9e69-d3ea12b6a555",
   "metadata": {},
   "outputs": [],
   "source": [
    "file = \"data/human.hdf5\"\n",
    "h5open(file, \"w\") do datafile\n",
    "    write(datafile, \"X\", X_mnist_train)\n",
    "    write(datafile, \"y\", y_mnist_train)\n",
    "end\n",
    "\n",
    "function human(model, X_query, index_query, round)\n",
    "    entr_query = entropy(probability(model, X_query))\n",
    "    h5open(file, \"r+\") do datafile\n",
    "        write(datafile, @sprintf(\"index_query_%d\", round), index_query)\n",
    "        write(datafile, @sprintf(\"entr_query_%d\", round), entr_query)\n",
    "    end\n",
    "    dataset = readline()\n",
    "    datafile = h5open(file, \"r\")\n",
    "    index_label = read(datafile, dataset)\n",
    "    close(datafile)\n",
    "    return index_label\n",
    "end\n",
    "\n",
    "filepaths = \"models/\" .*  [\"lenet\", \"lenet2\", \"lenet3\", \"lenet4\", \"lenet5\"] .* \".bson\"\n",
    "ensemble = DeepEnsembleLeNet(filepaths)\n",
    "rounds_human, accuracies_human = simulate_al(\n",
    "    entropy_sampling, human, ensemble,\n",
    "    X_mnist_train, y_mnist_train, X_mnist_test, y_mnist_test,\n",
    "    n_query=10000)"
   ]
  }
 ],
 "metadata": {
  "kernelspec": {
   "display_name": "Julia 1.6.4",
   "language": "julia",
   "name": "julia-1.6"
  },
  "language_info": {
   "file_extension": ".jl",
   "mimetype": "application/julia",
   "name": "julia",
   "version": "1.6.4"
  }
 },
 "nbformat": 4,
 "nbformat_minor": 5
}
