{
 "cells": [
  {
   "cell_type": "code",
   "execution_count": null,
   "id": "635b3828-c246-4933-aa33-b0c35721c105",
   "metadata": {},
   "outputs": [],
   "source": [
    "using HDF5\n",
    "using Printf\n",
    "\n",
    "include(\"ADA.jl\")\n",
    "using .ADA"
   ]
  },
  {
   "cell_type": "code",
   "execution_count": null,
   "id": "36b3175c-82e2-44c6-b8dd-ef1bcc1e683d",
   "metadata": {},
   "outputs": [],
   "source": [
    "X_mnist_train, y_mnist_train, X_mnist_test, y_mnist_test = prepare_mnist(get_mnist(\"data/mnist\"))\n",
    "size(X_mnist_train), size(X_mnist_test)"
   ]
  },
  {
   "cell_type": "code",
   "execution_count": null,
   "id": "2e971c8e-2c3b-4be0-9e69-d3ea12b6a555",
   "metadata": {},
   "outputs": [],
   "source": [
    "file = \"data/human.hdf5\"\n",
    "h5open(file, \"w\") do datafile\n",
    "    write(datafile, \"X\", X_mnist_train)\n",
    "    write(datafile, \"y\", y_mnist_train)\n",
    "end\n",
    "\n",
    "function human(model, X_query, index_query, round)\n",
    "    entr_query = entropy(probability(model, X_query))\n",
    "    h5open(file, \"r+\") do datafile\n",
    "        write(datafile, @sprintf(\"index_query_%d\", round), index_query)\n",
    "        write(datafile, @sprintf(\"entr_query_%d\", round), entr_query)\n",
    "    end\n",
    "    dataset = readline()\n",
    "    datafile = h5open(file, \"r\")\n",
    "    index_label = read(datafile, dataset)\n",
    "    close(datafile)\n",
    "    return index_label\n",
    "end\n",
    "\n",
    "filepaths = \"models/\" .*  [\"lenet\", \"lenet2\", \"lenet3\", \"lenet4\", \"lenet5\"] .* \".bson\"\n",
    "ensemble = DeepEnsembleLeNet(filepaths)\n",
    "rounds_human, accuracies_human = simulate_al(\n",
    "    entropy_sampling, human, ensemble,\n",
    "    X_mnist_train, y_mnist_train, X_mnist_test, y_mnist_test,\n",
    "    n_query=10000)"
   ]
  }
 ],
 "metadata": {
  "kernelspec": {
   "display_name": "Julia 1.6.4",
   "language": "julia",
   "name": "julia-1.6"
  },
  "language_info": {
   "file_extension": ".jl",
   "mimetype": "application/julia",
   "name": "julia",
   "version": "1.6.4"
  }
 },
 "nbformat": 4,
 "nbformat_minor": 5
}
