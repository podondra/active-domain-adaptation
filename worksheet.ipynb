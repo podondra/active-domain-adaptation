{
 "cells": [
  {
   "cell_type": "markdown",
   "id": "115df5aa-3b25-4cb0-8e33-19b804198f0b",
   "metadata": {
    "tags": []
   },
   "source": [
    "# Predictive Uncertainty in Active Deep Learning\n",
    "\n",
    "How much is precise *predictive uncertainty* (i.e. model confidence) important for *active deep learning* (ADA)?"
   ]
  },
  {
   "cell_type": "code",
   "execution_count": null,
   "id": "8d38ad9c-899e-4b7c-b930-de47faf62404",
   "metadata": {
    "tags": []
   },
   "outputs": [],
   "source": [
    "from copy import deepcopy\n",
    "import os\n",
    "import random\n",
    "\n",
    "from matplotlib import pyplot as plt\n",
    "import numpy as np\n",
    "from scipy.special import entr\n",
    "from sklearn.cluster import KMeans\n",
    "from sklearn.metrics.pairwise import euclidean_distances\n",
    "import torch\n",
    "from torch import nn\n",
    "from torch import optim\n",
    "from torch.nn import functional as F\n",
    "from torch.utils.data import DataLoader, Subset, TensorDataset\n",
    "from torchvision import datasets, transforms"
   ]
  },
  {
   "cell_type": "code",
   "execution_count": null,
   "id": "de69737f-172c-4717-ba29-c481932320e5",
   "metadata": {},
   "outputs": [],
   "source": [
    "BS = 2048\n",
    "DEVICE = \"cuda\" if torch.cuda.is_available() else \"cpu\"\n",
    "MODELPATH = \"models/{}.pt\"\n",
    "N_CLASSES = 10\n",
    "DEVICE"
   ]
  },
  {
   "cell_type": "code",
   "execution_count": null,
   "id": "85e0770f-736c-4eb4-9111-ecf3146cfaf0",
   "metadata": {},
   "outputs": [],
   "source": [
    "svhn_transforms = transforms.Compose([\n",
    "    transforms.Grayscale(),\n",
    "    transforms.Resize((28, 28)),\n",
    "    transforms.ToTensor(),\n",
    "    transforms.Normalize(mean=0.5, std=0.5)])\n",
    "svhn_trainset = datasets.SVHN(root=\"data\", split=\"train\", transform=svhn_transforms)\n",
    "svhn_testset = datasets.SVHN(root=\"data\", split=\"test\", transform=svhn_transforms)"
   ]
  },
  {
   "cell_type": "code",
   "execution_count": null,
   "id": "9a428539-0b18-43a5-a795-286fc9cfdbd0",
   "metadata": {},
   "outputs": [],
   "source": [
    "mnist_transforms = transforms.Compose([\n",
    "    transforms.ToTensor(),\n",
    "    transforms.Normalize(mean=0.5, std=0.5)])\n",
    "mnist_trainset = datasets.MNIST(root=\"data\", train=True, transform=mnist_transforms)\n",
    "mnist_testset = datasets.MNIST(root=\"data\", train=False, transform=mnist_transforms)"
   ]
  },
  {
   "cell_type": "code",
   "execution_count": null,
   "id": "43e7b102-1149-477f-8e8f-ec08e57643c4",
   "metadata": {},
   "outputs": [],
   "source": [
    "class LeNet(nn.Module):\n",
    "    \"\"\"See Hoffman et al. (2017).\"\"\"\n",
    "    def __init__(self):\n",
    "        super(LeNet, self).__init__()\n",
    "        self.feature_extractor = nn.Sequential(\n",
    "            nn.Conv2d(in_channels=1, out_channels=20, kernel_size=5),\n",
    "            nn.MaxPool2d(kernel_size=2),\n",
    "            nn.ReLU(),\n",
    "            nn.Conv2d(20, 50, 5),\n",
    "            nn.Dropout2d(p=0.5),\n",
    "            nn.MaxPool2d(2),\n",
    "            nn.ReLU(),\n",
    "            nn.Flatten(),\n",
    "            nn.Linear(50 * 4 * 4, 500)).to(DEVICE)\n",
    "        self.classifier = nn.Sequential(\n",
    "            nn.ReLU(),\n",
    "            nn.Dropout(0.5),\n",
    "            nn.Linear(500, N_CLASSES)).to(DEVICE)\n",
    "\n",
    "    def forward(self, X):\n",
    "        return self.classifier(self.feature_extractor(X))\n",
    "\n",
    "    @torch.no_grad()\n",
    "    def predict(self, dataset):\n",
    "        self.eval()\n",
    "        dataloader = DataLoader(dataset, batch_size=BS)\n",
    "        return torch.concat([self(batch[0].to(DEVICE)) for batch in dataloader]).cpu()\n",
    "\n",
    "    def scores(self, logits):\n",
    "        return F.softmax(logits, dim=-1)\n",
    "\n",
    "    @torch.no_grad()\n",
    "    def test(self, testset):\n",
    "        y_pred = torch.argmax(self.scores(self.predict(testset)), dim=-1)\n",
    "        y = torch.concat([batch[-1] for batch in DataLoader(testset, batch_size=BS)])\n",
    "        return torch.mean((y_pred == y).type(torch.float)).item()\n",
    "\n",
    "    def train_epoch(self, trainloader, optimiser):\n",
    "        self.train()\n",
    "        for X_batch, y_batch in trainloader:\n",
    "            optimiser.zero_grad()\n",
    "            loss = F.cross_entropy(self(X_batch.to(DEVICE)), y_batch.to(DEVICE))\n",
    "            loss.backward()\n",
    "            optimiser.step()\n",
    "        return self\n",
    "\n",
    "    def train_epochs(self, trainset, testset, hyperparams, modelname):\n",
    "        optimiser = hyperparams[\"optimiser\"](self.parameters(), lr=hyperparams[\"lr\"], weight_decay=hyperparams[\"wd\"])\n",
    "        trainloader = DataLoader(trainset, batch_size=hyperparams[\"bs\"], shuffle=True)\n",
    "        accuracies = np.zeros(hyperparams[\"n_epochs\"] + 1)\n",
    "        accuracies[0] = self.test(testset)\n",
    "        print(0, accuracies[0])\n",
    "        for epoch in range(1, hyperparams[\"n_epochs\"] + 1):\n",
    "            self.train_epoch(trainloader, optimiser)\n",
    "            accuracies[epoch] = self.test(testset)\n",
    "            print(epoch, accuracies[epoch])\n",
    "        torch.save(self.state_dict(), MODELPATH.format(modelname))\n",
    "        fig, ax = plt.subplots()\n",
    "        ax.scatter(np.arange(hyperparams[\"n_epochs\"] + 1), accuracies)\n",
    "        return self\n",
    "    \n",
    "    def load(self, modelname):\n",
    "        self.load_state_dict(torch.load(MODELPATH.format(modelname)))\n",
    "        return self"
   ]
  },
  {
   "cell_type": "code",
   "execution_count": null,
   "id": "8bb631a6-a493-4154-bdf9-dab38f77f9cf",
   "metadata": {},
   "outputs": [],
   "source": [
    "HYPERPARAMS = {\n",
    "    \"bs\": 128,\n",
    "    \"n_epochs\": 60,\n",
    "    \"optimiser\": optim.Adam,\n",
    "    \"lr\": 2e-4,\n",
    "    \"wd\": 1e-5}"
   ]
  },
  {
   "cell_type": "code",
   "execution_count": null,
   "id": "cc2c6ebd-1cf6-4527-8332-208f6ef47c22",
   "metadata": {},
   "outputs": [],
   "source": [
    "# target only: aim for 99.2 ± 0.1\n",
    "lenet_target = LeNet()\n",
    "#lenet_target.train_epochs(mnist_trainset, mnist_testset, HYPERPARAMS, \"target\")\n",
    "lenet_target.load(\"target\")\n",
    "lenet_target.test(mnist_testset)"
   ]
  },
  {
   "cell_type": "code",
   "execution_count": null,
   "id": "47f65ff7-337b-4079-92db-f2782cfdd05b",
   "metadata": {},
   "outputs": [],
   "source": [
    "# source only: aim for 67.1 ± 0.6\n",
    "lenet_source = LeNet()\n",
    "#lenet_source.train_epochs(svhn_trainset, mnist_testset, HYPERPARAMS, \"source\")\n",
    "lenet_source.load(\"source\")\n",
    "lenet_source.test(mnist_testset)"
   ]
  },
  {
   "cell_type": "code",
   "execution_count": null,
   "id": "bb776663-257e-46ed-a1cf-713eda6f68fe",
   "metadata": {},
   "outputs": [],
   "source": [
    "def ada(model, target_trainset, target_testset, params):\n",
    "    idx_unannotated = set(range(len(target_trainset)))\n",
    "    idx_annotated = set()\n",
    "    accuracies = np.zeros(params[\"n_rounds\"] + 1)\n",
    "    accuracies[0] = model.test(target_testset)\n",
    "    print(0, accuracies[0])\n",
    "    for r in range(1, params[\"n_rounds\"] + 1):\n",
    "        idx_query = params[\"strategy\"](model, target_trainset, idx_unannotated, params[\"query_size\"])\n",
    "        idx_unannotated -= idx_query\n",
    "        idx_annotated |= idx_query\n",
    "        optimiser = params[\"optimiser\"](model.parameters(), lr=params[\"lr\"], weight_decay=params[\"wd\"])\n",
    "        scheduler = params[\"scheduler\"](optimiser, step_size=params[\"step_size\"], gamma=params[\"gamma\"])\n",
    "        target_trainsubset = Subset(target_trainset, tuple(idx_annotated))\n",
    "        target_trainloader = DataLoader(target_trainsubset, batch_size=params[\"bs\"], shuffle=True)\n",
    "        for epoch in range(1, params[\"n_epochs\"] + 1):\n",
    "            model.train_epoch(target_trainloader, optimiser)\n",
    "            scheduler.step()\n",
    "        accuracies[r] = model.test(target_testset)\n",
    "        print(r, accuracies[r])\n",
    "    return accuracies"
   ]
  },
  {
   "cell_type": "code",
   "execution_count": null,
   "id": "64f8df22-88c0-4731-a7cc-681fe024bf35",
   "metadata": {},
   "outputs": [],
   "source": [
    "ADA_PARAMS = {\n",
    "    \"n_rounds\": 30,\n",
    "    \"query_size\": 10,\n",
    "    \"n_epochs\": 60,\n",
    "    \"bs\": 128,\n",
    "    \"optimiser\": optim.Adam,\n",
    "    \"lr\": 2e-4,\n",
    "    \"wd\": 1e-5,\n",
    "    \"scheduler\": optim.lr_scheduler.StepLR,\n",
    "    \"step_size\": 20,\n",
    "    \"gamma\": 0.5}"
   ]
  },
  {
   "cell_type": "code",
   "execution_count": null,
   "id": "62575ba7-eb14-4988-ac78-4a751e5f485b",
   "metadata": {},
   "outputs": [],
   "source": [
    "def uniform(model, target_trainset, idx_unannotated, query_size):\n",
    "    return set(random.sample(tuple(idx_unannotated), query_size))\n",
    "\n",
    "ADA_PARAMS[\"strategy\"] = uniform\n",
    "lenet_uniform = LeNet().load(\"source\")\n",
    "accuracies_uniform = ada(lenet_uniform, mnist_trainset, mnist_testset, ADA_PARAMS)\n",
    "lenet_uniform.test(mnist_testset)"
   ]
  },
  {
   "cell_type": "code",
   "execution_count": null,
   "id": "fbbb9347-949a-4e8a-95f2-1afc42c5f611",
   "metadata": {},
   "outputs": [],
   "source": [
    "def entropy(model, target_trainset, idx_unannotated, query_size):\n",
    "    idx_unannotated = np.array(tuple(idx_unannotated))\n",
    "    logits = model.predict(Subset(target_trainset, idx_unannotated))\n",
    "    scores = model.scores(logits)\n",
    "    entropies = torch.sum(entr(scores), dim=-1)\n",
    "    idx = torch.argsort(entropies, descending=True)[:query_size]\n",
    "    return set(idx_unannotated[idx])\n",
    "\n",
    "ADA_PARAMS[\"strategy\"] = entropy\n",
    "lenet_entropy = LeNet().load(\"source\")\n",
    "accuracies_entropy = ada(lenet_entropy, mnist_trainset, mnist_testset, ADA_PARAMS)\n",
    "lenet_entropy.test(mnist_testset)"
   ]
  },
  {
   "cell_type": "code",
   "execution_count": null,
   "id": "5d16fd78-0c86-492a-9481-566e77b36595",
   "metadata": {},
   "outputs": [],
   "source": [
    "class MCLeNet(LeNet):\n",
    "    \"\"\"See Hoffman et al. (2017).\"\"\"\n",
    "    def __init__(self, T):\n",
    "        super(MCLeNet, self).__init__()\n",
    "        self.T = T\n",
    "\n",
    "    @torch.no_grad()\n",
    "    def predict(self, dataset):\n",
    "        self.train()\n",
    "        dataloader = DataLoader(dataset, batch_size=BS)\n",
    "        logits = torch.empty(self.T, len(dataset), N_CLASSES, device=DEVICE)\n",
    "        for t in range(self.T):\n",
    "            logits[t] = torch.concat([self(batch[0].to(DEVICE)) for batch in dataloader])\n",
    "        return logits.cpu()\n",
    "    \n",
    "    def scores(self, logits):\n",
    "        return torch.sum(F.softmax(logits, dim=-1), dim=0) / self.T\n",
    "\n",
    "mclenet_entropy = MCLeNet(T=20)\n",
    "mclenet_entropy.load(\"source\")\n",
    "mclenet_entropy.test(mnist_testset)"
   ]
  },
  {
   "cell_type": "code",
   "execution_count": null,
   "id": "d1d0d4cb-171a-49bf-9101-82bdc46ccf16",
   "metadata": {},
   "outputs": [],
   "source": [
    "ADA_PARAMS[\"strategy\"] = entropy\n",
    "mclenet_entropy = MCLeNet(T=20).load(\"source\")\n",
    "accuracies_mcentropy = ada(mclenet_entropy, mnist_trainset, mnist_testset, ADA_PARAMS)\n",
    "mclenet_entropy.test(mnist_testset)"
   ]
  },
  {
   "cell_type": "code",
   "execution_count": null,
   "id": "193b4931-4ea2-4b23-864c-ba2ef91a659a",
   "metadata": {},
   "outputs": [],
   "source": [
    "def bald(model, target_trainset, idx_unannotated, query_size):\n",
    "    \"\"\"Bayesian active learning by disagreement (BALD).\"\"\"\n",
    "    idx_unannotated = np.array(tuple(idx_unannotated))\n",
    "    logits = model.predict(Subset(target_trainset, idx_unannotated))\n",
    "    scores = model.scores(logits)\n",
    "    balds = torch.sum(entr(scores), dim=-1) - torch.sum(entr(F.softmax(logits, dim=-1)), dim=(0, 2)) / model.T\n",
    "    idx = torch.argsort(balds, descending=True)[:query_size]\n",
    "    return set(idx_unannotated[idx])\n",
    "\n",
    "ADA_PARAMS[\"strategy\"] = bald\n",
    "mclenet_bald = MCLeNet(T=20).load(\"source\")\n",
    "mclenet_bald, accuracies_bald = ada(mclenet_bald, mnist_trainset, mnist_testset, ADA_PARAMS)\n",
    "mclenet_bald.test(mnist_testset)"
   ]
  },
  {
   "cell_type": "code",
   "execution_count": null,
   "id": "6aa99b7b-3840-4e6c-9546-0463c86be0b3",
   "metadata": {},
   "outputs": [],
   "source": [
    "class DeepEnsemble(nn.Module):\n",
    "    def __init__(self, M):\n",
    "        super(DeepEnsemble, self).__init__()\n",
    "        self.M = M\n",
    "        self.models = []\n",
    "        for i, m in enumerate(range(M)):\n",
    "            self.models.append(LeNet())\n",
    "            self.add_module(\"model-\" + str(i), self.models[i])\n",
    "\n",
    "    @torch.no_grad()\n",
    "    def predict(self, dataset):\n",
    "        logits = torch.empty(self.M, len(dataset), N_CLASSES)\n",
    "        for m, model in enumerate(self.models):\n",
    "            logits[m] = model.predict(dataset)\n",
    "        return logits\n",
    "\n",
    "    def scores(self, logits):\n",
    "        return torch.sum(F.softmax(logits, dim=-1), dim=0) / self.M\n",
    "\n",
    "    @torch.no_grad()\n",
    "    def test(self, testset):\n",
    "        y_pred = torch.argmax(self.scores(self.predict(testset)), dim=-1)\n",
    "        y = torch.concat([batch[-1] for batch in DataLoader(testset, batch_size=BS)])\n",
    "        return torch.mean((y_pred == y).type(torch.float)).item()\n",
    "\n",
    "    def train_epoch(self, trainloader, optimiser):\n",
    "        for model in self.models:\n",
    "            model.train_epoch(trainloader, optimiser)\n",
    "        return self\n",
    "\n",
    "    def train_epochs(self, trainset, testset, hyperparams, modelname):\n",
    "        for i, model in enumerate(self.models):\n",
    "            model.train_epochs(trainset, testset, hyperparams, modelname + \"-\" + str(i))\n",
    "        return self\n",
    "\n",
    "    def load(self, modelname):\n",
    "        for i, model in enumerate(self.models):\n",
    "            modelpath = MODELPATH.format(modelname + \"-\" + str(i))\n",
    "            model.load_state_dict(torch.load(modelpath))\n",
    "        return self\n",
    "    \n",
    "ensemble = DeepEnsemble(M=5)\n",
    "#ensemble.train_epochs(svhn_trainset, mnist_testset, HYPERPARAMS, \"source\")\n",
    "ensemble.load(\"source\")\n",
    "ensemble.test(mnist_testset)"
   ]
  },
  {
   "cell_type": "code",
   "execution_count": null,
   "id": "1039c199-d463-4c4f-b581-81e5d1960bef",
   "metadata": {},
   "outputs": [],
   "source": [
    "ADA_PARAMS[\"strategy\"] = entropy\n",
    "ensemble_entropy = DeepEnsemble(M=5).load(\"source\")\n",
    "accuracies_ensemble_entropy = ada(ensemble_entropy, mnist_trainset, mnist_testset, ADA_PARAMS)\n",
    "ensemble_entropy.test(mnist_testset)"
   ]
  },
  {
   "cell_type": "code",
   "execution_count": null,
   "id": "3d0ebf51-668c-4dfe-99bc-afeb2318eab4",
   "metadata": {},
   "outputs": [],
   "source": [
    "fig, ax = plt.subplots()\n",
    "x = np.arange(ADA_PARAMS[\"n_rounds\"] + 1)\n",
    "ax.scatter(x, acc_uniform, label=\"uniform\")\n",
    "ax.scatter(x, acc_entr, label=\"entropy\")\n",
    "ax.scatter(x[:len(acc_bald)], acc_bald, label=\"BALD\")\n",
    "#ax.scatter(x, acc_clue, label=\"CLUE\")\n",
    "ax.set_xlabel(\"round\")\n",
    "ax.set_ylabel(\"accuracy\")\n",
    "ax.legend()"
   ]
  }
 ],
 "metadata": {
  "kernelspec": {
   "display_name": "Python 3 (ipykernel)",
   "language": "python",
   "name": "python3"
  },
  "language_info": {
   "codemirror_mode": {
    "name": "ipython",
    "version": 3
   },
   "file_extension": ".py",
   "mimetype": "text/x-python",
   "name": "python",
   "nbconvert_exporter": "python",
   "pygments_lexer": "ipython3",
   "version": "3.10.4"
  }
 },
 "nbformat": 4,
 "nbformat_minor": 5
}
